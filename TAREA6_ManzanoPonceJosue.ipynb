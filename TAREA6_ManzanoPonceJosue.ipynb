{
  "nbformat": 4,
  "nbformat_minor": 0,
  "metadata": {
    "colab": {
      "name": "TAREA6_ManzanoPonceJosue.ipynb",
      "provenance": [],
      "authorship_tag": "ABX9TyNISApqCG/cPn46boEUNwqj",
      "include_colab_link": true
    },
    "kernelspec": {
      "name": "python3",
      "display_name": "Python 3"
    },
    "language_info": {
      "name": "python"
    }
  },
  "cells": [
    {
      "cell_type": "markdown",
      "metadata": {
        "id": "view-in-github",
        "colab_type": "text"
      },
      "source": [
        "<a href=\"https://colab.research.google.com/github/JosueManzano7/CompuyProgra2022G1157/blob/main/TAREA6_ManzanoPonceJosue.ipynb\" target=\"_parent\"><img src=\"https://colab.research.google.com/assets/colab-badge.svg\" alt=\"Open In Colab\"/></a>"
      ]
    },
    {
      "cell_type": "markdown",
      "metadata": {
        "id": "b7x0OEU-J2gK"
      },
      "source": [
        "#TAREA 6- Manzano Ponce Josué"
      ]
    },
    {
      "cell_type": "markdown",
      "metadata": {
        "id": "oVmUUUG3nULa"
      },
      "source": [
        "#PROBLEMA 2.1\n",
        "El número de sonidos emitidos por un grillo en un minuto, es una función de la \n",
        "temperatura. Como resultado de esto, es posible determinar el nivel de la tempe\u0002ratura haciendo uso de un grillito como termómetro.\n",
        "\n",
        "La fórmula para la función es:\n",
        "T = h / 4 + 40\n",
        "Donde: T representa la temperatura en grados Fahrenheit y N el número\n",
        "de sonidos emitidos por minuto\n",
        "\n",
        "Construya un programa que le permita calcular la temperatura, te\u0002niendo en cuenta el número de sonidos emitidos por el grillo."
      ]
    },
    {
      "cell_type": "code",
      "metadata": {
        "colab": {
          "base_uri": "https://localhost:8080/"
        },
        "id": "v-OdtuZQnOWO",
        "outputId": "6fb03f60-9dc0-44be-afe7-321b77411298"
      },
      "source": [
        "N=int(input(\"Dame el numero de sonidos emitidos: \"))\n",
        "if N>0:\n",
        "    T=(N/4)+40\n",
        "    print(\"Temperatura: \", T)"
      ],
      "execution_count": null,
      "outputs": [
        {
          "output_type": "stream",
          "name": "stdout",
          "text": [
            "Dame el numero de sonidos emitidos: 8\n",
            "Temperatura:  42.0\n"
          ]
        }
      ]
    },
    {
      "cell_type": "markdown",
      "metadata": {
        "id": "2gEYW4eIn-qg"
      },
      "source": [
        "#PROBLEMA 2.2\n",
        "Construya un programa tal que dado como datos los valores enteros P y Q, determine si los mismos satisfacen la siguiente expresión:\n",
        "\n",
        "P^3 + Q^4 - 2*P^2 < 680\n",
        "\n",
        "En caso afirmativo debe imprimir los valores P y Q"
      ]
    },
    {
      "cell_type": "code",
      "metadata": {
        "colab": {
          "base_uri": "https://localhost:8080/"
        },
        "id": "Uqb5YqghrCo4",
        "outputId": "4a8092ee-cfb6-4706-8faa-025bd8bd7aaa"
      },
      "source": [
        "P=int(input(\"Dame un valor entero: \"))\n",
        "Q=int(input(\"Dame otro valor entero: \"))\n",
        "EXP=P**3+Q**4-2*P**2\n",
        "if EXP<680:\n",
        "    print(f\"P: {P} Q: {Q}\")"
      ],
      "execution_count": null,
      "outputs": [
        {
          "output_type": "stream",
          "name": "stdout",
          "text": [
            "Dame un valor entero: 3\n",
            "Dame otro valor entero: 5\n",
            "P: 3 Q: 5\n"
          ]
        }
      ]
    },
    {
      "cell_type": "markdown",
      "metadata": {
        "id": "VGwiI-xpsdaN"
      },
      "source": [
        "#PROBLEMA 2.3\n",
        "Las raíces reales de la expresión ax2 +bx+c=0 se obtienen a través de la fórmula:\n",
        "\n",
        "x=(-b ± sqrt(b**2-4ac))/2a\n",
        "\n",
        "Haga el programa para calcular las raíces reales, de ser posible, de \n",
        "una ecuación de segundo grado."
      ]
    },
    {
      "cell_type": "code",
      "metadata": {
        "colab": {
          "base_uri": "https://localhost:8080/"
        },
        "id": "1Z5jzDuPthJd",
        "outputId": "872ff576-2369-48a3-ca22-c410db112965"
      },
      "source": [
        "import math\n",
        "A=float(input(\"Dame el valor del termino cuadrático \\\"Ax^2\\\" debe ser mayor a 0: \"))\n",
        "B=float(input(\"Dame el valor del termino lineal \\\"Bx\\\": \"))\n",
        "C=float(input(\"Dame el valor del término lineal \\\"C\\\": \"))\n",
        "if A==0:\n",
        "    print(\"A, debe ser mayor que 0\")\n",
        "else:\n",
        "    DIS=B**2-4*A*C\n",
        "    if DIS>=0:\n",
        "        X1=(-B+math.sqrt(B**2-(4*A*C)))/(2*A)\n",
        "        X2=(-B-math.sqrt(B**2-(4*A*C)))/(2*A)\n",
        "        print(f\"Raices reales: X1= {round(X1,3)} y X2={round(X2,3)}\")"
      ],
      "execution_count": null,
      "outputs": [
        {
          "output_type": "stream",
          "name": "stdout",
          "text": [
            "Dame el valor del termino cuadrático \"Ax^2\" debe ser mayor a 0: 3\n",
            "Dame el valor del termino lineal \"Bx\": 9\n",
            "Dame el valor del término lineal \"C\": 1.5\n",
            "Raices reales: X1= -0.177 y X2=-2.823\n"
          ]
        }
      ]
    },
    {
      "cell_type": "markdown",
      "metadata": {
        "id": "hM7t_-hlUWU4"
      },
      "source": [
        "#PROBLEMA 2.4\n",
        "Construya un programa tal que dado como datos la matrícula y 5 califica\u0002ciones de un alumno; imprima la matrícula, el promedio y la palabra “aprobado” si el alumno tiene un promedio mayor o igual que 6, y la palabra “no aprobado” \n",
        "en caso contrario.\n"
      ]
    },
    {
      "cell_type": "code",
      "metadata": {
        "colab": {
          "base_uri": "https://localhost:8080/"
        },
        "id": "CIjE3i7kUd79",
        "outputId": "11749f47-0748-4476-a531-97a690b29589"
      },
      "source": [
        "MAT=int(input(\"Dame tu matricula: \"))\n",
        "CAL1=float(input(\"Dame tu calificación N°1: \"))\n",
        "CAL2=float(input(\"Dame tu calificación N°2: \"))\n",
        "CAL3=float(input(\"Dame tu calificación N°3: \"))\n",
        "CAL4=float(input(\"Dame tu calificación N°4: \"))\n",
        "CAL5=float(input(\"Dame tu calificación N°5: \"))\n",
        "PRO=(CAL1+CAL2+CAL3+CAL4+CAL5)/5\n",
        "if PRO>=6:\n",
        "    print(f\"{MAT}, {PRO}, \\\"APROBADO\\\"\")\n",
        "else:\n",
        "    print(f\"MATRICULA: {MAT}, PROMEDIO: {PRO}, \\\"NO APROBADO\\\"\")"
      ],
      "execution_count": null,
      "outputs": [
        {
          "output_type": "stream",
          "name": "stdout",
          "text": [
            "Dame tu matricula: 422137306\n",
            "Dame tu calificación N°1: 9\n",
            "Dame tu calificación N°2: 9.25\n",
            "Dame tu calificación N°3: 8.10\n",
            "Dame tu calificación N°4: 9.80\n",
            "Dame tu calificación N°5: 10\n",
            "422137306, 9.23, \"APROBADO\"\n"
          ]
        }
      ]
    },
    {
      "cell_type": "markdown",
      "metadata": {
        "id": "JKCefVZ0WvA9"
      },
      "source": [
        "#PROBLEMA 2.5\n",
        "Construya un programa tal que dado como dato un número entero, de\u0002termine e imprima si el mismo es positivo, negativo o nulo.\n"
      ]
    },
    {
      "cell_type": "code",
      "metadata": {
        "colab": {
          "base_uri": "https://localhost:8080/"
        },
        "id": "eTpAkSShW4xN",
        "outputId": "6a2205b8-537e-40cf-8fda-6a92fdfd23b8"
      },
      "source": [
        "NUM=int(input(\"Dame un numero entero: \"))\n",
        "if NUM>0:\n",
        "    print(\"NUMERO POSITIVO\")\n",
        "else:\n",
        "    if NUM==0:\n",
        "        print(\"NUMERO NULO\")\n",
        "    else: \n",
        "        print(\"NUMERO NEGATIVO\")\n"
      ],
      "execution_count": null,
      "outputs": [
        {
          "output_type": "stream",
          "name": "stdout",
          "text": [
            "Dame un numero: -4\n",
            "NUMERO NEGATIVO\n"
          ]
        }
      ]
    },
    {
      "cell_type": "markdown",
      "metadata": {
        "id": "mTePTl5RYxh9"
      },
      "source": [
        "#PROBLEMA 2.6\n",
        "Dado un número entero A, haga un programa para determinar si el mismo es par, impar o nulo."
      ]
    },
    {
      "cell_type": "code",
      "metadata": {
        "colab": {
          "base_uri": "https://localhost:8080/"
        },
        "id": "ORMQivAkZkNG",
        "outputId": "2116383f-4bf5-4c87-b138-0cc32a60343c"
      },
      "source": [
        "A=int(input(\"Dame un número entero: \"))\n",
        "if A==0:\n",
        "    print(\"NUMERO NULO\")\n",
        "else: \n",
        "    if A%2==0:\n",
        "        print(\"NUMERO PAR\")\n",
        "    else:\n",
        "        print(\"NUMERO IMPAR\")"
      ],
      "execution_count": null,
      "outputs": [
        {
          "output_type": "stream",
          "name": "stdout",
          "text": [
            "Dame un número entero: 12\n",
            "NUMERO PAR\n"
          ]
        }
      ]
    },
    {
      "cell_type": "markdown",
      "metadata": {
        "id": "ThwEtDW3awLs"
      },
      "source": [
        "#PROBLEMA 2.7\n",
        "Construya un programa tal que dado como datos de entrada tres núme\u0002ros enteros, determine si los mismos están en orden creciente."
      ]
    },
    {
      "cell_type": "code",
      "metadata": {
        "colab": {
          "base_uri": "https://localhost:8080/"
        },
        "id": "qAzdcKbfbT8G",
        "outputId": "395bfc18-09b2-4ffd-a5da-5881de696cc5"
      },
      "source": [
        "A=int(input(\"Dame el numero entero 1: \"))\n",
        "B=int(input(\"Dame el numero entero 2: \"))\n",
        "C=int(input(\"Dame el numero entero 3: \"))\n",
        "if A<B:\n",
        "    if B<C:\n",
        "        print(\"LOS NUMEROS ESTAN EN ORDEN CRECIENTE\")\n",
        "    else:\n",
        "        print(\"LOS NUMEROS NO ESTAN EN ORDEN CRECIENTE\")\n",
        "else:\n",
        "    print(\"LOS NUMEROS NO ESTAN EN ORDEN CRECIENTE\")"
      ],
      "execution_count": null,
      "outputs": [
        {
          "output_type": "stream",
          "name": "stdout",
          "text": [
            "Dame el numero entero 1: 10\n",
            "Dame el numero entero 2: 20\n",
            "Dame el numero entero 3: 100\n",
            "LOS NUMEROS ESTAN EN ORDEN CRECIENTE\n"
          ]
        }
      ]
    },
    {
      "cell_type": "markdown",
      "metadata": {
        "id": "54FTbYTncnTH"
      },
      "source": [
        "#PROBLEMA 2.8\n",
        "En una tienda efectúan un descuento a los clientes dependiendo del monto de la compra. El descuento se efectúa con base en el siguiente criterio:\n",
        "\n",
        "- Si el monto es menor que \\$500-> no hay descuento.\n",
        "\n",
        "- Si el monto está comprendido entre \\$500\\ y   \\$1000\n",
        "inclusive -> 5% de descuento.\n",
        "\n",
        "- Si el monto está comprendido entre \\$1 000 y \\$7 000 \n",
        "inclusive —> 11% de descuento.\n",
        "\n",
        "- Si el monto está comprendido entre \\$7 000 y \\$15 000 \n",
        "inclusive —> 18% de descuento.\n",
        "\n",
        "- Si el monto es mayor a \\$15 000 -> 25% de descuento.\n",
        "\n",
        "Construya un programa tal que dado el monto de la compra de un \n",
        "cliente, determine lo que el mismo debe pagar.\n"
      ]
    },
    {
      "cell_type": "code",
      "metadata": {
        "colab": {
          "base_uri": "https://localhost:8080/"
        },
        "id": "bi8JBCLgeIvG",
        "outputId": "94dde170-e3bd-4d4f-df7c-d40a12fae6fe"
      },
      "source": [
        "COMPRA=float(input(\"Dame la cantidad de tu compra: $\"))\n",
        "if COMPRA<500:\n",
        "    PAGAR=COMPRA\n",
        "else:\n",
        "    if COMPRA<=1000:\n",
        "        PAGAR=COMPRA-(COMPRA*0.05)\n",
        "    else:\n",
        "        if COMPRA<=7000:\n",
        "            PAGAR=COMPRA-(COMPRA*0.11)\n",
        "        else:\n",
        "            if COMPRA<=15000:\n",
        "                PAGAR=COMPRA-(COMPRA*0.18)\n",
        "            else:  \n",
        "                PAGAR=COMPRA-(COMPRA*0.25)\n",
        "print(round(PAGAR,2))"
      ],
      "execution_count": null,
      "outputs": [
        {
          "output_type": "stream",
          "name": "stdout",
          "text": [
            "Dame la cantidad de tu compra: $25314.18\n",
            "18985.64\n"
          ]
        }
      ]
    },
    {
      "cell_type": "markdown",
      "metadata": {
        "id": "yxOrWSxVgACn"
      },
      "source": [
        "#PROBLEMA 2.9\n",
        "En un cierto país el impuesto que se debe pagar por los artículos se calcula mediante la siguiente regla: los primeros \\$20 no causan impuesto, los siguientes \\$20 \n",
        "tienen el 30% de impuesto y el resto el 40% de impuesto, pero si el costo del producto es mayor a \\$500, entonces en lugar del 40% se cobra el 50%.\n",
        "\n",
        "Diseñe un programa que lea el costo básico de un artículo y calcule su precio total (precio total = precio básico + impuesto)."
      ]
    },
    {
      "cell_type": "code",
      "metadata": {
        "colab": {
          "base_uri": "https://localhost:8080/"
        },
        "id": "JmeqiJL9gXJH",
        "outputId": "9e4f206b-a7d3-4bf7-8819-49167805671b"
      },
      "source": [
        "PRUEBAS=float(input(\"Dame el costo basico del articulo: $\"))\n",
        "if PRUEBAS>500:\n",
        "    IMP=20*0.30+(PRUEBAS-40)*0.5\n",
        "else:\n",
        "    if PRUEBAS>40:\n",
        "        IMP=20*0.30+(PRUEBAS-40)*0.4\n",
        "    else:\n",
        "        if PRUEBAS>20:\n",
        "            IMP=(PRUEBAS-20)*0.3\n",
        "        else:\n",
        "            IMP=0\n",
        "PRETOT=PRUEBAS+IMP\n",
        "print(\"COSTE BASICO: $\", round(PRUEBAS,2))\n",
        "print(\"COSTO CON IMPUESTO: $\", round(PRETOT,2))"
      ],
      "execution_count": null,
      "outputs": [
        {
          "output_type": "stream",
          "name": "stdout",
          "text": [
            "Dame el costo basico del articulo: $527.5\n",
            "COSTE BASICO: $ 527.5\n",
            "COSTO CON IMPUESTO: $ 777.25\n"
          ]
        }
      ]
    },
    {
      "cell_type": "markdown",
      "metadata": {
        "id": "xRTAjTDcj1uH"
      },
      "source": [
        "#PROBLEMA 2.10\n",
        "Dado como datos tres números reales, identifique cuál es el mayor. Considere \n",
        "que los números pueden ser iguales. Desarrolle el programa correspondiente\n"
      ]
    },
    {
      "cell_type": "code",
      "metadata": {
        "colab": {
          "base_uri": "https://localhost:8080/"
        },
        "id": "v4B7YeoXkOCV",
        "outputId": "fd2be6fd-01dd-4827-e5b8-aca336940c4d"
      },
      "source": [
        "A=float(input(\"Dame el numero entero 1: \"))\n",
        "B=float(input(\"Dame el numero entero 2: \"))\n",
        "C=float(input(\"Dame el numero entero 3: \"))\n",
        "if A>B:\n",
        "    if A>C:\n",
        "        print(\"A ES EL MAYOR: \", A)\n",
        "    else:\n",
        "        if A==C:\n",
        "            print(\"A Y C SON LOS MAYORES: \", A, C)\n",
        "        else:\n",
        "            print(\"C ES EL MAYOR: \",C)\n",
        "else:\n",
        "    if A==B:\n",
        "        if A>C:}\n",
        "            print(\"A Y B SON MAYORES: \",A, B)\n",
        "        else:\n",
        "            if A==C:\n",
        "                print(\"A, B, C SON IGUALES: \", A, B, C)\n",
        "            else:\n",
        "                print(\"C ES EL MAYOR: \", C)\n",
        "    else:\n",
        "        if B>C:\n",
        "            print(\"B ES EL MAYOR: \", B)\n",
        "        else:\n",
        "            if B==C:\n",
        "                print(\"B Y C SON LOS MAYORES: \", B, C)\n",
        "            else:\n",
        "                print(\"C ES EL MAYOR: \", C)"
      ],
      "execution_count": null,
      "outputs": [
        {
          "output_type": "stream",
          "name": "stdout",
          "text": [
            "Dame el numero entero 1: 7\n",
            "Dame el numero entero 2: 7\n",
            "Dame el numero entero 3: 4\n",
            "A Y B SON MAYORES:  7.0 7.0\n"
          ]
        }
      ]
    },
    {
      "cell_type": "markdown",
      "metadata": {
        "id": "5w78hfrF42Ok"
      },
      "source": [
        "#PROBLEMA 2.11\n",
        "El costo de las llamadas telefónicas internacionales depende de la zona geográfica en la que se encuentre el país destino y del número de minutos hablados. En la \n",
        "siguiente tabla se presenta el costo del minuto por zona. A cada zona se le ha asociado una clave.\n",
        "\n",
        "\n",
        "CLAVE / ZONA / PRECIO\n",
        "- 12 América del Norte 2\n",
        "- 15 América Central 2.2\n",
        "- 18 América del Sur 4.5\n",
        "- 19 Europa 3.5\n",
        "- 23 Asia 6\n",
        "- 25 África 6\n",
        "- 29 Oceanía 5\n",
        "\n",
        "Construya un programa que le permita calcular e imprimir el costo total de una llamada"
      ]
    },
    {
      "cell_type": "code",
      "metadata": {
        "colab": {
          "base_uri": "https://localhost:8080/"
        },
        "id": "3A0nUH2Z5oR8",
        "outputId": "35714727-7308-4afa-fa11-3541e4159dac"
      },
      "source": [
        "CLAVE=int(input(\"\"\"MARCA LA CLAVE DE LA ZONA DONDE MARCASTE:\n",
        "\\n12.......América del Horte\\n15.......América Central\\n18.......América del Sur\\n19.......Europa\\n23.......Asia\\n25.......África\\n29.......Oceanía\\nCLAVE: \"\"\"))\n",
        "NUMIN=int(input(\"Duración de la llamada en min: \"))\n",
        "if CLAVE==12:\n",
        "    COST=NUMIN*2\n",
        "elif CLAVE==15:\n",
        "    COST=NUMIN*2.2\n",
        "elif CLAVE==18:\n",
        "    COST=NUMIN*4.5\n",
        "elif CLAVE==19:\n",
        "    COST=NUMIN*3.5\n",
        "elif CLAVE==23 or CLAVE==25:\n",
        "    COST=NUMIN*6\n",
        "elif CLAVE==29:\n",
        "    COST=NUMIN*5\n",
        "print(\"COSTO TOTAL DE LA LLAMADA: $\",COST)"
      ],
      "execution_count": 9,
      "outputs": [
        {
          "output_type": "stream",
          "name": "stdout",
          "text": [
            "MARCA LA CLAVE DE LA ZONA DONDE MARCASTE:\n",
            "\n",
            "12.......América del Horte\n",
            "15.......América Central\n",
            "18.......América del Sur\n",
            "19.......Europa\n",
            "23.......Asia\n",
            "25.......África\n",
            "29.......Oceanía\n",
            "CLAVE: 15\n",
            "Duración de la llamada en min: 4\n",
            "COSTO TOTAL DE LA LLAMADA: $ 8.8\n"
          ]
        }
      ]
    },
    {
      "cell_type": "markdown",
      "metadata": {
        "id": "yEu8-AYV-pgS"
      },
      "source": [
        "#PROBLEMA 2.12\n",
        "Escriba un programa que permita calcular lo que hay que pagarle a un \n",
        "trabajador teniendo en cuenta su sueldo y las horas extras trabajadas. Para el pago de horas extras se toma en cuenta la categoría del trabajador.\n",
        "\n",
        "CATEGORIA / PRECIO HORA EXTRA\n",
        "- 1.........................\\$ 30\n",
        "- 2.........................\\$ 38\n",
        "- 3.........................\\$ 50\n",
        "- 4.........................\\$ 70\n",
        "\n",
        "Cada trabajador puede tener como máximo 30 horas extras, si tienen más  sólo se les pagarán 30. A los trabajadores con categoría mayor a 4 no debemos pagarle horas extras.\n"
      ]
    },
    {
      "cell_type": "code",
      "metadata": {
        "colab": {
          "base_uri": "https://localhost:8080/"
        },
        "id": "CUD9_8rZ_O-z",
        "outputId": "34ca87ca-e3b6-4d10-a161-9800aac2b5d9"
      },
      "source": [
        "SUE=float(input(\"Dame tu sueldo: $\"))\n",
        "CATE=int(input(\"Dame tu categoria (1-8): \"))\n",
        "HE=int(input(\"Horas extras trabajadas: \"))\n",
        "if CATE==1:\n",
        "    PHE=30\n",
        "elif CATE==2:\n",
        "    PHE=38\n",
        "elif CATE==3:\n",
        "    PHE=50\n",
        "elif CATE==4:\n",
        "    PHE=70\n",
        "else:\n",
        "    PHE=0\n",
        "if HE>30:\n",
        "    NSUE=SUE+30*PHE\n",
        "else:\n",
        "    NSUE=SUE+HE*PHE\n",
        "print(\"TU SUELDO FINAL ES: $\",NSUE)\n"
      ],
      "execution_count": 16,
      "outputs": [
        {
          "output_type": "stream",
          "name": "stdout",
          "text": [
            "Dame tu sueldo: $1350\n",
            "Dame tu categoria (1-8): 1\n",
            "Horas extras trabajadas: 25\n",
            "TU SUELDO FINAL ES: $ 2100.0\n"
          ]
        }
      ]
    },
    {
      "cell_type": "markdown",
      "metadata": {
        "id": "YJ2WzKOaCQGZ"
      },
      "source": [
        "#PROBLEMA 2.13\n",
        "Construya un programa tal que dado como datos la matricula de un \n",
        "alumno, la carrera en la que está inscrito, su semestre y su promedio; determine si el mismo es apto para pertenecer a alguna de las facultades menores que tiene la universidad. Si el alumno es aceptado teniendo en cuenta las especificaciones que se listan abajo, se debe imprimir su matrícula, carrera y la palabra \n",
        "“aceptado”.\n",
        "Especificaciones para pertenecer a las facultades menores:\n",
        "\n",
        "- Economía: Semestre > 6 y promedio > 8.8\n",
        "- Computación: Semestre > 6 y promedio > 8.5\n",
        "- Administración: Semestre > 5 y promedio > 8.5\n",
        "- Contabilidad: Semestre > 5 y promedio > 8.5\n",
        "\n",
        "\n"
      ]
    },
    {
      "cell_type": "code",
      "metadata": {
        "colab": {
          "base_uri": "https://localhost:8080/"
        },
        "id": "tYL9NX4FC-16",
        "outputId": "a8bdc209-91ed-48e6-e6a3-1da38bb2d76d"
      },
      "source": [
        "MAT=int(input(\"Dame tu N° de matricula: \"))\n",
        "CARR=input(\"Carrera en la que estas inscrito: \")\n",
        "SEM=int(input(\"Semestre aprobado: \"))\n",
        "PROM=float(input(\"Dame tu promedio: \"))\n",
        "if CARR.lower()=='economía' or CARR.lower()=='economia':\n",
        "    if SEM>6 and PROM>=8.8:\n",
        "        print(f\"MATRICULA: {MAT}\\nCARRERA: {CARR.upper()}\\nACEPTADO\")\n",
        "elif CARR.lower()=='computación' or CARR.lower()=='computacion':\n",
        "    if SEM>6 and PROM>=8.5:\n",
        "        print(f\"MATRICULA: {MAT}\\nCARRERA: {CARR.upper()}\\nACEPTADO\")\n",
        "elif CARR.lower()=='contabilidad' or CARR.lower()=='administración' or CARR.lower()=='administracion':\n",
        "    if SEM>5 and PROM>=8.5:\n",
        "        print(f\"MATRICULA: {MAT}\\nCARRERA: {CARR.upper()}\\nACEPTADO\")"
      ],
      "execution_count": 40,
      "outputs": [
        {
          "output_type": "stream",
          "name": "stdout",
          "text": [
            "Dame tu N° de matricula: 25224\n",
            "Carrera en la que estas inscrito: Computación\n",
            "Semestre aprobado: 8\n",
            "Dame tu promedio: 8.7\n",
            "MATRICULA: 25224\n",
            "CARRERA: COMPUTACIÓN\n",
            "ACEPTADO\n"
          ]
        }
      ]
    }
  ]
}