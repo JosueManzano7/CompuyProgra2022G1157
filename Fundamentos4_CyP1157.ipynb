{
  "nbformat": 4,
  "nbformat_minor": 0,
  "metadata": {
    "colab": {
      "name": "Fundamentos4_CyP1157.ipynb",
      "provenance": [],
      "authorship_tag": "ABX9TyMgQCV9HK59JwnKcwGv5Da7",
      "include_colab_link": true
    },
    "kernelspec": {
      "name": "python3",
      "display_name": "Python 3"
    },
    "language_info": {
      "name": "python"
    }
  },
  "cells": [
    {
      "cell_type": "markdown",
      "metadata": {
        "id": "view-in-github",
        "colab_type": "text"
      },
      "source": [
        "<a href=\"https://colab.research.google.com/github/JosueManzano7/CompuyProgra2022G1157/blob/main/Fundamentos4_CyP1157.ipynb\" target=\"_parent\"><img src=\"https://colab.research.google.com/assets/colab-badge.svg\" alt=\"Open In Colab\"/></a>"
      ]
    },
    {
      "cell_type": "markdown",
      "metadata": {
        "id": "6QZ5ERrjjtir"
      },
      "source": [
        "#FECHA: 2 DE DICIEMBRE DE 2021"
      ]
    },
    {
      "cell_type": "markdown",
      "metadata": {
        "id": "e9L7WxbMVLnl"
      },
      "source": [
        "Una función es una unidad de código reutilizable, además de ser un mecanismo para organizar código.\n",
        "\n",
        "La gran ventaja de emplear funciones es simlificar la programación.\n",
        "\n",
        "###Estructura\n",
        "Una función puede tomar culauier cantidad de parámetros de entrada (de cualquier tipo) y retornar únicamente un solo valor de culauiqer tipo de dato.\n",
        "\n",
        "Un parámetro de entrada es un valor que recibe la función para realizar sus operaciones.\n",
        "\n",
        "Con una función se pueden hacer 2 cosas:\n",
        "1. Definirla\n",
        "2. Invocarla (ejecutarla)\n",
        "\n",
        "La gran ventaja de tener una función declarada es que la podemos usar cuando se desee\n",
        "```\n",
        "\n",
        "```"
      ]
    },
    {
      "cell_type": "markdown",
      "metadata": {
        "id": "HuyyB9vUUImO"
      },
      "source": [
        "#Modularidad (Funciones)\n",
        "![fncbloque.jpeg](data:image/jpeg;base64,/9j/4AAQSkZJRgABAQEAYABgAAD/4RDiRXhpZgAATU0AKgAAAAgABAE7AAIAAAAIAAAISodpAAQAAAABAAAIUpydAAEAAAAQAAAQyuocAAcAAAgMAAAAPgAAAAAc6gAAAAgAAAAAAAAAAAAAAAAAAAAAAAAAAAAAAAAAAAAAAAAAAAAAAAAAAAAAAAAAAAAAAAAAAAAAAAAAAAAAAAAAAAAAAAAAAAAAAAAAAAAAAAAAAAAAAAAAAAAAAAAAAAAAAAAAAAAAAAAAAAAAAAAAAAAAAAAAAAAAAAAAAAAAAAAAAAAAAAAAAAAAAAAAAAAAAAAAAAAAAAAAAAAAAAAAAAAAAAAAAAAAAAAAAAAAAAAAAAAAAAAAAAAAAAAAAAAAAAAAAAAAAAAAAAAAAAAAAAAAAAAAAAAAAAAAAAAAAAAAAAAAAAAAAAAAAAAAAAAAAAAAAAAAAAAAAAAAAAAAAAAAAAAAAAAAAAAAAAAAAAAAAAAAAAAAAAAAAAAAAAAAAAAAAAAAAAAAAAAAAAAAAAAAAAAAAAAAAAAAAAAAAAAAAAAAAAAAAAAAAAAAAAAAAAAAAAAAAAAAAAAAAAAAAAAAAAAAAAAAAAAAAAAAAAAAAAAAAAAAAAAAAAAAAAAAAAAAAAAAAAAAAAAAAAAAAAAAAAAAAAAAAAAAAAAAAAAAAAAAAAAAAAAAAAAAAAAAAAAAAAAAAAAAAAAAAAAAAAAAAAAAAAAAAAAAAAAAAAAAAAAAAAAAAAAAAAAAAAAAAAAAAAAAAAAAAAAAAAAAAAAAAAAAAAAAAAAAAAAAAAAAAAAAAAAAAAAAAAAAAAAAAAAAAAAAAAAAAAAAAAAAAAAAAAAAAAAAAAAAAAAAAAAAAAAAAAAAAAAAAAAAAAAAAAAAAAAAAAAAAAAAAAAAAAAAAAAAAAAAAAAAAAAAAAAAAAAAAAAAAAAAAAAAAAAAAAAAAAAAAAAAAAAAAAAAAAAAAAAAAAAAAAAAAAAAAAAAAAAAAAAAAAAAAAAAAAAAAAAAAAAAAAAAAAAAAAAAAAAAAAAAAAAAAAAAAAAAAAAAAAAAAAAAAAAAAAAAAAAAAAAAAAAAAAAAAAAAAAAAAAAAAAAAAAAAAAAAAAAAAAAAAAAAAAAAAAAAAAAAAAAAAAAAAAAAAAAAAAAAAAAAAAAAAAAAAAAAAAAAAAAAAAAAAAAAAAAAAAAAAAAAAAAAAAAAAAAAAAAAAAAAAAAAAAAAAAAAAAAAAAAAAAAAAAAAAAAAAAAAAAAAAAAAAAAAAAAAAAAAAAAAAAAAAAAAAAAAAAAAAAAAAAAAAAAAAAAAAAAAAAAAAAAAAAAAAAAAAAAAAAAAAAAAAAAAAAAAAAAAAAAAAAAAAAAAAAAAAAAAAAAAAAAAAAAAAAAAAAAAAAAAAAAAAAAAAAAAAAAAAAAAAAAAAAAAAAAAAAAAAAAAAAAAAAAAAAAAAAAAAAAAAAAAAAAAAAAAAAAAAAAAAAAAAAAAAAAAAAAAAAAAAAAAAAAAAAAAAAAAAAAAAAAAAAAAAAAAAAAAAAAAAAAAAAAAAAAAAAAAAAAAAAAAAAAAAAAAAAAAAAAAAAAAAAAAAAAAAAAAAAAAAAAAAAAAAAAAAAAAAAAAAAAAAAAAAAAAAAAAAAAAAAAAAAAAAAAAAAAAAAAAAAAAAAAAAAAAAAAAAAAAAAAAAAAAAAAAAAAAAAAAAAAAAAAAAAAAAAAAAAAAAAAAAAAAAAAAAAAAAAAAAAAAAAAAAAAAAAAAAAAAAAAAAAAAAAAAAAAAAAAAAAAAAAAAAAAAAAAAAAAAAAAAAAAAAAAAAAAAAAAAAAAAAAAAAAAAAAAAAAAAAAAAAAAAAAAAAAAAAAAAAAAAAAAAAAAAAAAAAAAAAAAAAAAAAAAAAAAAAAAAAAAAAAAAAAAAAAAAAAAAAAAAAAAAAAAAAAAAAAAAAAAAAAAAAAAAAAAAAAAAAAAAAAAAAAAAAAAAAAAAAAAAAAAAAAAAAAAAAAAAAAAAAAAAAAAAAAAAAAAAAAAAAAAAAAAAAAAAAAAAAAAAAAAAAAAAAAAAAAAAAAAAAAAAAAAAAAAAAAAAAAAAAAAAAAAAAAAAAAAAAAAAAAAAAAAAAAAAAAAAAAAAAAAAAAAAAAAAAAAAAAAAAAAAAAAAAAAAAAAAAAAAAAAAAAAAAAAAAAAAAAAAAAAAAAAAAAAAAAAAAAAAAAAAAAAAAAAAAAAAAAAAAAAAAAAAAAAAAAAAAAAAAAAAAAAAAAAAAAAAAAAAAAAAAAAAAAAAAAAAAAAAAAAAAAAAAAAAAAAAAAAAAAAAAAAAAAAAAAAAAAAAAAAAAAAAAAAAAAAAAAAAAAAAAAAAAAAAAAAAAAAAAAAAAAAAAAAAAAAAAAAAAAAAAAAAAAAAAAAAAAAAAAAAAAAAAAAAAAAAAAAAAAAAAAAAAAAAAAAAAAAAAAAAAAAAAAAAAAAAAAAAAAAAAAAAAAAAAAAAAAAAAAAAAAAAAAAAAAAAAAAAAAAAAAAAAAAAAAAAAAAAAAAAAAAAAAAAAAAAAAAAAAAAAAAAAAAAAAAAAAAAAAAAAAAAAAAAAAAAAAAAAAAAAAAAAAAAAAAAAAAAAAAAAAAAAAAAAAAAAAAAAAAAAAAAAAAAAAAAAAAAAAAAAAAAAAAAAAAAAAAAAAAAAAAAAAAAAAAAAAAAAAAAAAAAAAAAAAAAAAAAAAAAAAAAAAAAAAAAAAAAAAAAAAAAAAAAAAAAAAAAAAAAAAAAAAAAAAAAAAAAAAAAAAAAAAAAAAAAAAAAAAAAAAAAAAAAAAAAAAAAAAAAAAAAAAAAAAAAAAAAAAAAAAAAAAAAAAAAAAAAAAAAAAAAAAAAAExBQkNPTTIAAAWQAwACAAAAFAAAEKCQBAACAAAAFAAAELSSkQACAAAAAzM3AACSkgACAAAAAzM3AADqHAAHAAAIDAAACJQAAAAAHOoAAAAIAAAAAAAAAAAAAAAAAAAAAAAAAAAAAAAAAAAAAAAAAAAAAAAAAAAAAAAAAAAAAAAAAAAAAAAAAAAAAAAAAAAAAAAAAAAAAAAAAAAAAAAAAAAAAAAAAAAAAAAAAAAAAAAAAAAAAAAAAAAAAAAAAAAAAAAAAAAAAAAAAAAAAAAAAAAAAAAAAAAAAAAAAAAAAAAAAAAAAAAAAAAAAAAAAAAAAAAAAAAAAAAAAAAAAAAAAAAAAAAAAAAAAAAAAAAAAAAAAAAAAAAAAAAAAAAAAAAAAAAAAAAAAAAAAAAAAAAAAAAAAAAAAAAAAAAAAAAAAAAAAAAAAAAAAAAAAAAAAAAAAAAAAAAAAAAAAAAAAAAAAAAAAAAAAAAAAAAAAAAAAAAAAAAAAAAAAAAAAAAAAAAAAAAAAAAAAAAAAAAAAAAAAAAAAAAAAAAAAAAAAAAAAAAAAAAAAAAAAAAAAAAAAAAAAAAAAAAAAAAAAAAAAAAAAAAAAAAAAAAAAAAAAAAAAAAAAAAAAAAAAAAAAAAAAAAAAAAAAAAAAAAAAAAAAAAAAAAAAAAAAAAAAAAAAAAAAAAAAAAAAAAAAAAAAAAAAAAAAAAAAAAAAAAAAAAAAAAAAAAAAAAAAAAAAAAAAAAAAAAAAAAAAAAAAAAAAAAAAAAAAAAAAAAAAAAAAAAAAAAAAAAAAAAAAAAAAAAAAAAAAAAAAAAAAAAAAAAAAAAAAAAAAAAAAAAAAAAAAAAAAAAAAAAAAAAAAAAAAAAAAAAAAAAAAAAAAAAAAAAAAAAAAAAAAAAAAAAAAAAAAAAAAAAAAAAAAAAAAAAAAAAAAAAAAAAAAAAAAAAAAAAAAAAAAAAAAAAAAAAAAAAAAAAAAAAAAAAAAAAAAAAAAAAAAAAAAAAAAAAAAAAAAAAAAAAAAAAAAAAAAAAAAAAAAAAAAAAAAAAAAAAAAAAAAAAAAAAAAAAAAAAAAAAAAAAAAAAAAAAAAAAAAAAAAAAAAAAAAAAAAAAAAAAAAAAAAAAAAAAAAAAAAAAAAAAAAAAAAAAAAAAAAAAAAAAAAAAAAAAAAAAAAAAAAAAAAAAAAAAAAAAAAAAAAAAAAAAAAAAAAAAAAAAAAAAAAAAAAAAAAAAAAAAAAAAAAAAAAAAAAAAAAAAAAAAAAAAAAAAAAAAAAAAAAAAAAAAAAAAAAAAAAAAAAAAAAAAAAAAAAAAAAAAAAAAAAAAAAAAAAAAAAAAAAAAAAAAAAAAAAAAAAAAAAAAAAAAAAAAAAAAAAAAAAAAAAAAAAAAAAAAAAAAAAAAAAAAAAAAAAAAAAAAAAAAAAAAAAAAAAAAAAAAAAAAAAAAAAAAAAAAAAAAAAAAAAAAAAAAAAAAAAAAAAAAAAAAAAAAAAAAAAAAAAAAAAAAAAAAAAAAAAAAAAAAAAAAAAAAAAAAAAAAAAAAAAAAAAAAAAAAAAAAAAAAAAAAAAAAAAAAAAAAAAAAAAAAAAAAAAAAAAAAAAAAAAAAAAAAAAAAAAAAAAAAAAAAAAAAAAAAAAAAAAAAAAAAAAAAAAAAAAAAAAAAAAAAAAAAAAAAAAAAAAAAAAAAAAAAAAAAAAAAAAAAAAAAAAAAAAAAAAAAAAAAAAAAAAAAAAAAAAAAAAAAAAAAAAAAAAAAAAAAAAAAAAAAAAAAAAAAAAAAAAAAAAAAAAAAAAAAAAAAAAAAAAAAAAAAAAAAAAAAAAAAAAAAAAAAAAAAAAAAAAAAAAAAAAAAAAAAAAAAAAAAAAAAAAAAAAAAAAAAAAAAAAAAAAAAAAAAAAAAAAAAAAAAAAAAAAAAAAAAAAAAAAAAAAAAAAAAAAAAAAAAAAAAAAAAAAAAAAAAAAAAAAAAAAAAAAAAAAAAAAAAAAAAAAAAAAAAAAAAAAAAAAAAAAAAAAAAAAAAAAAAAAAAAAAAAAAAAAAAAAAAAAAAAAAAAAAAAAAAAAAAAAAAAAAAAAAAAAAAAAAAAAAAAAAAAAAAAAAAAAAAAAAAAAAAAAAAAAAAAAAAAAAAAAAAAAAAAAAAAAAAAAAAAAAAAAAAAAAAAAAAAAAAAAAAAAAAAAAAAAAAAAAAAAAAAAAAAAAAAAAAAAAAAAAAAAAAAAAAAAAAAAAAAAAAAAAAAAAAAAAAAAAAAAAAAAAAAAAAAAAAAAAAAAAAAAAAAAAAAAAAAAAAAAAAAAAAAAAAAAAAAAAAAAAAAAAAAAAAAAAAAAAAAAAAAAAAAAAAAAAAAAAAAAAAAAAAAAAAAAAAAAAAAAAAAAAAAAAAAAAAAAAAAAAAAAAAAAAAAAAAAAAAAAAAAAAAAAAAAAAAAAAAAAAAAAAAAAAAAAAAAAAAAAAAAAAAAAAAAAAAAAAAAAAAAAAAAAAAAAAAAAAAAAAAAAAAAAAAAAAAAAAAAAAAAAAAAAAAAAAAAAAAAAAAAAAAAAAAAAAAAAAAAAAAAAAAAAAAAAAAAAAAAAAAAAAAAAAAAAAAAAAAAAAAAAAAAAAAAAAAAAAAAAAAAAAAAAAAAAAAAAAAAAAAAAAAAAAAAAAAAAAAAAAAAAAAAAAAAAAAAAAAAAAAAAAAAAAAAAAAAAAAAAAAAAAAAAAAAAAAAAAAAAAAAAAAAAAAAAAAAAAAAAAAAAAAAAAAAAAAAAAAAAAAAAAAAAAAAAAAAAAAAAAAAAAAAAAAAAAAAAAAAAAAAAAAAAAAAAAAAAAAAAAAAAAAAAAAAAAAAAAAAAAAAAAAAAAAAAAAAAAAAAAAyMDE5OjA3OjE5IDIzOjI1OjMyADIwMTk6MDc6MTkgMjM6MjU6MzIAAABMAEEAQgBDAE8ATQAyAAAA/+ELGmh0dHA6Ly9ucy5hZG9iZS5jb20veGFwLzEuMC8APD94cGFja2V0IGJlZ2luPSfvu78nIGlkPSdXNU0wTXBDZWhpSHpyZVN6TlRjemtjOWQnPz4NCjx4OnhtcG1ldGEgeG1sbnM6eD0iYWRvYmU6bnM6bWV0YS8iPjxyZGY6UkRGIHhtbG5zOnJkZj0iaHR0cDovL3d3dy53My5vcmcvMTk5OS8wMi8yMi1yZGYtc3ludGF4LW5zIyI+PHJkZjpEZXNjcmlwdGlvbiByZGY6YWJvdXQ9InV1aWQ6ZmFmNWJkZDUtYmEzZC0xMWRhLWFkMzEtZDMzZDc1MTgyZjFiIiB4bWxuczpkYz0iaHR0cDovL3B1cmwub3JnL2RjL2VsZW1lbnRzLzEuMS8iLz48cmRmOkRlc2NyaXB0aW9uIHJkZjphYm91dD0idXVpZDpmYWY1YmRkNS1iYTNkLTExZGEtYWQzMS1kMzNkNzUxODJmMWIiIHhtbG5zOnhtcD0iaHR0cDovL25zLmFkb2JlLmNvbS94YXAvMS4wLyI+PHhtcDpDcmVhdGVEYXRlPjIwMTktMDctMTlUMjM6MjU6MzIuMzcwPC94bXA6Q3JlYXRlRGF0ZT48L3JkZjpEZXNjcmlwdGlvbj48cmRmOkRlc2NyaXB0aW9uIHJkZjphYm91dD0idXVpZDpmYWY1YmRkNS1iYTNkLTExZGEtYWQzMS1kMzNkNzUxODJmMWIiIHhtbG5zOmRjPSJodHRwOi8vcHVybC5vcmcvZGMvZWxlbWVudHMvMS4xLyI+PGRjOmNyZWF0b3I+PHJkZjpTZXEgeG1sbnM6cmRmPSJodHRwOi8vd3d3LnczLm9yZy8xOTk5LzAyLzIyLXJkZi1zeW50YXgtbnMjIj48cmRmOmxpPkxBQkNPTTI8L3JkZjpsaT48L3JkZjpTZXE+DQoJCQk8L2RjOmNyZWF0b3I+PC9yZGY6RGVzY3JpcHRpb24+PC9yZGY6UkRGPjwveDp4bXBtZXRhPg0KICAgICAgICAgICAgICAgICAgICAgICAgICAgICAgICAgICAgICAgICAgICAgICAgICAgICAgICAgICAgICAgICAgICAgICAgICAgICAgICAgICAgICAgICAgICAgICAgICAgIAogICAgICAgICAgICAgICAgICAgICAgICAgICAgICAgICAgICAgICAgICAgICAgICAgICAgICAgICAgICAgICAgICAgICAgICAgICAgICAgICAgICAgICAgICAgICAgICAgICAgCiAgICAgICAgICAgICAgICAgICAgICAgICAgICAgICAgICAgICAgICAgICAgICAgICAgICAgICAgICAgICAgICAgICAgICAgICAgICAgICAgICAgICAgICAgICAgICAgICAgICAKICAgICAgICAgICAgICAgICAgICAgICAgICAgICAgICAgICAgICAgICAgICAgICAgICAgICAgICAgICAgICAgICAgICAgICAgICAgICAgICAgICAgICAgICAgICAgICAgICAgIAogICAgICAgICAgICAgICAgICAgICAgICAgICAgICAgICAgICAgICAgICAgICAgICAgICAgICAgICAgICAgICAgICAgICAgICAgICAgICAgICAgICAgICAgICAgICAgICAgICAgCiAgICAgICAgICAgICAgICAgICAgICAgICAgICAgICAgICAgICAgICAgICAgICAgICAgICAgICAgICAgICAgICAgICAgICAgICAgICAgICAgICAgICAgICAgICAgICAgICAgICAKICAgICAgICAgICAgICAgICAgICAgICAgICAgICAgICAgICAgICAgICAgICAgICAgICAgICAgICAgICAgICAgICAgICAgICAgICAgICAgICAgICAgICAgICAgICAgICAgICAgIAogICAgICAgICAgICAgICAgICAgICAgICAgICAgICAgICAgICAgICAgICAgICAgICAgICAgICAgICAgICAgICAgICAgICAgICAgICAgICAgICAgICAgICAgICAgICAgICAgICAgCiAgICAgICAgICAgICAgICAgICAgICAgICAgICAgICAgICAgICAgICAgICAgICAgICAgICAgICAgICAgICAgICAgICAgICAgICAgICAgICAgICAgICAgICAgICAgICAgICAgICAKICAgICAgICAgICAgICAgICAgICAgICAgICAgICAgICAgICAgICAgICAgICAgICAgICAgICAgICAgICAgICAgICAgICAgICAgICAgICAgICAgICAgICAgICAgICAgICAgICAgIAogICAgICAgICAgICAgICAgICAgICAgICAgICAgICAgICAgICAgICAgICAgICAgICAgICAgICAgICAgICAgICAgICAgICAgICAgICAgICAgICAgICAgICAgICAgICAgICAgICAgCiAgICAgICAgICAgICAgICAgICAgICAgICAgICAgICAgICAgICAgICAgICAgICAgICAgICAgICAgICAgICAgICAgICAgICAgICAgICAgICAgICAgICAgICAgICAgICAgICAgICAKICAgICAgICAgICAgICAgICAgICAgICAgICAgICAgICAgICAgICAgICAgICAgICAgICAgICAgICAgICAgICAgICAgICAgICAgICAgICAgICAgICAgICAgICAgICAgICAgICAgIAogICAgICAgICAgICAgICAgICAgICAgICAgICAgICAgICAgICAgICAgICAgICAgICAgICAgICAgICAgICAgICAgICAgICAgICAgICAgICAgICAgICAgICAgICAgICAgICAgICAgCiAgICAgICAgICAgICAgICAgICAgICAgICAgICAgICAgICAgICAgICAgICAgICAgICAgICAgICAgICAgICAgICAgICAgICAgICAgICAgICAgICAgICAgICAgICAgICAgICAgICAKICAgICAgICAgICAgICAgICAgICAgICAgICAgICAgICAgICAgICAgICAgICAgICAgICAgICAgICAgICAgICAgICAgICAgICAgICAgICAgICAgICAgICAgICAgICAgICAgICAgIAogICAgICAgICAgICAgICAgICAgICAgICAgICAgICAgICAgICAgICAgICAgICAgICAgICAgICAgICAgICAgICAgICAgICAgICAgICAgICAgICAgICAgICAgICAgICAgICAgICAgCiAgICAgICAgICAgICAgICAgICAgICAgICAgICAgICAgICAgICAgICAgICAgICAgICAgICAgICAgICAgICAgICAgICAgICAgICAgICAgICAgICAgICAgICAgICAgICAgICAgICAKICAgICAgICAgICAgICAgICAgICAgICAgICAgICAgICAgICAgICAgICAgICAgICAgICAgICAgICAgICAgICAgICAgICAgICAgICAgICAgICAgICAgICAgICAgICAgICAgICAgIAogICAgICAgICAgICAgICAgICAgICAgICAgICAgICAgICAgICAgICAgICAgICAgICAgICAgICAgICAgICAgICAgICAgICAgICAgICAgICAgICAgICAgICAgICAgICAgICAgICAgCiAgICAgICAgICAgICAgICAgICAgICAgICAgICA8P3hwYWNrZXQgZW5kPSd3Jz8+/9sAQwAHBQUGBQQHBgUGCAcHCAoRCwoJCQoVDxAMERgVGhkYFRgXGx4nIRsdJR0XGCIuIiUoKSssKxogLzMvKjInKisq/9sAQwEHCAgKCQoUCwsUKhwYHCoqKioqKioqKioqKioqKioqKioqKioqKioqKioqKioqKioqKioqKioqKioqKioqKioq/8AAEQgAwgGbAwEiAAIRAQMRAf/EAB8AAAEFAQEBAQEBAAAAAAAAAAABAgMEBQYHCAkKC//EALUQAAIBAwMCBAMFBQQEAAABfQECAwAEEQUSITFBBhNRYQcicRQygZGhCCNCscEVUtHwJDNicoIJChYXGBkaJSYnKCkqNDU2Nzg5OkNERUZHSElKU1RVVldYWVpjZGVmZ2hpanN0dXZ3eHl6g4SFhoeIiYqSk5SVlpeYmZqio6Slpqeoqaqys7S1tre4ubrCw8TFxsfIycrS09TV1tfY2drh4uPk5ebn6Onq8fLz9PX29/j5+v/EAB8BAAMBAQEBAQEBAQEAAAAAAAABAgMEBQYHCAkKC//EALURAAIBAgQEAwQHBQQEAAECdwABAgMRBAUhMQYSQVEHYXETIjKBCBRCkaGxwQkjM1LwFWJy0QoWJDThJfEXGBkaJicoKSo1Njc4OTpDREVGR0hJSlNUVVZXWFlaY2RlZmdoaWpzdHV2d3h5eoKDhIWGh4iJipKTlJWWl5iZmqKjpKWmp6ipqrKztLW2t7i5usLDxMXGx8jJytLT1NXW19jZ2uLj5OXm5+jp6vLz9PX29/j5+v/aAAwDAQACEQMRAD8A+kaKKKACiiigAooooAKKyovFXh6fWjo8OvaZJqYZkNkl5GZgwGSPLzuyACSMdq05ZY4IXlmdY441LO7nAUDkknsKOlw62HUU2ORJoklhdZI3UMjqchgehB7inUAFFVZtRtbfUrawll23N0rvDHtJ3BMbucYGNw6+tWqACiiigAooooAKKKKACiiigAooooAKKKKACiiigAooooAKKKKACiiigAooooAKKKKACiiigAooooAKKKKACiiigAooooAKKKKACiiigAooooAKKKKACiiigAooooA848Fa7HF4l1jS5fEuhoX1a92aQVAvS28nO7zuR1OPL6d+9c9Y2d3ceE9F87Vdavpdd8O3b3ay6jM/mSKkbIVAb5CM7flwWBO7cSTXtFFQ43hy+SX4NFKVpc3nf8bnl2i29nqM3gqw0vW9Ql0uTTLqaYWmrzMJpENuNrSBy2FZm+UMMcr0JU19M8Tz3vxUt49PuWBlnvre4tZdZeaT92rbBJabfLtxmMFGU7mXk5JavWaK0k+Z/f8AiQlaKXp+B4fp+vWcMmk6umr6nqeqwaJfT6tClyZpLe52RllCPlIHDBgIwFAC/dIFdZ8L9Wkv9S1+BL2K6soTbyQeRrMuqRqXVg+24lUMeUGVGQCDjnNeiUUX1YMKKKKQwooooAKKKKACiiigAooooAKKKKACiiigAooooAKKKKACiiigAooooAKKKKACiiigAooooAKKKKACiiigAooooAKKKKACiiigAooooAKKKzfER1IeG9QGgxCXUmgZbUM4UCQjCsSewJyfYUndLQa1dino/jHS9ZXVXjaS1i0qVknlu9saFBn96pyf3Z2thjj7p4qafxh4atrH7bc+IdKhtPONv58l7GsfmjrHuLY3DuOtcBceBPFOl6fdWdvPZ6vBd+G5dHK21ubVldEYwO5kmfeSXkUkYwWBIxkibxnbajFrGj6ZoFqrvFoVzBPaw2kMzRQOYVJVZJoUX7mAQzf7hHNN6f16/wCXyv5Au/8AXT9Xb5HokWt6VPAZ4NTs5IltxdGRLhSohOcSZB+4drfN04PpUEnifQIb+Oxl1zTY7uU4jt2u4xI52hsBc5Pysp+hB71w1/a6hqNhLqHhXSp9Usdd8MxWNrI88cRgIEhVpd7A4KzDlQxyp45BpbjwTf3Gla9DNpUMsl/qGluA5jPmwwrbCTOT0XZLwevOAc81b3mv63t+Wou39dF/m/uO3XxR4ffRW1hNc01tLRtrXwu4zApzjBkztzkgde9LdeKNAsbGC9vdc023tLiPzYbiW7jSOVMgblYnBGWXkf3h61w/iDwpr0ut3upadHdokeuRX0SWL23nSx/YlgLRicGMMHzw+OASDnGbmg+E57fXNBvZbK+aK3j1KSdtVa2aaGaeSM9IDsG7Eh+ToCc4JxU7/wBeV/8AgD2OhXxv4efxVD4fTVLVr+e2W4hUXEeJFb7qqN2SxHzAAfd5q7b+I9Eu7q8trXWdPnuLAE3cUd0jNb4ODvAOVxg5ziuO8MeHtZ0afRkuNPlVDoh0+WWGWIizcOWBYbwSMEAbN3I5wOapW3hrUrnRdG0vU/C9xHBoenTWlw0FzAGvw8XlFbciQEBiN5Mnl4KrxnOF0+/83/kvW4fat6fkv+D6WPQ9M1nTNasjeaPqNpqFqGKme1nWVAR1G5SRkVkWXjnRtQ1a7gstQsLjT7SyF3LqMN4jxJ87KysRwMBckk96zY9J8Rax8Ndc0nVGnW7u4Z7eyOoND5/ltHhRMYP3ed24ZT+HbnnNc/rXhvxD4knvb+DQJtFIs7FI4jPbNNM1vceayDBeMcfc35UnG4KKf2kun/Af5dhfZ8/+Cvz11PQz4k0Y+HZ9dg1K2utLgjeV7q1kEyFUzuwVzkjBGBzniq2ieKI9YvprC40y+0q+ihS4+zXwj3PExIDgxu64yCCCQQeoGRnnIPC19f8AgrxLbsNXi1LViW/4nb2m55FjVUP+i/IFO1QT97j6VqaHb6pqfi+XX9V0iXR0j09bKK3uJYpJXYvvdsxOyheFAycn5uB3f2v67P8AXQT2/ruv0N2LW9Kn1ibSYNTs5NSgTfLZJcIZo145ZAdwHzDkjuPWo9S8SaHo06w6vrOn2Er7dqXV0kTNuyFwGI67Wx67T6VxOmaL4ol+IOn3up2lzHZ2V5eucfY0tFSQOEaIJ++LNkFzIfvMTj00vEXhm71LXPEl1HYRzi88OCwtpGKZaTdOWj5OQDujPOAePTiW7RuUldtf1uv+HO2oqtp0ckOl2sU4xKkKK4JzhgozzVmqkrOxMXdXCiiikMKKKKACiiigAooooAKKKKACiiigAooooAKKKKACiiigAooooAKKKKACiiigAooooAKKKKACiiigAooooAKKKKACiiigArN1fw7omv8Alf29o+n6n5GfK+22qTeXnGdu4HGcDp6CtKigBFUIoVQFUDAAHAFLXg+u/wDCb/8ACTat9n/4Sr7P9um8j7L53l+XvO3bjjGOmOMYqj/xXX/U5f8Akeu1YW6vzI5XiLO3Kz6Gor55/wCK6/6nL/yPR/xXX/U5f+R6f1T+8hfWf7rPoaivnn/iuv8Aqcv/ACPR/wAV1/1OX/kej6p/eQfWf7rPoaivnn/iuv8Aqcv/ACPR/wAV1/1OX/kej6p/eQfWf7rPoaivnn/iuv8Aqcv/ACPR/wAV1/1OX/kej6p/eQfWf7rPoaivnn/iuv8Aqcv/ACPR/wAV1/1OX/kej6p/eQfWf7rPfpb+1gv7eymmVLi5V2hjY4MgTG7H03Dj/CvNviV4u1/RvFltp2i6gLOFrITt+4SQsxdl/iB7KK841NvEKXlk2rHxCLwOfsJvfM3b8j7m7nOdvT2rc8cNqzeItKPiFYl1H+x084RdM+bJ17Zx1xxnOK1pYaMakbtO5nUruUHbQP8AhPfGn/Qwf+SUP/xNH/Ce+NP+hg/8kof/AImsKivS+r0v5UcPtqn8zN3/AIT3xp/0MH/klD/8TR/wnvjT/oYP/JKH/wCJrCoo+r0v5UHtqn8zN3/hPfGn/Qwf+SUP/wATR/wnvjT/AKGD/wAkof8A4msKukPgDxKOunKOM83MX/xVRKlh4fEkio1K0vhbZB/wnvjT/oYP/JKH/wCJo/4T3xp/0MH/AJJQ/wDxNYZBViD1BwaSr+r0f5UT7ar/ADM3f+E98af9DB/5JQ//ABNH/Ce+NP8AoYP/ACSh/wDiawqKPq9L+VB7ap/Mzd/4T3xp/wBDB/5JQ/8AxNH/AAnvjT/oYP8AySh/+JrIs7Sa/vIbW1TfNM4RFyBknpyaS6tpbO7ltrhdssLlHUEHBBwRkcUvYUb25UP21W17s2P+E98af9DB/wCSUP8A8TR/wnvjT/oYP/JKH/4mqmpaSNMs7J5rgG6uY/Ne2C8wofuknPUjnGOBWbSVGi1dRQOrVW7Zu/8ACe+NP+hg/wDJKH/4mj/hPfGn/Qwf+SUP/wATWFRVfV6X8qF7ap/Mzd/4T3xp/wBDB/5JQ/8AxNH/AAnvjT/oYP8AySh/+JrCoo+r0v5UHtqn8zN3/hPfGn/Qwf8AklD/APE0yX4geNI4Xf8At/O1ScfYoef/AB2sWorn/j0m/wBxv5Uvq9L+VD9tU/mZ9G+HrybUfDOl3t0Q01zZxSyEDALMgJ4+prRrH8If8iRof/YOt/8A0WtbFfOy+Jntx2QUUUVIwooooAKKKKACiiigAooooAKKKKACiiigAooooAKK5u6+IXhWyvJrW61iKOeCRo5EMb/KynBH3fUVD/wszwf/ANBuL/v2/wD8TV+zn2ZHPHudVRXK/wDCzPB//Qbi/wC/b/8AxNH/AAszwf8A9BuL/v2//wATT9nPsw54dzqqK5X/AIWZ4P8A+g3F/wB+3/8AiaP+FmeD/wDoNxf9+3/+Jo9nPsw54dzqqK5X/hZng/8A6DcX/ft//iaP+FmeD/8AoNxf9+3/APiaPZz7MOeHc6qiuV/4WZ4P/wCg3F/37f8A+Jo/4WZ4P/6DcX/ft/8A4mj2c+zDnh3Oqorlf+FmeD/+g3F/37f/AOJo/wCFmeD/APoNxf8Aft//AImj2c+zDnh3Ogn0y0udRtb64gWS4tFdYHbny9+NxHv8o5+vrXkHxa/5KFbf9gtP/Rr11s/xZ0CLxHaWkV0k9hcR4e6VWHkSZ43ZA+Ujv2rkfiwyv8QLRkIZW0pCCDkEea9deEjKNZcxzYiUZUnY5CiiivcPJCiiigAHWu98babpNx4nuZrvXo7Scxx5ga1kcj5Bj5gMc1wVbHirVoNc8RT39okiRSKgAlADcKAehPpWM4uU4tO2/wChrCSUXcll061XwDBqQixdtqDQtJuPKBM4xnHX2p2p6baW/hnQLuGLbPeed577id+1wBxnA49KdpesaWfDsmja7Fd+SLj7TDNabSytt2kENgYxRruuadf6ZpNnpltPbx2BkBErBtwZgQc9ycEngAZ4qVz86Wu/4W/zH7vJfy/G/wDkbd7ZeF7Lxh/YX9kTSCaVImnN0y+SXAxsXuBkfezWTp2gWcN/rUup+ZPZ6OSGjRthmbftUE9gcc4qDUddtrvx2utRpMLYXMUuxgN+F254zjPB71NaeJLOPWdYN3bzS6bqzOJFQhZEBYsrDtkenSs1GooLe9tfXT/gmjlByd7Wv+Ay2fRNY1zS7e20drISXSJMguWkWRCQO/IP0NTWOiaedV125vkkOnaS7nyI2wZCXKom49Bx161XjvtA07VtOudKj1Fxb3CyzPc7NxUEHCqvH5mnWPiK1g1jVjd28k2m6oziWNSFkUFiysO24enSralb3b7fqSnG/vW3X6lhbTR9f0PUZ9M01tMu9PjE+1Z2lSVM4Od3II9qcYNB0vwzpF/e6ZJe3V2sm6P7Q0aHa5G4kc5xgADA65qvLrOj6do15ZeHor1pb4BJp7zYCqA52qFz17k1R1PVYLzQNIsYlkEtisokLAbTufIxz/hSUZN21tf57P8AUG4pa2vb9V/wSXxTptnp9/bSaarpbXtrHdJE7bjHuz8ue/SsStbXtVg1RdNFusi/ZLGO2feAMsuckYJ45rJrendRszKbTldBRRRVkBUVz/x6Tf7jfyqWorn/AI9Jv9xv5UPYFufQ3hD/AJEjQ/8AsHW//ota2Kx/CH/IkaH/ANg63/8ARa1sV8tL4mfQR2QUUUVJQUUUUAFFFFABRXKeBfHVp4x07nbBqMK/v7fP/j6+q/y6HsT1dVKLi7MUZKSugoooqRhRRRQAUUUUAFFFFAHkeq/CbXLzXdRvba/09Yru7luFWQOWUMxIB496q/8ACn/EP/QR0v8A75f/AAr2aiutYuslZM53hqbd2jxn/hT/AIh/6COl/wDfL/4Uf8Kf8Q/9BHS/++X/AMK9mop/XK3cX1Wl2PGf+FP+If8AoI6X/wB8v/hR/wAKf8Q/9BHS/wDvl/8ACvZqKPrlbuH1Wl2PGf8AhT/iH/oI6X/3y/8AhR/wp/xD/wBBHS/++X/wr2aij65W7h9Vpdjxn/hT/iH/AKCOl/8AfL/4Uf8ACn/EP/QR0v8A75f/AAr2aij65W7h9Vpdjxn/AIU/4h/6COl/98v/AIUf8Kf8Q/8AQR0v/vl/8K9moo+uVu4fVaXY8Dvvhz4hh1+10ZGtLh7qMyPNErbIUBwWYkf/AK6Xx1o0Xh/xJpmlwTSzpb6Qi+ZK2S376T8h6DsK97wM5xz0zXi3xa/5KFbf9gtP/Rr10YevOrVSkY1qMadNtHH0UUV655gUUUUAFFFFABRSO6xoXdgqqMlicACq9pqNpfNItncJMY8bthzjNK6TsOztcs0VTm1Wxt7z7LPdRxzYB2scdenPSrlCknsDTW4UUUisrqGQhlPQg5zTELRRRQAUUUUAFFFFABUVz/x6Tf7jfyqWorn/AI9Jv9xv5UPYFufQ3hD/AJEjQ/8AsHW//ota2K+abPVdZjsYEh1/Voo1jUJHHeuqoMcADPAHpU39sa7/ANDJrP8A4HP/AI147wE273PTWMglax9IUV83/wBsa7/0Mms/+Bz/AONH9sa7/wBDJrP/AIHP/jS/s+fcf1yHY+kKK+b/AO2Nd/6GTWf/AAOf/Gj+2Nd/6GTWf/A5/wDGj+z59w+uQ7H0hRXzf/bGu/8AQyaz/wCBz/40f2xrv/Qyaz/4HP8A40f2fPuH1yHYzdHnubFbW/02dre8gJaOVfqeD6g+le8+CfG1t4ssSkgW31OAf6RbZ/8AH19VP6fkT4XBCsEKxoSQvTNSwT3NjfQ3+mztb3kB3Ryr/I+oPpXdiMMqsfM5KNd05eR9MUVy3gnxtbeLLEpIFt9TgH+kW2f/AB9fVT+n5E9TXgyi4PlkevGSkroKKKKkoKKKKACiiigDzHUvjBNY6zf2MXh3zxZ3Mlv5n24Lv2MRnGzjOM1X/wCF0XX/AEK3/lQH/wARXWXnw08JX99PeXek+ZPcSNLK/wBplG5mOScBsDk9qh/4VT4L/wCgN/5NTf8Axddqnhbaxf8AXzOVxr30kjmf+F0XX/Qrf+VAf/EUf8Louv8AoVv/ACoD/wCIrpv+FU+C/wDoDf8Ak1N/8XR/wqnwX/0Bv/Jqb/4unz4X+V/18xcuI/mRzP8Awui6/wChW/8AKgP/AIij/hdF1/0K3/lQH/xFdN/wqnwX/wBAb/yam/8Ai6P+FU+C/wDoDf8Ak1N/8XRz4X+V/wBfMOXEfzI5n/hdF1/0K3/lQH/xFH/C6Lr/AKFb/wAqA/8AiK6b/hVPgv8A6A3/AJNTf/F0f8Kp8F/9Ab/yam/+Lo58L/K/6+YcuI/mRzP/AAui6/6Fb/yoD/4ij/hdF1/0K3/lQH/xFdN/wqnwX/0Bv/Jqb/4uj/hVPgv/AKA3/k1N/wDF0c+F/lf9fMOXEfzI5n/hdF1/0K3/AJUB/wDEUf8AC6Lr/oVv/KgP/iK6b/hVPgv/AKA3/k1N/wDF0f8ACqfBf/QG/wDJqb/4ujnwv8r/AK+YcuI/mRw9/wDFzV5dVsLy10n7Lb2wcXNuboSC4Vtv+yMEbTg89fTOc/x/rNpr/irTtS05maCfSVK7hgg+dICCPUHiu11H4P6Dcaxpz2Fv9jsYvMa7RZnZpz8uxQWJwPvZI/8ArjlfilBFa+OrKC2jWKGPSUVEQYCgSvgAVvQlRdWPs1YxqqoqcudnJ0UUV6x5wUUUUAFUtW1OPSdPe6kUvjhVHcnp9Ku1yviDxNYSafd2UIMsxJjwy/KDnk59u1Y1qipwbvZmtKDnJK1yreeNIbrRpYfsrCeZDGw3fKARjOf6VzFleXdnMXsZXjdhg7O4rT8N6AdYuWeYlbWI/OR1Y+gr0G1srayiEdrAkSj+6Ov49682nSrYm05Ox3TqUqF4RVzyqS5ne9+03DM824MS/ciuqbx6fIj2WQ83P7zLfLj2/wA/nXU3mnWmoRGO7gSQHuRyPoeorzvxBojaLfBVJeCTmNz/ACPuKVSnWwqcoS0Y4TpYhpSWqOp1TUPt02lww3M9pHeAmQ42/KRwM+vGPxpI4V0TxDZ2dtcXMlvIjZg3bhGegJHpVe11yx8QWcGk30cqSygBmQALuXnj0zj0704ajo3hzWLmGOG4RiihmzuGeuBnnvXRzxb9pdW017eVjHlaXJbvp+p1dFcBpeq67BbXMkNtcXSTDKyOrNsPqPWtDw94kittOlGsXjtMsmFV1LNjH+Oa1hi4SaT0v3MpYacU7anX0U2ORJYlkjYMjgMrDuDTq7DmCiiigAqK5/49Jv8Acb+VS1Fc/wDHpN/uN/Kh7Atwtv8Aj0h/3F/lUtRW3/HpD/uL/KpaFsD3NSPQZ5bOzmSe3Ml8223t9zeY53lD2wOR1JHH41d0/wAMx3Gp28U2o28lpKzxme3L43qudnKZzyDnGCM4NUYtbkgbSZIIgsmm5KljkOfML8jt1xV6XxQX1O1ux/aEywOzGK8vzMMEYwvyDbwTzz2rCXtdl5/8A1j7Pr5GeujSyCBoLiCWO4uvssbruALYU55UHHzDtnrxVj/hG5wLQPeWiyXk3lQxFmLMRIYyeFwACM5Pbpk5FOsNctLJEjbT5Jo4Lr7VbBrnBVsAYchfmHyr029KY+v7r/Tbn7Nj7DKZNvmffzKZMZxx1x3p/vL2Qe5ZvqQajo0mn26T/ara5jaVoWMDMdjqASpyBnr1GQfWs6r0+pedphs/K25umuN+71AG3GPbrVGtIc1veIny390KKKKokWCe5sb6G/02dre8gO6OVf5H1B9K9x8D+M4PF+mOWj8i/tcLdQjoCejKfQ4PuP1PjWhaFf8AinVhp2lDaq4NzckfLAv9T6D/AOuR7z4f8P2HhrSY9P0yLbGvLufvSN3Zj3NeTj5U3p9o9LBxnv0NOiiivKPQCiiigAooooAKKKKACqNxrelWmqW+mXWp2cF/cjMFpJcKsso55VCct0PQdqvVx2tfDDQdd+IemeMryS8XUtNVBEkcoET7SSpYFSeCx6EULdX2Do+52NUdM1vStbjlfRtTs9QSF/Lla0uFlCN/dJUnB9jVySNZYnjkGUdSrD1Brkvh/wDDTRPhta31voEt5It9KJJDdyK5XAICjCjgZPXJ96F1uD8jo9U1jTNEtBda1qNpp9uWCCa7nWJNx6DcxAzx0q2jrJGrxsHRgCrKcgj1Fct4/wDh7o/xH0SDTNeku4ooJxPHJaSKjhgCP4lYYwx7V0VhZQ6bpttY2wIhtYUhjDHJ2qABk/QULZ3B7qxYooooAKKKKACvFvi1/wAlCtv+wWn/AKNevaa8W+LX/JQrb/sFp/6NeuzBfxkcuK/hM4+iiivfPHCiiigArznxVpEGlX0f2ZnKzKWKuc7efWvRq821vR9UhuLi7u0kkhVyBMzA5GeK4Mcr09r/AKHZg3ae9v1Ov8JRLF4btyvVyzMfU5I/pW1XJ+CdVR7VtOlYCRCWjz/ED1H4H+ddZXRhpKVKNjGvFxqO4Vz3jWJX0Dew+aOVSp+vFdDXF+N9VSTy9OhYMUbfLjsew/X+VTipKNGVx4eLdVWKvhGxgmN1eSRNNNagPEgbGTgnp+ApYJn8ReLLZdStlhEYOY9pBIGTg5pPDegagb20v8GK3J3Fg+CV+noan1eDW11yXVVtwqWh+RgRgoP1PBOa86MZKlG8Xa+um/W53SadR2etvuO2ACgADAHAA7VxvjO0tre/s70xBvMbEyA43gY/pxV6Hxxp7W+6eKaOQDlFAIz7HNYd/qF5q+pWt++nySWSOFjjKkhueefU11YmtSqU+WLuznoUqkJ3lodnpF/BqWnJPaxtFGPkCEAbcduKvUyKNIolWKNY1xwqgDH5U+u+N1FJnHKzegUUUUxBUVz/AMek3+438qlqK5/49Jv9xv5UPYFudVpXww8Taho1leW1zpKw3FvHLGJJJQwVlBGcJjODVv8A4VL4s/5+9G/7+S//ABFeo+EP+RI0P/sHW/8A6LWtivCljKydrnrrC02r2PFv+FS+LP8An70b/v5L/wDEUf8ACpfFn/P3o3/fyX/4ivaaKn67W7j+q0ux4t/wqXxZ/wA/ejf9/Jf/AIij/hUviz/n70b/AL+S/wDxFe00UfXa3cPqtLseLf8ACpfFn/P3o3/fyX/4ij/hUviz/n70b/v5L/8AEV7TRR9drdw+q0ux8wWkzT2qSOAC2c4+taehaFf+KdWGnaUNqrg3NyR8sC/1PoP/AK5FXwloOoeKLiLTdLGwLzcXLD5YFJP5k9h/9cj6D8P+H7Dw1pMen6ZFtjXl3P3pG7sx7mvQxGKVOPLHc46GH53zPYPD/h+w8NaTHp+mRbY15dz96Ru7Me5rToorxG23dnqpJKyCiiikMKKKKACiiigAorKm8U+H7eeSG413TYpY2KPG95GrKwOCCCeCDTP+Ev8ADf8A0MOlf+Bsf/xVVyy7C5l3Niisf/hL/Df/AEMOlf8AgbH/APFUf8Jf4b/6GHSv/A2P/wCKo5Zdhcy7mxRWP/wl/hv/AKGHSv8AwNj/APiqP+Ev8N/9DDpX/gbH/wDFUcsuwcy7mxRWP/wl/hv/AKGHSv8AwNj/APiqP+Ev8N/9DDpX/gbH/wDFUcsuwcy7mxRWP/wl/hv/AKGHSv8AwNj/APiqP+Ev8N/9DDpX/gbH/wDFUcsuwcy7mxRWP/wl/hv/AKGHSv8AwNj/APiqP+Ev8N/9DDpX/gbH/wDFUcsuwcy7mxXi3xa/5KFbf9gtP/Rr16De/EPw9Z6xp9n/AGlazx3m9TcQXCyLCw27Q+DwG3Hn2+pHn3xZ/wCShWv/AGC0/wDRr12YOLjWV0c2JknSdjj6KKK908gKKKKACs3xB550K5W1h852TaV68dzjucVpUUpR5otDi7NM8nSxv4bdb6OCZIlPEoBGD6//AF62bTxvqEEYS4jjuMdGPyt+ld3PH51vJEDjehXOOmRXL6X4KW3vHfUmjuItuEVSRk+pry3hatKSVJ77nofWKdSL9otjKvfGmo3MZSBUtgepTlvzNZTaTqJt1umtZjHI3Dbckn+f411WoeCVn1ASWMiW1uVG5SCSD7f/AK66l/lhb59uF+8e3vQsLVqt+2e2wPEU6aXsluc3P4lOm6YtrMmNTjjQeXsJXJ+nt+tVp/E0k5Fvq1lLa2U0RSRtp3FsdQT2/OneFo1vNavrq6nF3NCQkcpHUcjcB+FdRd20N5aSQXKho3XBz2962gqtWHMpadv8zKTp05crX9eRh2Wg6Xe+G1itlcJN86zSKPMBz/kVs6dYppunxWkTM6xggFup5z/Wuf8ABMzPb3ETXZkEbbUhP8K+o+uf0rqa2w6hKCmlZ2sZVnJScG9AooorpMAooooAKiuf+PSb/cb+VS1Fc/8AHpN/uN/Kh7Atz6G8If8AIkaH/wBg63/9FrWxWP4Q/wCRI0P/ALB1v/6LWtivlpfEz6COyCiiipKCiiigAooooAy/D3h6w8M6RHp+mRbI15dz96Ru7Me5rUoopttu7EkkrIKKKKQwooooAKKKKACiiigDxzV/hL4gvvEGpXtvNo5iu7uWdPOaTcFZiQDhPQ1U/wCFOeJf+emg/wDfUn/xFe3UV1rF1UrI53hqbdzxH/hTniX/AJ6aD/31J/8AEUf8Kc8S/wDPTQf++pP/AIivbqKf1yqL6tTPEf8AhTniX/npoP8A31J/8RR/wpzxL/z00H/vqT/4ivbqKPrlUPq1M8R/4U54l/56aD/31J/8RR/wpzxL/wA9NB/76k/+Ir26ij65VD6tTPEf+FOeJf8AnpoP/fUn/wARR/wpzxL/AM9NB/76k/8AiK9uoo+uVQ+rUzxH/hTniX/npoP/AH1J/wDEUf8ACnPEv/PTQf8AvqT/AOIr26ij65VD6tTPn3Uvht4hsNUsNN8jTribUPM2tbbiIlTbuZyVGB849f5VN440ltC8RaVpsl3LeNb6OimaU8n97JwPQDoB2GK98wM5xz0zXi3xa/5KFbf9gtP/AEa9dGHrzq1YqRjWoxp020cfRRRXrnmBRRRQAUUUUAFFFFABQRkYPIoooA5LUdLv9I1KfVNISGKBEAMKA/OO/wAtNm1HXtWMdgtqtkLlNxlIP3cevb+ddfRXK8Pq+WTSfQ6FW01V2jN0LTP7L0yOKSOIT4/ePGPvcnqe9aVFFdEYqEVFGEpOTuwoooqhBRRRQAVFc/8AHpN/uN/Kpaiuf+PSb/cb+VD2Bbn0N4Q/5EjQ/wDsHW//AKLWtisfwh/yJGh/9g63/wDRa1sV8tL4mfQR2QUUUVJQUUUUAFFFFABRRRQAUUUUAFFFFABRRRQAUUUUAFFFFABRRRQAUUUUAFFFFABRRRQAUUUUAFcP4z+HT+LNdh1OHWDYPHbC3KfZhLuAZmzncMfe/Su4oq4TlB80dyZRU1aR5T/wpe6/6Gn/AMp4/wDi6P8AhS91/wBDT/5Tx/8AF16tRW/1uv8AzGX1el2PKf8AhS91/wBDT/5Tx/8AF0f8KXuv+hp/8p4/+Lr1aij63X/mD6vS7HlP/Cl7r/oaf/KeP/i6P+FL3X/Q0/8AlPH/AMXXq1FH1uv/ADB9Xpdjyn/hS91/0NP/AJTx/wDF0f8ACl7r/oaf/KeP/i69Woo+t1/5g+r0ux5T/wAKXuv+hp/8p4/+Lo/4Uvdf9DT/AOU8f/F16tRR9br/AMwfV6XY8p/4Uvdf9DT/AOU8f/F0f8KXuv8Aoaf/ACnj/wCLr1aij63X/mD6vS7HlP8Awpe6/wChp/8AKeP/AIuj/hS91/0NP/lPH/xderUUfW6/8wfV6XY8p/4Uvdf9DT/5Tx/8XR/wpe6/6Gn/AMp4/wDi69Woo+t1/wCYPq9LseU/8KXuv+hp/wDKeP8A4uj/AIUvdf8AQ0/+U8f/ABderUUfW6/8wfV6XY8p/wCFL3X/AENP/lPH/wAXSN8FLl0Kt4oyGGCP7PH/AMcr1eij63X/AJg+r0uxU0iw/srRbHTxJ5otLeODzNuN21Qucds4q3RRXK9dTfYKKKKACiiigAooooAKKKKACiiigAooooAKKKKACiiigAooooAKKKKACiiigAooooAKKKKACiiigAooooAKKKKACiiigAooooAKKKKACiiigAooooAKKKKACiiigAooooAKKKKACiiigAooooAKKKKACiiigAooooAKKKKACiiigAooooAKKKKACiiigAooooAKKKKACiiigAooooAKKKKACiiigAooooAKKKKACiiigAooooAKKKKACiiigAooooAKKKKACiiigAooooAKKKKACiiigAooooAKKKKACiiigAooooAKKKKAP//Z)\n"
      ]
    },
    {
      "cell_type": "code",
      "metadata": {
        "id": "awDES6K6UC1j"
      },
      "source": [
        "def sumar(op1,op2):\n",
        "    res=op1+op2\n",
        "    return res"
      ],
      "execution_count": null,
      "outputs": []
    },
    {
      "cell_type": "code",
      "metadata": {
        "colab": {
          "base_uri": "https://localhost:8080/"
        },
        "id": "dC9U4LKeYCLL",
        "outputId": "0922b93e-b170-4864-bb65-a312bfec3ed1"
      },
      "source": [
        "res=sumar(2,5)\n",
        "print(res)\n",
        "res=sumar(33,22)\n",
        "print(res)"
      ],
      "execution_count": null,
      "outputs": [
        {
          "output_type": "stream",
          "name": "stdout",
          "text": [
            "7\n",
            "55\n"
          ]
        }
      ]
    },
    {
      "cell_type": "code",
      "metadata": {
        "colab": {
          "base_uri": "https://localhost:8080/"
        },
        "id": "VyfUKB0MZtjk",
        "outputId": "a634feef-9173-415c-824a-5c0650fd674e"
      },
      "source": [
        "print(\"hola\", \"Josue\", sep=\"*\")"
      ],
      "execution_count": null,
      "outputs": [
        {
          "output_type": "stream",
          "name": "stdout",
          "text": [
            "hola*Josue\n"
          ]
        }
      ]
    },
    {
      "cell_type": "code",
      "metadata": {
        "colab": {
          "base_uri": "https://localhost:8080/"
        },
        "id": "9N9QMDIJabsE",
        "outputId": "3f785444-c37d-46cd-84d8-cd583be455f7"
      },
      "source": [
        "def imprime_cuadro():\n",
        "    print(\"****\")\n",
        "    print(\"****\")\n",
        "    print(\"****\")\n",
        "    print(\"****\")\n",
        "    #return None\n",
        "imprime_cuadro()"
      ],
      "execution_count": null,
      "outputs": [
        {
          "output_type": "stream",
          "name": "stdout",
          "text": [
            "****\n",
            "****\n",
            "****\n",
            "****\n"
          ]
        }
      ]
    },
    {
      "cell_type": "markdown",
      "metadata": {
        "id": "ENnyEfeYa_xL"
      },
      "source": [
        "#Valor de retorno de una función\n",
        "regla de oro: Una función solo retorna un solo valor. Inclusive si ese valor es el vacío"
      ]
    },
    {
      "cell_type": "code",
      "metadata": {
        "colab": {
          "base_uri": "https://localhost:8080/"
        },
        "id": "mgu7xvVxbYgj",
        "outputId": "d1e8bebb-1def-4d7a-9cfd-a00cb9fda134"
      },
      "source": [
        "#invocar sumar\n",
        "res=sumar(7,7)\n",
        "print(res)\n",
        "#invocar la funcion pintar cuadro\n",
        "res=imprime_cuadro()\n",
        "print(res)"
      ],
      "execution_count": null,
      "outputs": [
        {
          "output_type": "stream",
          "name": "stdout",
          "text": [
            "14\n",
            "****\n",
            "****\n",
            "****\n",
            "****\n",
            "None\n"
          ]
        }
      ]
    },
    {
      "cell_type": "markdown",
      "metadata": {
        "id": "oaQLCov5dF2C"
      },
      "source": [
        "#La palabra reservada None de python\n",
        "Esta palabr reservada significa vacío, equivalente a la palabra reservada void del lenguaje C, C++ y Java.\n",
        "\n",
        "Se usa para indcar, ya sea, un return vacío o que se recibe como un parámetro vacío.\n"
      ]
    },
    {
      "cell_type": "code",
      "metadata": {
        "colab": {
          "base_uri": "https://localhost:8080/"
        },
        "id": "z5gY-Y-id3PT",
        "outputId": "82311f42-e8b1-4032-d89a-1fb97da8012a"
      },
      "source": [
        "def multiplicar(valor,veces):\n",
        "    c=valor*veces\n",
        "    return c\n",
        "res=multiplicar(5,8)\n",
        "print(res)"
      ],
      "execution_count": null,
      "outputs": [
        {
          "output_type": "stream",
          "name": "stdout",
          "text": [
            "40\n"
          ]
        }
      ]
    },
    {
      "cell_type": "code",
      "metadata": {
        "colab": {
          "base_uri": "https://localhost:8080/"
        },
        "id": "v7Z_eVFNeymK",
        "outputId": "96510748-3785-4fc9-a9f4-a639053df964"
      },
      "source": [
        "def multiplicar(valor,veces):\n",
        "    if valor==None:\n",
        "        c=-1\n",
        "    else:\n",
        "        c=valor*veces\n",
        "    return c\n",
        "res=multiplicar(None,8) \n",
        "print(res)"
      ],
      "execution_count": null,
      "outputs": [
        {
          "output_type": "stream",
          "name": "stdout",
          "text": [
            "-1\n"
          ]
        }
      ]
    },
    {
      "cell_type": "markdown",
      "metadata": {
        "id": "Ia-J-YDbfhXT"
      },
      "source": [
        "#Parámetros y argumentos.\n",
        "Son conceptos relacionados y su diferencia esta centrada en el momento que se emplea en una función.\n",
        "\n",
        "Es decir, en la función sumar de arriba cundo se declara se le llama parámetro y cuando se invoca se le llama argumento"
      ]
    },
    {
      "cell_type": "markdown",
      "metadata": {
        "id": "8DKRV-rcfbNw"
      },
      "source": [
        "#Argumentos posicionales\n",
        "Em Python es posible determinar a qué parámetros están dirigidos los argumentos, según su posición.\n"
      ]
    },
    {
      "cell_type": "code",
      "metadata": {
        "id": "GYaqh1kugrDD"
      },
      "source": [
        "def dividir(op1, op2):\n",
        "    c=op1/op2\n",
        "    return c"
      ],
      "execution_count": null,
      "outputs": []
    },
    {
      "cell_type": "code",
      "metadata": {
        "colab": {
          "base_uri": "https://localhost:8080/"
        },
        "id": "FZAlVYl9g2NK",
        "outputId": "603520c5-9530-452c-8f5a-da8210e0b7a8"
      },
      "source": [
        "num1=25\n",
        "num2=5\n",
        "res=dividir(num1,num2)\n",
        "print(res)\n",
        "res=dividir(num2,num1)\n",
        "print(res)"
      ],
      "execution_count": null,
      "outputs": [
        {
          "output_type": "stream",
          "name": "stdout",
          "text": [
            "5.0\n",
            "0.2\n"
          ]
        }
      ]
    },
    {
      "cell_type": "markdown",
      "metadata": {
        "id": "SH1v6iyQhYFS"
      },
      "source": [
        "#Argumentos con palabras clave (keywords)\n",
        "Es la posibilidad de indicarle a la función en tiemo de ejecución a qué parámetro va dirigido un argumento de entrada.\n",
        "\n",
        "Solo disponible en Python"
      ]
    },
    {
      "cell_type": "code",
      "metadata": {
        "colab": {
          "base_uri": "https://localhost:8080/"
        },
        "id": "YV_ViO34h8UB",
        "outputId": "06622d65-5cdb-4e78-b86b-5cddb8b0dd8d"
      },
      "source": [
        "res=dividir(op2=num2,op1=num1)\n",
        "print(res)"
      ],
      "execution_count": null,
      "outputs": [
        {
          "output_type": "stream",
          "name": "stdout",
          "text": [
            "5.0\n"
          ]
        }
      ]
    },
    {
      "cell_type": "markdown",
      "source": [
        "#FECHA: 7 DE DICIEMBRE DE 2021"
      ],
      "metadata": {
        "id": "8q4ra-pC-KYy"
      }
    },
    {
      "cell_type": "markdown",
      "source": [
        "#Argumento por defecto\n",
        "Es la capacidad de las funciones de establecer un valor por defecto. (Default)\n",
        "\n",
        "Si no se envia un argumento a dicho parámetro, entonces se asigna el que el programador asignó como default"
      ],
      "metadata": {
        "id": "fWorKjvo-MCS"
      }
    },
    {
      "cell_type": "code",
      "source": [
        "def dividir(op1,op2=2):\n",
        "    c=op1/op2\n",
        "    return c\n",
        "print(dividir(25))"
      ],
      "metadata": {
        "colab": {
          "base_uri": "https://localhost:8080/"
        },
        "id": "GauIc1Sd-j7x",
        "outputId": "fef63b34-dd7e-4858-f1d5-c733d5408077"
      },
      "execution_count": null,
      "outputs": [
        {
          "output_type": "stream",
          "name": "stdout",
          "text": [
            "12.5\n"
          ]
        }
      ]
    },
    {
      "cell_type": "markdown",
      "source": [
        "Este concepto se puede ejemplificar con la función **print**.\n"
      ],
      "metadata": {
        "id": "O3iMaj5A_HUj"
      }
    },
    {
      "cell_type": "code",
      "source": [
        "help(print)"
      ],
      "metadata": {
        "colab": {
          "base_uri": "https://localhost:8080/"
        },
        "id": "i5Ljw8KK_O1q",
        "outputId": "d829431b-b11d-4436-bb17-5ba7752cfa10"
      },
      "execution_count": null,
      "outputs": [
        {
          "output_type": "stream",
          "name": "stdout",
          "text": [
            "Help on built-in function print in module builtins:\n",
            "\n",
            "print(...)\n",
            "    print(value, ..., sep=' ', end='\\n', file=sys.stdout, flush=False)\n",
            "    \n",
            "    Prints the values to a stream, or to sys.stdout by default.\n",
            "    Optional keyword arguments:\n",
            "    file:  a file-like object (stream); defaults to the current sys.stdout.\n",
            "    sep:   string inserted between values, default a space.\n",
            "    end:   string appended after the last value, default a newline.\n",
            "    flush: whether to forcibly flush the stream.\n",
            "\n"
          ]
        }
      ]
    },
    {
      "cell_type": "code",
      "source": [
        "nombre=\"Josué\"\"\"\n",
        "edad=19\n",
        "print(nombre,edad, sep=\"****\")\n",
        "print(\"hola\", end=\" \")\n",
        "print(\"------\")"
      ],
      "metadata": {
        "colab": {
          "base_uri": "https://localhost:8080/"
        },
        "id": "-zstsiqx_ym7",
        "outputId": "350d3cc5-87f1-4573-b428-be9100b44efb"
      },
      "execution_count": null,
      "outputs": [
        {
          "output_type": "stream",
          "name": "stdout",
          "text": [
            "Josué****19\n",
            "hola ------\n"
          ]
        }
      ]
    },
    {
      "cell_type": "markdown",
      "source": [
        "#Ejercicio Argumentos posicionales"
      ],
      "metadata": {
        "id": "OBpHj6-lAmKx"
      }
    },
    {
      "cell_type": "code",
      "source": [
        "def comanda(comensal=1, primer=\"Consome\", segundo=\"Arroz rojo\", tercero=\"Enchiladas\"):\n",
        "    print(f\"El comensal {comensal} quiere: \")\n",
        "    print(\"\\t Entrada: \", primer)\n",
        "    print(\"\\t Medio: \", segundo)\n",
        "    print(\"\\t Plato fuerte: \", tercero)\n",
        "comanda()\n",
        "\n",
        "comanda (3, \"Ensalada\", \"arroz blanco\", \"Esparragos al horno\")\n",
        "comanda(\"arroz blanco\", \"Esparragos al horno\",\"Ensalada\",3)\n",
        "comanda(segundo=\"arroz blanco\", tercero=\"Esparragos al horno\", primer=\"Ensalada\", comensal=3)\n"
      ],
      "metadata": {
        "colab": {
          "base_uri": "https://localhost:8080/"
        },
        "id": "Utn0F-BsA_Ti",
        "outputId": "9c9d7d37-9e70-40e9-db93-bc292591b010"
      },
      "execution_count": null,
      "outputs": [
        {
          "output_type": "stream",
          "name": "stdout",
          "text": [
            "El comensal 1 quiere: \n",
            "\t Entrada:  Consome\n",
            "\t Medio:  Arroz rojo\n",
            "\t Plato fuerte:  Enchiladas\n",
            "El comensal 3 quiere: \n",
            "\t Entrada:  Ensalada\n",
            "\t Medio:  arroz blanco\n",
            "\t Plato fuerte:  Esparragos al horno\n",
            "El comensal arroz blanco quiere: \n",
            "\t Entrada:  Esparragos al horno\n",
            "\t Medio:  Ensalada\n",
            "\t Plato fuerte:  3\n",
            "El comensal 4 quiere: \n",
            "\t Entrada:  Ensalada\n",
            "\t Medio:  arroz blanco\n",
            "\t Plato fuerte:  Esparragos al horno\n"
          ]
        }
      ]
    },
    {
      "cell_type": "markdown",
      "source": [
        "#Argumentos enviados en grupo en una tupla.\n",
        "Esto sirve para enviar multiples argumentos a una función empleando el comodín *\n",
        "```\n",
        "def mifun(args*):\n",
        "    <cuerpo de la funcion>\n",
        "```"
      ],
      "metadata": {
        "id": "cmWqAghbDjeO"
      }
    },
    {
      "cell_type": "code",
      "source": [
        "def comanda2(*opciones):\n",
        "    #print(opciones)\n",
        "    print(f\"El comensal {opciones[0]}, pidió\")\n",
        "    print(\"\\tEntrada: \", opciones[1])\n",
        "    print(\"\\tSegundo: \", opciones[2])\n",
        "    print(\"\\tPlato fuerte: \", opciones[3])\n",
        "    print(\"\\nIndicaciones ectra: \")\n",
        "    for instruccion in opciones[4::]:\n",
        "        print(instruccion)\n",
        "\n",
        "comanda2(1,\"Sopa de fideo\", \"Arroz\", \"Arrachera\",\"La Arrachera que aun se mueva\", \"Postre gelatina\")"
      ],
      "metadata": {
        "colab": {
          "base_uri": "https://localhost:8080/"
        },
        "id": "iGXNAdNhDiE5",
        "outputId": "a32edbd3-dc2c-4dff-db08-7ed2778f337b"
      },
      "execution_count": null,
      "outputs": [
        {
          "output_type": "stream",
          "name": "stdout",
          "text": [
            "El comensal 1, pidió\n",
            "\tEntrada:  Sopa de fideo\n",
            "\tSegundo:  Arroz\n",
            "\tPlato fuerte:  Arrachera\n",
            "\n",
            "Indicaciones ectra: \n",
            "La Arrachera que aun se mueva\n",
            "Postre gelatina\n"
          ]
        }
      ]
    },
    {
      "cell_type": "markdown",
      "source": [
        "#Argumentos enviados en grupo en un diccionario.\n",
        "Es el msmo concepto que el anterior, pero se us el comodin ** y se mapea  un diccionario."
      ],
      "metadata": {
        "id": "0H6E95gsG3FI"
      }
    },
    {
      "cell_type": "code",
      "source": [
        "def comanda3(**opciones):\n",
        "    ops=opciones.keys()\n",
        "    for key in ops:\n",
        "        print(f\"{key}={opciones[key]}\")\n",
        "\n",
        "comanda3(segundo=\"arroz blanco\",tercero=\"Esparragos al horno\",primer=\"Ensalada\",comensal=3)"
      ],
      "metadata": {
        "colab": {
          "base_uri": "https://localhost:8080/"
        },
        "id": "ZqkXCHWCHGFX",
        "outputId": "a35deca2-2a25-40c7-9fe4-78ecae90cc16"
      },
      "execution_count": null,
      "outputs": [
        {
          "output_type": "stream",
          "name": "stdout",
          "text": [
            "segundo=arroz blanco\n",
            "tercero=Esparragos al horno\n",
            "primer=Ensalada\n",
            "comensal=3\n"
          ]
        }
      ]
    },
    {
      "cell_type": "markdown",
      "source": [
        "#Modularidad y bibliotecas\n",
        "Todos los lenguajes de programación tienen la capacidad de compartir código, entre la comunidad de programadores.\n",
        "\n",
        "Para ello cada lenguae establece un mecaniso para escribir y compartir bibliotecas."
      ],
      "metadata": {
        "id": "AXJcLKO0SYaO"
      }
    },
    {
      "cell_type": "code",
      "source": [
        "#modularidad y bibliotecas\n",
        "#Todos los lenguajes de programación tienen la capacidad de compartir código, entre la comunidad de programadores.\n",
        "\n",
        "#Para ello cada lenguae establece un mecaniso para escribir y compartir bibliotecas.\n",
        "\n",
        "print(\"Hola en color amarillo: \")"
      ],
      "metadata": {
        "colab": {
          "base_uri": "https://localhost:8080/"
        },
        "id": "HSKQq-RcJm95",
        "outputId": "fba09c1b-c335-4c80-cd08-3b8e023f8a56"
      },
      "execution_count": null,
      "outputs": [
        {
          "output_type": "stream",
          "name": "stdout",
          "text": [
            "Hola en color amarillo: \n"
          ]
        }
      ]
    },
    {
      "cell_type": "code",
      "source": [
        "!ls sample_data\n",
        "!pip install simple_chalk"
      ],
      "metadata": {
        "colab": {
          "base_uri": "https://localhost:8080/"
        },
        "id": "yh2nlkPVMFXo",
        "outputId": "7c9aeb39-4fe5-46f0-8e77-8fd2688679b4"
      },
      "execution_count": null,
      "outputs": [
        {
          "output_type": "stream",
          "name": "stdout",
          "text": [
            "anscombe.json\t\t      mnist_test.csv\n",
            "california_housing_test.csv   mnist_train_small.csv\n",
            "california_housing_train.csv  README.md\n",
            "Collecting simple_chalk\n",
            "  Downloading simple_chalk-0.1.0.tar.gz (13 kB)\n",
            "Building wheels for collected packages: simple-chalk\n",
            "  Building wheel for simple-chalk (setup.py) ... \u001b[?25l\u001b[?25hdone\n",
            "  Created wheel for simple-chalk: filename=simple_chalk-0.1.0-py3-none-any.whl size=22163 sha256=2b6187c5d51138f8792e0730cc7f4172ca878ea9f6d390d4d04e633809460d36\n",
            "  Stored in directory: /root/.cache/pip/wheels/24/e2/84/d54838032016039eef79df1137b91defaa6db068d825dfcdcd\n",
            "Successfully built simple-chalk\n",
            "Installing collected packages: simple-chalk\n",
            "Successfully installed simple-chalk-0.1.0\n"
          ]
        }
      ]
    },
    {
      "cell_type": "code",
      "source": [
        "from simple_chalk import chalk, yellow\n",
        "print(chalk.yellow(\"Hola en color amarillo \"))"
      ],
      "metadata": {
        "colab": {
          "base_uri": "https://localhost:8080/"
        },
        "id": "Nkp96Y9iMcpK",
        "outputId": "00a1a423-3b27-4d99-eda0-16980fe93306"
      },
      "execution_count": null,
      "outputs": [
        {
          "output_type": "stream",
          "name": "stdout",
          "text": [
            "\u001b[33mHola en color amarillo \u001b[0m\n"
          ]
        }
      ]
    },
    {
      "cell_type": "markdown",
      "source": [
        "#¿Cómo escribo un módulo (biblioteca)?\n",
        "\n",
        "Se define en un archivo de biblioteca."
      ],
      "metadata": {
        "id": "L6Lfs6C9PAUI"
      }
    },
    {
      "cell_type": "code",
      "source": [
        "!cat mi_modulo.py"
      ],
      "metadata": {
        "colab": {
          "base_uri": "https://localhost:8080/"
        },
        "id": "-kBBSF3EPOXX",
        "outputId": "006e1916-5dcd-407f-86a4-eab600e32d0f"
      },
      "execution_count": null,
      "outputs": [
        {
          "output_type": "stream",
          "name": "stdout",
          "text": [
            "def sumar(a,b):\r\n",
            "    return a+b\r\n",
            "\r\n",
            "def mi_print(texto,final):\r\n",
            "    print(\"Super: \", text, end=final)"
          ]
        }
      ]
    },
    {
      "cell_type": "code",
      "source": [
        "import mi_modulo\n",
        "res=mi_modulo.sumar(7,5)\n",
        "print(res)\n",
        "\n",
        "mi_modulo.mi_print(\"Josue\", \"\\n\")"
      ],
      "metadata": {
        "colab": {
          "base_uri": "https://localhost:8080/"
        },
        "id": "kgF3dcHVQsAn",
        "outputId": "1a16cff2-1817-4a5d-eb0a-754003156fb4"
      },
      "execution_count": null,
      "outputs": [
        {
          "output_type": "stream",
          "name": "stdout",
          "text": [
            "12\n",
            "Super:  Josue\n"
          ]
        }
      ]
    },
    {
      "cell_type": "code",
      "source": [
        "from mi_modulo import sumar, mi_print\n",
        "res=sumar(5,3)\n",
        "print(res)\n",
        "\n",
        "mi_print(\"Josue\", \"\\n\")"
      ],
      "metadata": {
        "colab": {
          "base_uri": "https://localhost:8080/"
        },
        "id": "ydCDKrzzR6Nv",
        "outputId": "85a54c89-d973-4e55-afd7-7932024a4af7"
      },
      "execution_count": null,
      "outputs": [
        {
          "output_type": "stream",
          "name": "stdout",
          "text": [
            "8\n",
            "Super:  Josue\n"
          ]
        }
      ]
    },
    {
      "cell_type": "markdown",
      "source": [
        "#Manejo de archivos con Python3\n",
        "\n",
        "- leer archivos\n",
        "- esribir en archivos\n",
        "- manipular la informacion leída desde un archivo\n",
        "- formatos de archivo"
      ],
      "metadata": {
        "id": "YYipw-Z-Sp5f"
      }
    },
    {
      "cell_type": "code",
      "source": [
        "archivo=open(\"salida.txt\",\"wt\") #\n",
        "archivo.write(\"hola mundo\")\n",
        "archivo.close()"
      ],
      "metadata": {
        "id": "QIB99iMiS3lv"
      },
      "execution_count": null,
      "outputs": []
    },
    {
      "cell_type": "code",
      "source": [
        "!cat salida.txt"
      ],
      "metadata": {
        "colab": {
          "base_uri": "https://localhost:8080/"
        },
        "id": "swozBK7xTNSf",
        "outputId": "511bc91d-bf18-44d9-a37f-1d2fc831ea2f"
      },
      "execution_count": null,
      "outputs": [
        {
          "output_type": "stream",
          "name": "stdout",
          "text": [
            "hola mundo"
          ]
        }
      ]
    },
    {
      "cell_type": "markdown",
      "source": [
        "#FECHA: 9 DE DICIEMBRE DE 2021"
      ],
      "metadata": {
        "id": "0MLhJ2PEPrH0"
      }
    },
    {
      "cell_type": "markdown",
      "source": [
        "Para abrir un archivo ya sea para lectua o escritura se usa la función open.\n",
        "\n",
        "```\n",
        "open(fileobj,\"XY\")\n",
        "```\n",
        "Donde File object es el nombre del archivo a  abrir, y el segundo argumento de la función, está formado por un par de letras. La prmer letra establece el tipo de apertura del archivo:\n",
        "\n",
        "1. **r**  Lectura.\n",
        "2. **w**  Escritura.\n",
        "3. **x**  Escritura exclusiva, es decir solo en el caso que el archivo no exista.\n",
        "4. **a**  Append.  (para agragar texto)\n",
        "\n",
        "El segundo caracter indica el forato del archivo:\n",
        "\n",
        "1. **t**  Formato de texto\n",
        "2. **b**  Formao binario."
      ],
      "metadata": {
        "id": "3saOtq6fP4ay"
      }
    },
    {
      "cell_type": "code",
      "source": [
        "archivo=open(\"ejemplo1.txt\",\"wt\")\n",
        "for x in range(10):\n",
        "    archivo.write(\"Hola mundo \"+str(x)+\"\\n\")\n",
        "cont=archivo.write(\"Otra cosa\")\n",
        "archivo.close()\n",
        "\n",
        "print(\"Escritos: \",cont)"
      ],
      "metadata": {
        "colab": {
          "base_uri": "https://localhost:8080/"
        },
        "id": "DmnXrtAjRA4r",
        "outputId": "29e5923c-1bda-4435-b440-6ac5d52d8a49"
      },
      "execution_count": null,
      "outputs": [
        {
          "output_type": "stream",
          "name": "stdout",
          "text": [
            "Escritos:  9\n"
          ]
        }
      ]
    },
    {
      "cell_type": "markdown",
      "source": [
        "#La función write\n",
        "La función write escribe datos en un archivo abierto para escritura, para ello utiiza un cursor (apuntador) al siguiente byte dentro del archivo.\n",
        "\n",
        "Cuando el archivo se abre, se crea este apuntador y se posiciona para moverse de forma automática cada vez que escribimos.\n",
        "\n",
        "La función write regresa un valor entero que indica el núero de caracteres escritos en el archivo."
      ],
      "metadata": {
        "id": "Y9ZM2Os2R5cD"
      }
    },
    {
      "cell_type": "markdown",
      "source": [
        "#Lectura de un archivo.\n",
        "\n",
        "Para leer un archivo con programación se puede emplear una de tres  (funciones):\n",
        "\n",
        "1. read() lee todo el archivo y lo regresa como texto.\n",
        "2. readline() Lee una sola linea (Hasta encontrar el siguiente \"\\n\") y la regresa como string.\n",
        "3. readlines() lee todo el archivo y lo regresa como una lista de texto separada por saltos de linea.\n"
      ],
      "metadata": {
        "id": "s4XRttU1TQkI"
      }
    },
    {
      "cell_type": "code",
      "source": [
        "!cat ejemplo1.txt"
      ],
      "metadata": {
        "colab": {
          "base_uri": "https://localhost:8080/"
        },
        "id": "68FEz8EeUNY2",
        "outputId": "a1fdd34b-5760-4a05-d38c-e28bc1ae2b96"
      },
      "execution_count": null,
      "outputs": [
        {
          "output_type": "stream",
          "name": "stdout",
          "text": [
            "Hola mundo 0\n",
            "Hola mundo 1\n",
            "Hola mundo 2\n",
            "Hola mundo 3\n",
            "Hola mundo 4\n",
            "Hola mundo 5\n",
            "Hola mundo 6\n",
            "Hola mundo 7\n",
            "Hola mundo 8\n",
            "Hola mundo 9\n",
            "Otra cosa"
          ]
        }
      ]
    },
    {
      "cell_type": "code",
      "source": [
        "archivo1=open(\"ejemplo1.txt\",\"rt\")\n",
        "datos=archivo1.read()\n",
        "separados=datos.split(\"\\n\")#metodo split separa en cadenas y alamacena en cadena\n",
        "print(separados)\n",
        "for index in range(len(separados)):#numero de elementos de una lista\n",
        "    if index%2==0:\n",
        "        print(separados[index].upper())\n",
        "    else:\n",
        "        print(separados[index].lower())\n",
        "print(\"-->\"+ datos +\"<--\")"
      ],
      "metadata": {
        "colab": {
          "base_uri": "https://localhost:8080/"
        },
        "id": "NcnmldW_UVML",
        "outputId": "b823a822-1b97-456e-963e-1d26431ef4c3"
      },
      "execution_count": null,
      "outputs": [
        {
          "output_type": "stream",
          "name": "stdout",
          "text": [
            "['Hola mundo 0', 'Hola mundo 1', 'Hola mundo 2', 'Hola mundo 3', 'Hola mundo 4', 'Hola mundo 5', 'Hola mundo 6', 'Hola mundo 7', 'Hola mundo 8', 'Hola mundo 9', 'Otra cosa']\n",
            "HOLA MUNDO 0\n",
            "hola mundo 1\n",
            "HOLA MUNDO 2\n",
            "hola mundo 3\n",
            "HOLA MUNDO 4\n",
            "hola mundo 5\n",
            "HOLA MUNDO 6\n",
            "hola mundo 7\n",
            "HOLA MUNDO 8\n",
            "hola mundo 9\n",
            "OTRA COSA\n",
            "-->Hola mundo 0\n",
            "Hola mundo 1\n",
            "Hola mundo 2\n",
            "Hola mundo 3\n",
            "Hola mundo 4\n",
            "Hola mundo 5\n",
            "Hola mundo 6\n",
            "Hola mundo 7\n",
            "Hola mundo 8\n",
            "Hola mundo 9\n",
            "Otra cosa<--\n"
          ]
        }
      ]
    },
    {
      "cell_type": "code",
      "source": [
        "archivo2=open(\"ejemplo1.txt\",\"rt\")\n",
        "for x in range(11):\n",
        "    if x%2==0:\n",
        "        print(archivo2.readline().upper(),end=\"\")\n",
        "    else:\n",
        "        print(archivo2.readline().lower(),end=\"\")\n",
        "\n",
        "\n",
        "#linea=archivo2.readline()\n",
        "#print(linea)\n",
        "\n"
      ],
      "metadata": {
        "colab": {
          "base_uri": "https://localhost:8080/"
        },
        "id": "c8zpK1FMVaJE",
        "outputId": "31848c53-5b03-47a1-d9a1-7b870aec4114"
      },
      "execution_count": null,
      "outputs": [
        {
          "output_type": "stream",
          "name": "stdout",
          "text": [
            "HOLA MUNDO 0\n",
            "hola mundo 1\n",
            "HOLA MUNDO 2\n",
            "hola mundo 3\n",
            "HOLA MUNDO 4\n",
            "hola mundo 5\n",
            "HOLA MUNDO 6\n",
            "hola mundo 7\n",
            "HOLA MUNDO 8\n",
            "hola mundo 9\n",
            "OTRA COSA"
          ]
        }
      ]
    },
    {
      "cell_type": "code",
      "source": [
        "archivo3=open(\"ejemplo1.txt\",\"rt\")\n",
        "lineas=archivo3.readlines()\n",
        "print(lineas)\n",
        "\n",
        "for texto in lineas: #For each sirve listas\n",
        "    print(texto.rstrip())\n"
      ],
      "metadata": {
        "colab": {
          "base_uri": "https://localhost:8080/"
        },
        "id": "sPu1XhqXcIO5",
        "outputId": "a4c1baf3-14fa-4547-ced2-062d26415316"
      },
      "execution_count": 23,
      "outputs": [
        {
          "output_type": "stream",
          "name": "stdout",
          "text": [
            "['Hola mundo 0\\n', 'Hola mundo 1\\n', 'Hola mundo 2\\n', 'Hola mundo 3\\n', 'Hola mundo 4\\n', 'Hola mundo 5\\n', 'Hola mundo 6\\n', 'Hola mundo 7\\n', 'Hola mundo 8\\n', 'Hola mundo 9\\n', 'Otra cosa']\n",
            "Hola mundo 0\n",
            "Hola mundo 1\n",
            "Hola mundo 2\n",
            "Hola mundo 3\n",
            "Hola mundo 4\n",
            "Hola mundo 5\n",
            "Hola mundo 6\n",
            "Hola mundo 7\n",
            "Hola mundo 8\n",
            "Hola mundo 9\n",
            "Otra cosa\n"
          ]
        }
      ]
    },
    {
      "cell_type": "code",
      "source": [
        "#intento de ejercicio\n",
        "archivo4 = open(\"ejemplo2.txt\" , \"rt\")\n",
        "lineas = archivo4.readlines()\n",
        "print(lineas)\n",
        "for linea in lineas[:len(lineas)-1:]:\n",
        "    print(lineas)"
      ],
      "metadata": {
        "colab": {
          "base_uri": "https://localhost:8080/"
        },
        "id": "gKnIXGwUiiNf",
        "outputId": "276140c5-80da-440f-a872-9c5c0a2011bc"
      },
      "execution_count": 24,
      "outputs": [
        {
          "output_type": "stream",
          "name": "stdout",
          "text": [
            "['   1   , 2,   3, 4 ,  5 \\n', '      10  , 20 , 30      ,  40\\n', '     100   , 200    , 300\\n', '       ']\n",
            "['   1   , 2,   3, 4 ,  5 \\n', '      10  , 20 , 30      ,  40\\n', '     100   , 200    , 300\\n', '       ']\n",
            "['   1   , 2,   3, 4 ,  5 \\n', '      10  , 20 , 30      ,  40\\n', '     100   , 200    , 300\\n', '       ']\n",
            "['   1   , 2,   3, 4 ,  5 \\n', '      10  , 20 , 30      ,  40\\n', '     100   , 200    , 300\\n', '       ']\n"
          ]
        }
      ]
    },
    {
      "cell_type": "code",
      "source": [
        "archivo4 = open(\"ejemplo2.txt\" , \"rt\")\n",
        "lineas = archivo4.readlines()\n",
        "print(lineas)\n",
        "suma = 0\n",
        "for linea in lineas[: len(lineas)-1 :]:\n",
        "    for numero in linea.strip().split(','):\n",
        "        suma += int( numero.strip() )\n",
        "        #print(numero)\n",
        "print(suma)"
      ],
      "metadata": {
        "colab": {
          "base_uri": "https://localhost:8080/"
        },
        "id": "EpowTCjWj2SH",
        "outputId": "1b517c9b-6968-4e7f-8349-a264c379220b"
      },
      "execution_count": 21,
      "outputs": [
        {
          "output_type": "stream",
          "name": "stdout",
          "text": [
            "['   1   , 2,   3, 4 ,  5 \\n', '      10  , 20 , 30      ,  40\\n', '     100   , 200    , 300\\n', '       ']\n",
            "715\n"
          ]
        }
      ]
    }
  ]
}