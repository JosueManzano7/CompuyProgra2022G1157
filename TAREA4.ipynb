{
  "nbformat": 4,
  "nbformat_minor": 0,
  "metadata": {
    "colab": {
      "name": "TAREA4.ipynb",
      "provenance": [],
      "authorship_tag": "ABX9TyOZ9J6Mo0cSjyIGFOo98cXK",
      "include_colab_link": true
    },
    "kernelspec": {
      "name": "python3",
      "display_name": "Python 3"
    },
    "language_info": {
      "name": "python"
    }
  },
  "cells": [
    {
      "cell_type": "markdown",
      "metadata": {
        "id": "view-in-github",
        "colab_type": "text"
      },
      "source": [
        "<a href=\"https://colab.research.google.com/github/JosueManzano7/CompuyProgra2022G1157/blob/main/TAREA4.ipynb\" target=\"_parent\"><img src=\"https://colab.research.google.com/assets/colab-badge.svg\" alt=\"Open In Colab\"/></a>"
      ]
    },
    {
      "cell_type": "markdown",
      "metadata": {
        "id": "DDiL5x1JwwTA"
      },
      "source": [
        "### TAREA 4"
      ]
    },
    {
      "cell_type": "code",
      "metadata": {
        "colab": {
          "base_uri": "https://localhost:8080/"
        },
        "id": "nFAAxA0mwu6s",
        "outputId": "bb80d2b5-a2a0-48e9-d602-dafa0731a645"
      },
      "source": [
        "J=\"\"\"JJJJJJJ\n",
        "   J\n",
        "   J\n",
        "   J\n",
        "   J\n",
        "   J\n",
        "JJJJ\n",
        "\"\"\"\n",
        "O=\"\"\"OOOOOOO\n",
        "O     O\n",
        "O     O\n",
        "O     O\n",
        "O     O\n",
        "O     O\n",
        "OOOOOOO\n",
        "\"\"\"\n",
        "\n",
        "S=\"\"\"SSSSSSS\n",
        "S\n",
        "S\n",
        "SSSSSSS\n",
        "      S\n",
        "      S\n",
        "SSSSSSS\n",
        "\"\"\"   \n",
        "U=\"\"\"U     U\n",
        "U     U\n",
        "U     U\n",
        "U     U\n",
        "U     U\n",
        "U     U\n",
        "UUUUUUU\n",
        "\"\"\" \n",
        "E=\"\"\"EEEEEEE\n",
        "E\n",
        "E\n",
        "EEEEEEE\n",
        "E\n",
        "E\n",
        "EEEEEEE\n",
        "\"\"\"\n",
        "\n",
        "print(f\"{J}\\n{O}\\n{S}\\n{U}\\n{E}\")"
      ],
      "execution_count": 7,
      "outputs": [
        {
          "output_type": "stream",
          "name": "stdout",
          "text": [
            "JJJJJJJ\n",
            "   J\n",
            "   J\n",
            "   J\n",
            "   J\n",
            "   J\n",
            "JJJJ\n",
            "\n",
            "OOOOOOO\n",
            "O     O\n",
            "O     O\n",
            "O     O\n",
            "O     O\n",
            "O     O\n",
            "OOOOOOO\n",
            "\n",
            "SSSSSSS\n",
            "S\n",
            "S\n",
            "SSSSSSS\n",
            "      S\n",
            "      S\n",
            "SSSSSSS\n",
            "\n",
            "U     U\n",
            "U     U\n",
            "U     U\n",
            "U     U\n",
            "U     U\n",
            "U     U\n",
            "UUUUUUU\n",
            "\n",
            "EEEEEEE\n",
            "E\n",
            "E\n",
            "EEEEEEE\n",
            "E\n",
            "E\n",
            "EEEEEEE\n",
            "\n"
          ]
        }
      ]
    }
  ]
}