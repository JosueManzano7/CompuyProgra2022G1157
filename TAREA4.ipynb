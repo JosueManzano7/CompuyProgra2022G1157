{
  "nbformat": 4,
  "nbformat_minor": 0,
  "metadata": {
    "colab": {
      "name": "TAREA4.ipynb",
      "provenance": [],
      "authorship_tag": "ABX9TyMGCUm3QwreQW0LbFvC+pX3",
      "include_colab_link": true
    },
    "kernelspec": {
      "name": "python3",
      "display_name": "Python 3"
    },
    "language_info": {
      "name": "python"
    }
  },
  "cells": [
    {
      "cell_type": "markdown",
      "metadata": {
        "id": "view-in-github",
        "colab_type": "text"
      },
      "source": [
        "<a href=\"https://colab.research.google.com/github/JosueManzano7/CompuyProgra2022G1157/blob/main/TAREA4.ipynb\" target=\"_parent\"><img src=\"https://colab.research.google.com/assets/colab-badge.svg\" alt=\"Open In Colab\"/></a>"
      ]
    },
    {
      "cell_type": "markdown",
      "metadata": {
        "id": "DDiL5x1JwwTA"
      },
      "source": [
        "### TAREA 4"
      ]
    },
    {
      "cell_type": "code",
      "metadata": {
        "colab": {
          "base_uri": "https://localhost:8080/"
        },
        "id": "nFAAxA0mwu6s",
        "outputId": "35778792-8961-48bc-c33f-9c42cdc35f3c"
      },
      "source": [
        "J=\"\"\"\n",
        "JJJJJJJ\n",
        "   J\n",
        "   J\n",
        "   J\n",
        "   J\n",
        "   J\n",
        "JJJJ\n",
        "\"\"\"\n",
        "O=\"\"\"\n",
        "OOOOOOO\n",
        "O     O\n",
        "O     O\n",
        "O     O\n",
        "O     O\n",
        "O     O\n",
        "OOOOOOO\n",
        "\"\"\"\n",
        "\n",
        "S=\"\"\"\n",
        "SSSSSSS\n",
        "S\n",
        "S\n",
        "SSSSSSS\n",
        "      S\n",
        "      S\n",
        "SSSSSSS\n",
        "\"\"\"   \n",
        "U=\"\"\"\n",
        "U     U\n",
        "U     U\n",
        "U     U\n",
        "U     U\n",
        "U     U\n",
        "U     U\n",
        "UUUUUUU\n",
        "\"\"\" \n",
        "E=\"\"\"\n",
        "EEEEEEE\n",
        "E\n",
        "E\n",
        "EEEEEEE\n",
        "E\n",
        "E\n",
        "EEEEEEE\n",
        "\"\"\"\n",
        "#print con el operador f\" \" \n",
        "print(f\"{J}\\n{O}\\n{S}\\n{U}\\n{E}\")"
      ],
      "execution_count": 9,
      "outputs": [
        {
          "output_type": "stream",
          "name": "stdout",
          "text": [
            "\n",
            "JJJJJJJ\n",
            "   J\n",
            "   J\n",
            "   J\n",
            "   J\n",
            "   J\n",
            "JJJJ\n",
            "\n",
            "\n",
            "OOOOOOO\n",
            "O     O\n",
            "O     O\n",
            "O     O\n",
            "O     O\n",
            "O     O\n",
            "OOOOOOO\n",
            "\n",
            "\n",
            "SSSSSSS\n",
            "S\n",
            "S\n",
            "SSSSSSS\n",
            "      S\n",
            "      S\n",
            "SSSSSSS\n",
            "\n",
            "\n",
            "U     U\n",
            "U     U\n",
            "U     U\n",
            "U     U\n",
            "U     U\n",
            "U     U\n",
            "UUUUUUU\n",
            "\n",
            "\n",
            "EEEEEEE\n",
            "E\n",
            "E\n",
            "EEEEEEE\n",
            "E\n",
            "E\n",
            "EEEEEEE\n",
            "\n"
          ]
        }
      ]
    }
  ]
}