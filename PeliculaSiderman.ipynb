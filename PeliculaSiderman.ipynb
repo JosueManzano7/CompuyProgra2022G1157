{
  "nbformat": 4,
  "nbformat_minor": 0,
  "metadata": {
    "colab": {
      "name": "Untitled1.ipynb",
      "provenance": [],
      "authorship_tag": "ABX9TyOPHc13WO5BpsnYkxgCBUcr",
      "include_colab_link": true
    },
    "kernelspec": {
      "name": "python3",
      "display_name": "Python 3"
    },
    "language_info": {
      "name": "python"
    }
  },
  "cells": [
    {
      "cell_type": "markdown",
      "metadata": {
        "id": "view-in-github",
        "colab_type": "text"
      },
      "source": [
        "<a href=\"https://colab.research.google.com/github/JosueManzano7/CompuyProgra2022G1157/blob/main/PeliculaSiderman.ipynb\" target=\"_parent\"><img src=\"https://colab.research.google.com/assets/colab-badge.svg\" alt=\"Open In Colab\"/></a>"
      ]
    },
    {
      "cell_type": "code",
      "metadata": {
        "colab": {
          "base_uri": "https://localhost:8080/"
        },
        "id": "qCxFVvtLJWUR",
        "outputId": "ed8ce3aa-761c-43e8-f490-c169bc1c7885"
      },
      "source": [
        "Spiderman3={\"nombre\":\"Hombre Araña 3\",\n",
        "             \n",
        "            \"protagonistas\":\n",
        "               {\n",
        "                \"Hombres\":[\"Tobey Maguire\",\"James Franco\",\"Thomas Haden Church\"],\n",
        "                \"Mujeres\":[\"Kirsten Dunst\",\"Bryce Dallas Howard\"]      \n",
        "               },\n",
        "\n",
        "            \"Direccion\":\n",
        "            {\n",
        "              \"Director\":\"Sam Raimi\"\n",
        "             \n",
        "            },\n",
        "         \n",
        "           \"Heroes\":\n",
        "            {\n",
        "             \"heroes\":[\"Spiderman\",\"Harry Osborn\"]\n",
        "            },\n",
        "         \n",
        "             \"Villanos\":\n",
        "            {\n",
        "             \"Villanos\":[\"Sandman\",\"Venom\"]\n",
        "            },\n",
        "         \n",
        "\n",
        "         }  #llave final\n",
        "\n",
        "print(Spiderman3)\n",
        "\n"
      ],
      "execution_count": 3,
      "outputs": [
        {
          "output_type": "stream",
          "name": "stdout",
          "text": [
            "{'nombre': 'Hombre Araña 3', 'protagonistas': {'Hombres': ['Tobey Maguire', 'James Franco', 'Thomas Haden Church'], 'Mujeres': ['Kirsten Dunst', 'Bryce Dallas Howard']}, 'Direccion': {'Director': 'Sam Raii'}, 'Heroes': {'heroes': ['Spiderman', 'Harry Osborn']}, 'Villanos': {'Villanos': ['Sandman', 'Harry Venom']}}\n"
          ]
        }
      ]
    }
  ]
}