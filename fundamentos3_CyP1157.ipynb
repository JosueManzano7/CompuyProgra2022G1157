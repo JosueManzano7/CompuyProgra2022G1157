{
  "nbformat": 4,
  "nbformat_minor": 0,
  "metadata": {
    "colab": {
      "name": "fundamentos3_CyP1157.ipynb",
      "provenance": [],
      "authorship_tag": "ABX9TyNnXfxgXxojNlGoKzIU7xUT",
      "include_colab_link": true
    },
    "kernelspec": {
      "name": "python3",
      "display_name": "Python 3"
    },
    "language_info": {
      "name": "python"
    }
  },
  "cells": [
    {
      "cell_type": "markdown",
      "metadata": {
        "id": "view-in-github",
        "colab_type": "text"
      },
      "source": [
        "<a href=\"https://colab.research.google.com/github/JosueManzano7/CompuyProgra2022G1157/blob/main/fundamentos3_CyP1157.ipynb\" target=\"_parent\"><img src=\"https://colab.research.google.com/assets/colab-badge.svg\" alt=\"Open In Colab\"/></a>"
      ]
    },
    {
      "cell_type": "markdown",
      "metadata": {
        "id": "pxJ0gIe0Iw57"
      },
      "source": [
        "#FECHA 23 DE NOVIMBRE DE 2021"
      ]
    },
    {
      "cell_type": "markdown",
      "metadata": {
        "id": "CwVubQ-_Fj7a"
      },
      "source": [
        "Repeticion:\n",
        " - Este tipo de estructura nos permite automatizar la ejecucion repetitiva de código mientras ciertas condiciones se cumplan, tenems 3 variantes de esta estrctura en todos los lenguajes de programación:\n",
        "  - Desde...hasta (Estructura for)\n",
        "  - Haz mentras (Estructura While)\n",
        "  - Haz y luego validaz (Estructura Do-While)\n",
        "\n",
        "  #FOR CON PYTHON\n",
        "  ```\n",
        "for j in range(10):\n",
        "         print(f\"Hola {j}\")\n",
        "  ```\n",
        "\n",
        "  #FOR CON C Y JAVA\n",
        "  ```\n",
        "for (int j=0; j<10; j++)\n",
        "{\n",
        " print(\"Hola %i \\n\", j)\n",
        "}\n",
        "  ```\n",
        "En todos los lenguajes de programación existe un tipo de for, conocido como **for-each**\n",
        "\n",
        "# For-each en Python\n",
        "```\n",
        "for color in colores\n",
        "    print(f\"Este es el color {color}\")\n",
        "```\n"
      ]
    },
    {
      "cell_type": "code",
      "metadata": {
        "colab": {
          "base_uri": "https://localhost:8080/"
        },
        "id": "ysDJc7SgH4Dj",
        "outputId": "19b9073d-fedf-4947-dd1f-803149d13331"
      },
      "source": [
        "#funcion range()\n",
        "#range(<INICIO>, <STOP>, <INCREMENTO>)\n",
        "x=range(0,10,2)\n",
        "print(x)\n",
        "\n",
        "for j in range(10): #range(0,10)--> 0,1,2,3,4,5,6,7,8,9\n",
        "    print(f\"Hola {j}\")\n",
        "\n",
        "print(\"--------------------------------\")\n",
        "\n",
        "for j in range(0,10,2): #range(0,10,2)--> 0,2,4,6,8\n",
        "    print(f\"Hola {j}\")\n",
        "\n",
        "print(\"-----------------FRUTAS---------------\")\n",
        "\n",
        "frutas=[\"uva\", \"aguacate\", \"pera\", \"manzana\", \"sandia\"]\n",
        "for i in frutas:\n",
        "    print(i)\n",
        "print(\"------------\")\n",
        "for index in range(5):\n",
        "    print(frutas[index])\n",
        "\n",
        "print(\"------------\")\n",
        "for i in range(5):\n",
        "    print(\"+++++\")\n",
        "print(\"------------\")\n",
        "\n",
        "for i in range(6):\n",
        "    for j in range(i):\n",
        "        print('+', end = ' ')\n",
        "    print()"
      ],
      "execution_count": 27,
      "outputs": [
        {
          "output_type": "stream",
          "name": "stdout",
          "text": [
            "range(0, 10, 2)\n",
            "Hola 0\n",
            "Hola 1\n",
            "Hola 2\n",
            "Hola 3\n",
            "Hola 4\n",
            "Hola 5\n",
            "Hola 6\n",
            "Hola 7\n",
            "Hola 8\n",
            "Hola 9\n",
            "--------------------------------\n",
            "Hola 0\n",
            "Hola 2\n",
            "Hola 4\n",
            "Hola 6\n",
            "Hola 8\n",
            "-----------------FRUTAS---------------\n",
            "uva\n",
            "aguacate\n",
            "pera\n",
            "manzana\n",
            "sandia\n",
            "------------\n",
            "uva\n",
            "aguacate\n",
            "pera\n",
            "manzana\n",
            "sandia\n",
            "------------\n",
            "+++++\n",
            "+++++\n",
            "+++++\n",
            "+++++\n",
            "+++++\n",
            "------------\n",
            "\n",
            "+ \n",
            "+ + \n",
            "+ + + \n",
            "+ + + + \n",
            "+ + + + + \n"
          ]
        }
      ]
    }
  ]
}