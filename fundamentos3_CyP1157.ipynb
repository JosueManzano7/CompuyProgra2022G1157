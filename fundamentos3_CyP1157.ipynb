{
  "nbformat": 4,
  "nbformat_minor": 0,
  "metadata": {
    "colab": {
      "name": "fundamentos3_CyP1157.ipynb",
      "provenance": [],
      "authorship_tag": "ABX9TyPSACtOyZp2X3imOr/78A07",
      "include_colab_link": true
    },
    "kernelspec": {
      "name": "python3",
      "display_name": "Python 3"
    },
    "language_info": {
      "name": "python"
    }
  },
  "cells": [
    {
      "cell_type": "markdown",
      "metadata": {
        "id": "view-in-github",
        "colab_type": "text"
      },
      "source": [
        "<a href=\"https://colab.research.google.com/github/JosueManzano7/CompuyProgra2022G1157/blob/main/fundamentos3_CyP1157.ipynb\" target=\"_parent\"><img src=\"https://colab.research.google.com/assets/colab-badge.svg\" alt=\"Open In Colab\"/></a>"
      ]
    },
    {
      "cell_type": "markdown",
      "metadata": {
        "id": "pxJ0gIe0Iw57"
      },
      "source": [
        "#FECHA: 23 DE NOVIMBRE DE 2021"
      ]
    },
    {
      "cell_type": "markdown",
      "metadata": {
        "id": "CwVubQ-_Fj7a"
      },
      "source": [
        "Repeticion:\n",
        " - Este tipo de estructura nos permite automatizar la ejecucion repetitiva de código mientras ciertas condiciones se cumplan, tenems 3 variantes de esta estrctura en todos los lenguajes de programación:\n",
        "  - Desde...hasta (Estructura for)\n",
        "  - Haz mentras (Estructura While)\n",
        "  - Haz y luego validaz (Estructura Do-While)\n",
        "\n",
        "  #FOR CON PYTHON\n",
        "  ```\n",
        "for j in range(10):\n",
        "         print(f\"Hola {j}\")\n",
        "  ```\n",
        "\n",
        "  #FOR CON C Y JAVA\n",
        "  ```\n",
        "for (int j=0; j<10; j++)\n",
        "{\n",
        " print(\"Hola %i \\n\", j)\n",
        "}\n",
        "  ```\n",
        "En todos los lenguajes de programación existe un tipo de for, conocido como **for-each**\n",
        "\n",
        "# For-each en Python\n",
        "```\n",
        "for color in colores\n",
        "    print(f\"Este es el color {color}\")\n",
        "```\n"
      ]
    },
    {
      "cell_type": "code",
      "metadata": {
        "colab": {
          "base_uri": "https://localhost:8080/"
        },
        "id": "ysDJc7SgH4Dj",
        "outputId": "19b9073d-fedf-4947-dd1f-803149d13331"
      },
      "source": [
        "#funcion range()\n",
        "#range(<INICIO>, <STOP>, <INCREMENTO>)\n",
        "x=range(0,10,2)\n",
        "print(x)\n",
        "\n",
        "for j in range(10): #range(0,10)--> 0,1,2,3,4,5,6,7,8,9\n",
        "    print(f\"Hola {j}\")\n",
        "\n",
        "print(\"--------------------------------\")\n",
        "\n",
        "for j in range(0,10,2): #range(0,10,2)--> 0,2,4,6,8\n",
        "    print(f\"Hola {j}\")\n",
        "\n",
        "print(\"-----------------FRUTAS---------------\")\n",
        "\n",
        "frutas=[\"uva\", \"aguacate\", \"pera\", \"manzana\", \"sandia\"]\n",
        "for i in frutas:\n",
        "    print(i)\n",
        "print(\"------------\")\n",
        "for index in range(5):\n",
        "    print(frutas[index])\n",
        "\n",
        "print(\"------------\")\n",
        "for i in range(5):\n",
        "    print(\"+++++\")\n",
        "print(\"------------\")\n",
        "\n",
        "for i in range(6):\n",
        "    for j in range(i):\n",
        "        print('+', end = ' ')\n",
        "    print()"
      ],
      "execution_count": null,
      "outputs": [
        {
          "output_type": "stream",
          "name": "stdout",
          "text": [
            "range(0, 10, 2)\n",
            "Hola 0\n",
            "Hola 1\n",
            "Hola 2\n",
            "Hola 3\n",
            "Hola 4\n",
            "Hola 5\n",
            "Hola 6\n",
            "Hola 7\n",
            "Hola 8\n",
            "Hola 9\n",
            "--------------------------------\n",
            "Hola 0\n",
            "Hola 2\n",
            "Hola 4\n",
            "Hola 6\n",
            "Hola 8\n",
            "-----------------FRUTAS---------------\n",
            "uva\n",
            "aguacate\n",
            "pera\n",
            "manzana\n",
            "sandia\n",
            "------------\n",
            "uva\n",
            "aguacate\n",
            "pera\n",
            "manzana\n",
            "sandia\n",
            "------------\n",
            "+++++\n",
            "+++++\n",
            "+++++\n",
            "+++++\n",
            "+++++\n",
            "------------\n",
            "\n",
            "+ \n",
            "+ + \n",
            "+ + + \n",
            "+ + + + \n",
            "+ + + + + \n"
          ]
        }
      ]
    },
    {
      "cell_type": "markdown",
      "metadata": {
        "id": "j7fX_z9FL-1P"
      },
      "source": [
        "# FECHA: 25 DE NOVIEMBRE DE 2021"
      ]
    },
    {
      "cell_type": "markdown",
      "metadata": {
        "id": "KABXk9YUMCUV"
      },
      "source": [
        ""
      ]
    },
    {
      "cell_type": "code",
      "metadata": {
        "colab": {
          "base_uri": "https://localhost:8080/"
        },
        "id": "gRyycGqyMD6n",
        "outputId": "e15e2169-d2e7-40ed-d013-125b30096247"
      },
      "source": [
        "for x in range(1,20,1):\n",
        "    print(x)\n",
        "print(\"FIN DEL PROGRAMA\")\n",
        "\n",
        "for x in range(19,0,-1):\n",
        "    print(x)\n",
        "print(\"FIN DEL PROGRAMA\")"
      ],
      "execution_count": null,
      "outputs": [
        {
          "output_type": "stream",
          "name": "stdout",
          "text": [
            "1\n",
            "2\n",
            "3\n",
            "4\n",
            "5\n",
            "6\n",
            "7\n",
            "8\n",
            "9\n",
            "10\n",
            "11\n",
            "12\n",
            "13\n",
            "14\n",
            "15\n",
            "16\n",
            "17\n",
            "18\n",
            "19\n",
            "FIN DEL PROGRAMA\n",
            "19\n",
            "18\n",
            "17\n",
            "16\n",
            "15\n",
            "14\n",
            "13\n",
            "12\n",
            "11\n",
            "10\n",
            "9\n",
            "8\n",
            "7\n",
            "6\n",
            "5\n",
            "4\n",
            "3\n",
            "2\n",
            "1\n",
            "FIN DEL PROGRAMA\n"
          ]
        }
      ]
    },
    {
      "cell_type": "code",
      "metadata": {
        "colab": {
          "base_uri": "https://localhost:8080/"
        },
        "id": "1AwuFSQINKxh",
        "outputId": "8f5822f5-3ae5-4b37-b8fb-2ea01202942a"
      },
      "source": [
        "#Ejemplo 3.3\n",
        "CUECER=0\n",
        "NUM=0\n",
        "N =int(input(\"Introduce un valor numérico mayor que 1 \"))\n",
        "for I in range(1,N+1,1):\n",
        "    N =int(input(\"Introduce un valor numérico \"))\n",
        "    if N==0:\n",
        "        CUECER+=1\n",
        "print(\"CUECER= \", CUECER)\n",
        "\n"
      ],
      "execution_count": null,
      "outputs": [
        {
          "output_type": "stream",
          "name": "stdout",
          "text": [
            "Introduce un valor numérico mayor que 1 4\n",
            "Introduce un valor numérico mayor que 1 5\n",
            "Introduce un valor numérico mayor que 1 10\n",
            "Introduce un valor numérico mayor que 1 10\n",
            "Introduce un valor numérico mayor que 1 7\n",
            "CUECER=  0\n"
          ]
        }
      ]
    },
    {
      "cell_type": "code",
      "metadata": {
        "colab": {
          "base_uri": "https://localhost:8080/"
        },
        "id": "hNJOqy6-Qssc",
        "outputId": "d4b17ae0-a619-400e-ad2c-20aa41448893"
      },
      "source": [
        "for i in range(1, 11):\n",
        " print(f\"7 * {i} = \", 7*i)"
      ],
      "execution_count": null,
      "outputs": [
        {
          "output_type": "stream",
          "name": "stdout",
          "text": [
            "7 * 1 =  7\n",
            "7 * 2 =  14\n",
            "7 * 3 =  21\n",
            "7 * 4 =  28\n",
            "7 * 5 =  35\n",
            "7 * 6 =  42\n",
            "7 * 7 =  49\n",
            "7 * 8 =  56\n",
            "7 * 9 =  63\n",
            "7 * 10 =  70\n"
          ]
        }
      ]
    },
    {
      "cell_type": "code",
      "metadata": {
        "colab": {
          "base_uri": "https://localhost:8080/"
        },
        "id": "wTDadEsfRfzt",
        "outputId": "3b74a55a-f11f-4566-cbb2-08828874fb0f"
      },
      "source": [
        "n=int(input(\"Dame un número entre 1 y 5 \"))\n",
        "e=int(input(\"Dame un número entre 2 y 10 \"))\n",
        "if n>5 and n<1:\n",
        "    print(\"Debe ser un número entre lo valores dados\")\n",
        "elif e>10 and e<2:\n",
        "    print(\"Debe ser un número entre lo valores dados\")\n",
        "else:\n",
        "    for i in range(n, e+1):\n",
        "        for i in range(1, 11):\n",
        "          print(f\"{n} * {i} = \", n*i)\n",
        "        n=n+1\n",
        "        print(\"-------------------\")"
      ],
      "execution_count": null,
      "outputs": [
        {
          "output_type": "stream",
          "name": "stdout",
          "text": [
            "Dame un número entre 1 y 5 2\n",
            "Dame un número entre 2 y 10 5\n",
            "2 * 1 =  2\n",
            "2 * 2 =  4\n",
            "2 * 3 =  6\n",
            "2 * 4 =  8\n",
            "2 * 5 =  10\n",
            "2 * 6 =  12\n",
            "2 * 7 =  14\n",
            "2 * 8 =  16\n",
            "2 * 9 =  18\n",
            "2 * 10 =  20\n",
            "-------------------\n",
            "3 * 1 =  3\n",
            "3 * 2 =  6\n",
            "3 * 3 =  9\n",
            "3 * 4 =  12\n",
            "3 * 5 =  15\n",
            "3 * 6 =  18\n",
            "3 * 7 =  21\n",
            "3 * 8 =  24\n",
            "3 * 9 =  27\n",
            "3 * 10 =  30\n",
            "-------------------\n",
            "4 * 1 =  4\n",
            "4 * 2 =  8\n",
            "4 * 3 =  12\n",
            "4 * 4 =  16\n",
            "4 * 5 =  20\n",
            "4 * 6 =  24\n",
            "4 * 7 =  28\n",
            "4 * 8 =  32\n",
            "4 * 9 =  36\n",
            "4 * 10 =  40\n",
            "-------------------\n",
            "5 * 1 =  5\n",
            "5 * 2 =  10\n",
            "5 * 3 =  15\n",
            "5 * 4 =  20\n",
            "5 * 5 =  25\n",
            "5 * 6 =  30\n",
            "5 * 7 =  35\n",
            "5 * 8 =  40\n",
            "5 * 9 =  45\n",
            "5 * 10 =  50\n",
            "-------------------\n"
          ]
        }
      ]
    },
    {
      "cell_type": "code",
      "metadata": {
        "colab": {
          "base_uri": "https://localhost:8080/"
        },
        "id": "-6ctGEvgVi_E",
        "outputId": "e90381cb-fcd2-4dea-b1d8-ce8dc24dfaa0"
      },
      "source": [
        "N1=int(input(\"Dame un número entre 1 y 5: \"))\n",
        "if N1>0 and N1<=10:\n",
        "    N2=int(input(f\"Dame un número entre {N1} y 10: \"))\n",
        "    if N2>=N1 and N2<=10:\n",
        "        for i in range(N1, N2+1):\n",
        "            for j in range(1,11):\n",
        "                print(f\"{i} * {j} = \", i*j)\n",
        "            print(\"--------------------\")\n",
        "else:\n",
        "    print(\"Valor fuera del rango dado\")"
      ],
      "execution_count": null,
      "outputs": [
        {
          "output_type": "stream",
          "name": "stdout",
          "text": [
            "Dame un número entre 1 y 5: 2\n",
            "Dame un número entre 2 y 10: 5\n",
            "2 * 1 =  2\n",
            "2 * 2 =  4\n",
            "2 * 3 =  6\n",
            "2 * 4 =  8\n",
            "2 * 5 =  10\n",
            "2 * 6 =  12\n",
            "2 * 7 =  14\n",
            "2 * 8 =  16\n",
            "2 * 9 =  18\n",
            "2 * 10 =  20\n",
            "--------------------\n",
            "3 * 1 =  3\n",
            "3 * 2 =  6\n",
            "3 * 3 =  9\n",
            "3 * 4 =  12\n",
            "3 * 5 =  15\n",
            "3 * 6 =  18\n",
            "3 * 7 =  21\n",
            "3 * 8 =  24\n",
            "3 * 9 =  27\n",
            "3 * 10 =  30\n",
            "--------------------\n",
            "4 * 1 =  4\n",
            "4 * 2 =  8\n",
            "4 * 3 =  12\n",
            "4 * 4 =  16\n",
            "4 * 5 =  20\n",
            "4 * 6 =  24\n",
            "4 * 7 =  28\n",
            "4 * 8 =  32\n",
            "4 * 9 =  36\n",
            "4 * 10 =  40\n",
            "--------------------\n",
            "5 * 1 =  5\n",
            "5 * 2 =  10\n",
            "5 * 3 =  15\n",
            "5 * 4 =  20\n",
            "5 * 5 =  25\n",
            "5 * 6 =  30\n",
            "5 * 7 =  35\n",
            "5 * 8 =  40\n",
            "5 * 9 =  45\n",
            "5 * 10 =  50\n",
            "--------------------\n"
          ]
        }
      ]
    },
    {
      "cell_type": "code",
      "metadata": {
        "colab": {
          "base_uri": "https://localhost:8080/"
        },
        "id": "6i0SfHdNWvsU",
        "outputId": "c09c36f1-a22b-4269-f989-9156b7c0d2b2"
      },
      "source": [
        "#generadores de listas\n",
        "numeros=[0,0,0,0,0]\n",
        "print(numeros)\n",
        "numeros=[0 for x in range(5)]\n",
        "print(numeros)\n",
        "#empleando la variable de control x para el valor inicial\n",
        "numeros=[x for x in range(5)]\n",
        "print(numeros)\n",
        "\n",
        "numeros=[(x+1)*10 for x in range(10)]\n",
        "print(numeros)\n",
        "print(\"---------------------------\")\n",
        "numeros=[x for x in range(10,101,10)]\n",
        "print(numeros)\n",
        "print(\"---------------------------\")\n",
        "numeros=[x*10 for x in range(1,11)]\n",
        "print(numeros)"
      ],
      "execution_count": null,
      "outputs": [
        {
          "output_type": "stream",
          "name": "stdout",
          "text": [
            "[0, 0, 0, 0, 0]\n",
            "[0, 0, 0, 0, 0]\n",
            "[0, 1, 2, 3, 4]\n",
            "[10, 20, 30, 40, 50, 60, 70, 80, 90, 100]\n",
            "---------------------------\n",
            "[10, 20, 30, 40, 50, 60, 70, 80, 90, 100]\n",
            "---------------------------\n",
            "[10, 20, 30, 40, 50, 60, 70, 80, 90, 100]\n"
          ]
        }
      ]
    },
    {
      "cell_type": "code",
      "metadata": {
        "colab": {
          "base_uri": "https://localhost:8080/"
        },
        "id": "v7RzRbtzYR8D",
        "outputId": "f4a44405-5f38-4d50-a2c8-a4b452cbda07"
      },
      "source": [
        "#ejercicio: calcular promedio de edades\n",
        "suma=0\n",
        "edades=[0 for x in range(5)]\n",
        "for x in range(5):\n",
        "    edades[x]=int(input(\"Dame una edad: \"))\n",
        "    suma+=edades[x]\n",
        "print(edades)\n",
        "print(\"promedio: \", suma/5)\n"
      ],
      "execution_count": null,
      "outputs": [
        {
          "output_type": "stream",
          "name": "stdout",
          "text": [
            "Dame una edad: 5\n",
            "Dame una edad: 7\n",
            "Dame una edad: 8\n",
            "Dame una edad: 15\n",
            "Dame una edad: 19\n",
            "[5, 7, 8, 15, 19]\n",
            "promedio:  10.8\n"
          ]
        }
      ]
    },
    {
      "cell_type": "code",
      "metadata": {
        "colab": {
          "base_uri": "https://localhost:8080/"
        },
        "id": "vCG_23tCcJ27",
        "outputId": "0cac5104-22c9-496d-dc70-e6e593bf1d0f"
      },
      "source": [
        "edades=[0 for x in range(5)]\n",
        "edades[0]=int(input(\"Dame una edad: \"))\n",
        "print(edades)"
      ],
      "execution_count": null,
      "outputs": [
        {
          "output_type": "stream",
          "name": "stdout",
          "text": [
            "Dame una edad: 45\n",
            "[45, 0, 0, 0, 0]\n"
          ]
        }
      ]
    },
    {
      "cell_type": "code",
      "metadata": {
        "colab": {
          "base_uri": "https://localhost:8080/"
        },
        "id": "vH10fTIdcPmK",
        "outputId": "370dd7d6-a20a-4629-a457-31e50d782e1c"
      },
      "source": [
        "import random\n",
        "print(random.random())\n",
        "print(random.uniform(5,11))\n",
        "\n",
        "val=round(random.uniform(5,11), 2)\n",
        "print(val)\n",
        "valores = [round(random.uniform(5,11),2) for x in range(20)]\n",
        "print(valores)\n",
        "#cual de los numero es el menor\n",
        "#cual es el mayor"
      ],
      "execution_count": null,
      "outputs": [
        {
          "output_type": "stream",
          "name": "stdout",
          "text": [
            "0.7597679482260195\n",
            "10.60344362059176\n",
            "10.83\n",
            "[5.62, 5.88, 9.89, 8.28, 5.45, 7.59, 10.87, 8.25, 7.14, 8.51, 8.95, 9.73, 6.39, 5.49, 7.91, 5.61, 5.31, 6.02, 8.8, 5.1]\n"
          ]
        }
      ]
    },
    {
      "cell_type": "code",
      "metadata": {
        "colab": {
          "base_uri": "https://localhost:8080/"
        },
        "id": "xd1QBW7sfl8a",
        "outputId": "dcd74ac2-f3e9-4f08-a6e1-de673c5bf755"
      },
      "source": [
        "import random\n",
        "valores=[round(random.uniform(5,11),2) for x in range(20)]\n",
        "print (valores)\n",
        "max=0\n",
        "min=1000000000\n",
        "for x in range(len(valores)):\n",
        "    if max<valores[x]: #mayor\n",
        "        max=valores[x]\n",
        "    if min>valores[x]: #menor\n",
        "        min=valores[x]\n",
        "print(\"El valor máximo es: \",max)\n",
        "print(\"El valor mínimo es: \",min)\n",
        "\n"
      ],
      "execution_count": null,
      "outputs": [
        {
          "output_type": "stream",
          "name": "stdout",
          "text": [
            "[10.29, 10.66, 7.66, 7.61, 9.94, 9.08, 5.83, 9.17, 8.54, 8.9, 10.62, 5.69, 6.94, 7.34, 9.17, 5.25, 6.44, 10.38, 9.36, 10.7]\n",
            "El valor máximo es:  10.7\n",
            "El valor mínimo es:  5.25\n"
          ]
        }
      ]
    },
    {
      "cell_type": "markdown",
      "metadata": {
        "id": "srtYbqJ5Nftk"
      },
      "source": [
        "#FECHA: 30 DE NOVIEMBRE DE 2021"
      ]
    },
    {
      "cell_type": "markdown",
      "metadata": {
        "id": "A8Q341Mz6BYC"
      },
      "source": [
        "#Estructura de control de repetición HAZ-MIENTRAS (while)\n",
        "Una estructura de control haz-mientras nos permite ejecutar repetidamente mientras una condición se siga cumpliendo.\n",
        "#Sintaxis\n",
        "```\n",
        "while<condicion>\n",
        "    <Bloque de sentencia a ejecutar repetidamente>\n",
        "<siguiente sentencia posterior a while>\n",
        "```\n",
        "La diferencia principal en comparacion con la estructura while NO conoces el número de ciclos a ejecutar, en for si se conoce.\n",
        "Cómo ejemplo iniciemos con el siguiente enunciado.\n",
        "Hacer un programa que solocite un valor entero positivo y calcule repetidamente la mitad y se asige a la misma variable. El cilo se debe de detener cuando el resultado sea menor que 1.\n",
        "mostrar en pantalla el resultado de cada cálculo y al final el numero de iteraciones que realizó\n",
        "```\n",
        "Introduce un número entero positivo: 17\n",
        "8.5\n",
        "4.25\n",
        "2.12\n",
        "1.06\n",
        "0.53\n",
        "Total de iteraciones= 5\n",
        "```"
      ]
    },
    {
      "cell_type": "code",
      "metadata": {
        "colab": {
          "base_uri": "https://localhost:8080/"
        },
        "id": "IzObOj7A6kOB",
        "outputId": "71790534-f040-4823-bd30-fd639cd6dcce"
      },
      "source": [
        "valor=int(input(\"Introduce un numero entero positivo: \"))\n",
        "contador=0\n",
        "if valor>0:\n",
        "    while valor>1.0:\n",
        "        valor=valor/2\n",
        "        print(round(valor,2))\n",
        "        contador+=1\n",
        "else:\n",
        "    print(\"El numero es negativo, intenta de nuevo\")\n",
        "print(\"Total de iteraciones: \",contador)"
      ],
      "execution_count": 1,
      "outputs": [
        {
          "output_type": "stream",
          "name": "stdout",
          "text": [
            "Introduce un numero entero positivo: 17\n",
            "8.5\n",
            "4.25\n",
            "2.12\n",
            "1.06\n",
            "0.53\n",
            "Total de iteraciones:  5\n"
          ]
        }
      ]
    },
    {
      "cell_type": "code",
      "metadata": {
        "colab": {
          "base_uri": "https://localhost:8080/"
        },
        "id": "qe4WLxBY8syA",
        "outputId": "143312bb-dda2-42d2-bf97-d5a5890e0f93"
      },
      "source": [
        "valor=int(input(\"Introduce un valor entero : \"))\n",
        "while valor!=0:\n",
        "    print(valor)\n",
        "    valor=int(input(\"Introduce un valor entero : \"))\n",
        "print(\"FIN DEL PROGRAMA\")"
      ],
      "execution_count": 4,
      "outputs": [
        {
          "output_type": "stream",
          "name": "stdout",
          "text": [
            "Introduce un valor entero : 2\n",
            "2\n",
            "Introduce un valor entero : 0\n",
            "FIN DEL PROGRAMA\n"
          ]
        }
      ]
    },
    {
      "cell_type": "code",
      "metadata": {
        "colab": {
          "base_uri": "https://localhost:8080/"
        },
        "id": "bYyMNdXr9TM3",
        "outputId": "c7c0b5a8-6c39-42b1-cc48-201f01d5133c"
      },
      "source": [
        "valor=int(input(\"Introduce un valor entero : \"))\n",
        "while valor!=0:\n",
        "    print(valor)\n",
        "    print(\"otras cosas\")\n",
        "print(\"Fin del programa\")"
      ],
      "execution_count": 7,
      "outputs": [
        {
          "output_type": "stream",
          "name": "stdout",
          "text": [
            "Introduce un valor entero : 0\n",
            "fin del programa\n"
          ]
        }
      ]
    },
    {
      "cell_type": "markdown",
      "metadata": {
        "id": "2awqFiut_w8R"
      },
      "source": [
        "Escribe un programa que pida un número entero positivo, hacer la tabla de multiplcar comezando en 1, si el numero dado no es correcto, avisarle para que lo ingrese nuevamente"
      ]
    },
    {
      "cell_type": "code",
      "metadata": {
        "colab": {
          "base_uri": "https://localhost:8080/"
        },
        "id": "b_hGTVDY_tDx",
        "outputId": "9628a827-275f-4799-fa46-dfb2ff557821"
      },
      "source": [
        "n=int(input(\"Ingrese un numero entero positivo: \"))\n",
        "if n>0:\n",
        "    print(\"Es correcto\")\n",
        "    for i in range(1,11):\n",
        "        print(n, \"*\", i, \"=\", n*i)\n",
        "\n",
        "else:\n",
        "    print(\"El numero ingresado no es correcto\")"
      ],
      "execution_count": 10,
      "outputs": [
        {
          "output_type": "stream",
          "name": "stdout",
          "text": [
            "Ingrese un numero entero positivo: 3\n",
            "Es correcto\n",
            "3 * 1 = 3\n",
            "3 * 2 = 6\n",
            "3 * 3 = 9\n",
            "3 * 4 = 12\n",
            "3 * 5 = 15\n",
            "3 * 6 = 18\n",
            "3 * 7 = 21\n",
            "3 * 8 = 24\n",
            "3 * 9 = 27\n",
            "3 * 10 = 30\n"
          ]
        }
      ]
    },
    {
      "cell_type": "code",
      "metadata": {
        "colab": {
          "base_uri": "https://localhost:8080/"
        },
        "id": "YKDEbl6eBWiu",
        "outputId": "741c9b89-b37b-4695-ec4e-3f0f6cf6e57d"
      },
      "source": [
        "e=True\n",
        "while e==True:\n",
        "    n=int(input(\"Ingrese un numero entero positivo: \"))\n",
        "    if n>0:\n",
        "        print(\"Es correcto\")\n",
        "        for i in range(10):\n",
        "            print(n, \"*\", i+1, \"=\", n*(i+1))\n",
        "            e=False\n",
        "\n",
        "    else:\n",
        "        print(\"El numero ingresado no es correcto\")\n",
        "        e=True"
      ],
      "execution_count": 20,
      "outputs": [
        {
          "output_type": "stream",
          "name": "stdout",
          "text": [
            "Ingrese un numero entero positivo: -9\n",
            "El numero ingresado no es correcto\n",
            "Ingrese un numero entero positivo: -7\n",
            "El numero ingresado no es correcto\n",
            "Ingrese un numero entero positivo: 9\n",
            "Es correcto\n",
            "9 * 1 = 9\n",
            "9 * 2 = 18\n",
            "9 * 3 = 27\n",
            "9 * 4 = 36\n",
            "9 * 5 = 45\n",
            "9 * 6 = 54\n",
            "9 * 7 = 63\n",
            "9 * 8 = 72\n",
            "9 * 9 = 81\n",
            "9 * 10 = 90\n"
          ]
        }
      ]
    },
    {
      "cell_type": "code",
      "metadata": {
        "colab": {
          "base_uri": "https://localhost:8080/"
        },
        "id": "5mdwFqzvCYMm",
        "outputId": "3bf83519-98fd-4141-9f33-fe59230b0223"
      },
      "source": [
        "#con for\n",
        "comprobar=True\n",
        "while comprobar==True:\n",
        "    n=int(input(\"Ingrese un numero entero positivo: \"))\n",
        "\n",
        "    if n>0:\n",
        "        print(\"Es correcto\")\n",
        "        for i in range(1,11): \n",
        "            print(n, \"*\", i, \"=\", n*i)\n",
        "            comprobar=False\n",
        "\n",
        "    else:\n",
        "        print(\"El numero ingresado no es correcto, intentalo de nuevo\")"
      ],
      "execution_count": 25,
      "outputs": [
        {
          "output_type": "stream",
          "name": "stdout",
          "text": [
            "Ingrese un numero entero positivo: 4\n",
            "Es correcto\n",
            "4 * 1 = 4\n",
            "4 * 2 = 8\n",
            "4 * 3 = 12\n",
            "4 * 4 = 16\n",
            "4 * 5 = 20\n",
            "4 * 6 = 24\n",
            "4 * 7 = 28\n",
            "4 * 8 = 32\n",
            "4 * 9 = 36\n",
            "4 * 10 = 40\n"
          ]
        }
      ]
    },
    {
      "cell_type": "code",
      "metadata": {
        "colab": {
          "base_uri": "https://localhost:8080/"
        },
        "id": "Or6xAfb9HSNm",
        "outputId": "a524e9ae-ca05-4778-8fc8-f7527711bbb6"
      },
      "source": [
        "#con while\n",
        "comprobar=True\n",
        "while comprobar==True:\n",
        "    n=int(input(\"Ingrese un numero entero positivo: \"))\n",
        "\n",
        "    if n>0:\n",
        "        i=1   #se inicializa el valor en 1\n",
        "        print(\"Es correcto\")\n",
        "        while i<=10: \n",
        "            print(n, \"*\", i, \"=\", n*i)\n",
        "            i+=1 #acumulador, suma 1 cada cada que ocurra el ciclo\n",
        "            comprobar=False\n",
        "\n",
        "    else:\n",
        "        print(\"El numero ingresado no es correcto, intentalo de nuevo\")"
      ],
      "execution_count": 37,
      "outputs": [
        {
          "output_type": "stream",
          "name": "stdout",
          "text": [
            "Ingrese un numero entero positivo: -9\n",
            "El numero ingresado no es correcto, intentalo de nuevo\n",
            "Ingrese un numero entero positivo: -8\n",
            "El numero ingresado no es correcto, intentalo de nuevo\n",
            "Ingrese un numero entero positivo: 6\n",
            "Es correcto\n",
            "6 * 1 = 6\n",
            "6 * 2 = 12\n",
            "6 * 3 = 18\n",
            "6 * 4 = 24\n",
            "6 * 5 = 30\n",
            "6 * 6 = 36\n",
            "6 * 7 = 42\n",
            "6 * 8 = 48\n",
            "6 * 9 = 54\n",
            "6 * 10 = 60\n"
          ]
        }
      ]
    },
    {
      "cell_type": "markdown",
      "metadata": {
        "id": "i9sPQnwFKSnt"
      },
      "source": [
        "Escribe un programa que al recibir como dato un número entero positivo N, calcules el resultado de la siguiente serie\n",
        "\n",
        "1+(1/2)+(1/3)+...(1/N)\n",
        "\n",
        "Si el usuario escribe un número incorrecto, el porgrama no se ejecuta. En cambio pregunta de nuevo por la informción hasta que el dato ingresado sea correcto."
      ]
    },
    {
      "cell_type": "code",
      "metadata": {
        "colab": {
          "base_uri": "https://localhost:8080/"
        },
        "id": "gL3pdW6UKkIF",
        "outputId": "81bffd59-5998-4d01-88a0-f263e9b9c480"
      },
      "source": [
        "n=int(input(\"Ingrese un numero entero positivo: \"))\n",
        "if n>0:\n",
        "    resultado=0\n",
        "    for i in range(1,n+1):\n",
        "        resultado+=(1/i)\n",
        "        print(\"Resultado de la serie: \", resultado)\n",
        "else:\n",
        "    print(\"El numero ingresado no es correcto, intenta de nuevo\")"
      ],
      "execution_count": 48,
      "outputs": [
        {
          "output_type": "stream",
          "name": "stdout",
          "text": [
            "Ingrese un numero entero positivo: 10\n",
            "Resultado de la serie:  1.0\n",
            "Resultado de la serie:  1.5\n",
            "Resultado de la serie:  1.8333333333333333\n",
            "Resultado de la serie:  2.083333333333333\n",
            "Resultado de la serie:  2.283333333333333\n",
            "Resultado de la serie:  2.4499999999999997\n",
            "Resultado de la serie:  2.5928571428571425\n",
            "Resultado de la serie:  2.7178571428571425\n",
            "Resultado de la serie:  2.8289682539682537\n",
            "Resultado de la serie:  2.9289682539682538\n"
          ]
        }
      ]
    },
    {
      "cell_type": "code",
      "metadata": {
        "colab": {
          "base_uri": "https://localhost:8080/"
        },
        "id": "hc59MlppMYYe",
        "outputId": "58407898-1771-4fe5-e4ed-d12c29f72519"
      },
      "source": [
        "#con for\n",
        "comprobar=True\n",
        "while comprobar==True:\n",
        "    n=int(input(\"Ingrese un numero entero positivo: \"))\n",
        "    if n>0:\n",
        "        resultado=0\n",
        "        for i in range(1,n+1):  \n",
        "            resultado+=(1/i)\n",
        "            print(\"Resultado de la serie: \", resultado)\n",
        "            comprobar=False\n",
        "    else:\n",
        "        print(\"El numero ingresado no es correcto, intenta de nuevo\")"
      ],
      "execution_count": 42,
      "outputs": [
        {
          "output_type": "stream",
          "name": "stdout",
          "text": [
            "Ingrese un numero entero positivo: -6\n",
            "El numero ingresado no es correcto, intenta de nuevo\n",
            "Ingrese un numero entero positivo: -9\n",
            "El numero ingresado no es correcto, intenta de nuevo\n",
            "Ingrese un numero entero positivo: -8\n",
            "El numero ingresado no es correcto, intenta de nuevo\n",
            "Ingrese un numero entero positivo: 4\n",
            "Resultado de la serie:  1.0\n",
            "Resultado de la serie:  1.5\n",
            "Resultado de la serie:  1.8333333333333333\n",
            "Resultado de la serie:  2.083333333333333\n"
          ]
        }
      ]
    },
    {
      "cell_type": "code",
      "metadata": {
        "colab": {
          "base_uri": "https://localhost:8080/"
        },
        "id": "Fb3zThUBOATE",
        "outputId": "ca489d13-fad3-4a84-f6d1-e835ba327d30"
      },
      "source": [
        "#con while\n",
        "comprobar=True\n",
        "while comprobar==True:\n",
        "    n=int(input(\"Ingrese un numero entero positivo: \"))\n",
        "    if n>0:\n",
        "        resultado=0\n",
        "        i=1\n",
        "        while i<=(n+1): #con while\n",
        "            resultado+=(1/i)\n",
        "            print(\"Resultado de la serie: \", resultado)\n",
        "            comprobar=False\n",
        "            i+=1\n",
        "    else:\n",
        "        print(\"El numero ingresado no es correcto, intenta de nuevo\")"
      ],
      "execution_count": 47,
      "outputs": [
        {
          "output_type": "stream",
          "name": "stdout",
          "text": [
            "Ingrese un numero entero positivo: -2\n",
            "El numero ingresado no es correcto, intenta de nuevo\n",
            "Ingrese un numero entero positivo: 5\n",
            "Resultado de la serie:  1.0\n",
            "Resultado de la serie:  1.5\n",
            "Resultado de la serie:  1.8333333333333333\n",
            "Resultado de la serie:  2.083333333333333\n",
            "Resultado de la serie:  2.283333333333333\n",
            "Resultado de la serie:  2.4499999999999997\n"
          ]
        }
      ]
    }
  ]
}