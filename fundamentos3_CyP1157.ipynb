{
  "nbformat": 4,
  "nbformat_minor": 0,
  "metadata": {
    "colab": {
      "name": "fundamentos3_CyP1157.ipynb",
      "provenance": [],
      "authorship_tag": "ABX9TyNUCX+JZ+USPbs7hE4kdry0",
      "include_colab_link": true
    },
    "kernelspec": {
      "name": "python3",
      "display_name": "Python 3"
    },
    "language_info": {
      "name": "python"
    }
  },
  "cells": [
    {
      "cell_type": "markdown",
      "metadata": {
        "id": "view-in-github",
        "colab_type": "text"
      },
      "source": [
        "<a href=\"https://colab.research.google.com/github/JosueManzano7/CompuyProgra2022G1157/blob/main/fundamentos3_CyP1157.ipynb\" target=\"_parent\"><img src=\"https://colab.research.google.com/assets/colab-badge.svg\" alt=\"Open In Colab\"/></a>"
      ]
    },
    {
      "cell_type": "markdown",
      "metadata": {
        "id": "pxJ0gIe0Iw57"
      },
      "source": [
        "#FECHA: 23 DE NOVIMBRE DE 2021"
      ]
    },
    {
      "cell_type": "markdown",
      "metadata": {
        "id": "CwVubQ-_Fj7a"
      },
      "source": [
        "Repeticion:\n",
        " - Este tipo de estructura nos permite automatizar la ejecucion repetitiva de código mientras ciertas condiciones se cumplan, tenems 3 variantes de esta estrctura en todos los lenguajes de programación:\n",
        "  - Desde...hasta (Estructura for)\n",
        "  - Haz mentras (Estructura While)\n",
        "  - Haz y luego validaz (Estructura Do-While)\n",
        "\n",
        "  #FOR CON PYTHON\n",
        "  ```\n",
        "for j in range(10):\n",
        "         print(f\"Hola {j}\")\n",
        "  ```\n",
        "\n",
        "  #FOR CON C Y JAVA\n",
        "  ```\n",
        "for (int j=0; j<10; j++)\n",
        "{\n",
        " print(\"Hola %i \\n\", j)\n",
        "}\n",
        "  ```\n",
        "En todos los lenguajes de programación existe un tipo de for, conocido como **for-each**\n",
        "\n",
        "# For-each en Python\n",
        "```\n",
        "for color in colores\n",
        "    print(f\"Este es el color {color}\")\n",
        "```\n"
      ]
    },
    {
      "cell_type": "code",
      "metadata": {
        "colab": {
          "base_uri": "https://localhost:8080/"
        },
        "id": "ysDJc7SgH4Dj",
        "outputId": "19b9073d-fedf-4947-dd1f-803149d13331"
      },
      "source": [
        "#funcion range()\n",
        "#range(<INICIO>, <STOP>, <INCREMENTO>)\n",
        "x=range(0,10,2)\n",
        "print(x)\n",
        "\n",
        "for j in range(10): #range(0,10)--> 0,1,2,3,4,5,6,7,8,9\n",
        "    print(f\"Hola {j}\")\n",
        "\n",
        "print(\"--------------------------------\")\n",
        "\n",
        "for j in range(0,10,2): #range(0,10,2)--> 0,2,4,6,8\n",
        "    print(f\"Hola {j}\")\n",
        "\n",
        "print(\"-----------------FRUTAS---------------\")\n",
        "\n",
        "frutas=[\"uva\", \"aguacate\", \"pera\", \"manzana\", \"sandia\"]\n",
        "for i in frutas:\n",
        "    print(i)\n",
        "print(\"------------\")\n",
        "for index in range(5):\n",
        "    print(frutas[index])\n",
        "\n",
        "print(\"------------\")\n",
        "for i in range(5):\n",
        "    print(\"+++++\")\n",
        "print(\"------------\")\n",
        "\n",
        "for i in range(6):\n",
        "    for j in range(i):\n",
        "        print('+', end = ' ')\n",
        "    print()"
      ],
      "execution_count": null,
      "outputs": [
        {
          "output_type": "stream",
          "name": "stdout",
          "text": [
            "range(0, 10, 2)\n",
            "Hola 0\n",
            "Hola 1\n",
            "Hola 2\n",
            "Hola 3\n",
            "Hola 4\n",
            "Hola 5\n",
            "Hola 6\n",
            "Hola 7\n",
            "Hola 8\n",
            "Hola 9\n",
            "--------------------------------\n",
            "Hola 0\n",
            "Hola 2\n",
            "Hola 4\n",
            "Hola 6\n",
            "Hola 8\n",
            "-----------------FRUTAS---------------\n",
            "uva\n",
            "aguacate\n",
            "pera\n",
            "manzana\n",
            "sandia\n",
            "------------\n",
            "uva\n",
            "aguacate\n",
            "pera\n",
            "manzana\n",
            "sandia\n",
            "------------\n",
            "+++++\n",
            "+++++\n",
            "+++++\n",
            "+++++\n",
            "+++++\n",
            "------------\n",
            "\n",
            "+ \n",
            "+ + \n",
            "+ + + \n",
            "+ + + + \n",
            "+ + + + + \n"
          ]
        }
      ]
    },
    {
      "cell_type": "markdown",
      "metadata": {
        "id": "j7fX_z9FL-1P"
      },
      "source": [
        "# FECHA: 25 DE NOVIEMBRE DE 2021"
      ]
    },
    {
      "cell_type": "markdown",
      "metadata": {
        "id": "KABXk9YUMCUV"
      },
      "source": [
        ""
      ]
    },
    {
      "cell_type": "code",
      "metadata": {
        "colab": {
          "base_uri": "https://localhost:8080/"
        },
        "id": "gRyycGqyMD6n",
        "outputId": "e15e2169-d2e7-40ed-d013-125b30096247"
      },
      "source": [
        "for x in range(1,20,1):\n",
        "    print(x)\n",
        "print(\"FIN DEL PROGRAMA\")\n",
        "\n",
        "for x in range(19,0,-1):\n",
        "    print(x)\n",
        "print(\"FIN DEL PROGRAMA\")"
      ],
      "execution_count": 1,
      "outputs": [
        {
          "output_type": "stream",
          "name": "stdout",
          "text": [
            "1\n",
            "2\n",
            "3\n",
            "4\n",
            "5\n",
            "6\n",
            "7\n",
            "8\n",
            "9\n",
            "10\n",
            "11\n",
            "12\n",
            "13\n",
            "14\n",
            "15\n",
            "16\n",
            "17\n",
            "18\n",
            "19\n",
            "FIN DEL PROGRAMA\n",
            "19\n",
            "18\n",
            "17\n",
            "16\n",
            "15\n",
            "14\n",
            "13\n",
            "12\n",
            "11\n",
            "10\n",
            "9\n",
            "8\n",
            "7\n",
            "6\n",
            "5\n",
            "4\n",
            "3\n",
            "2\n",
            "1\n",
            "FIN DEL PROGRAMA\n"
          ]
        }
      ]
    },
    {
      "cell_type": "code",
      "metadata": {
        "colab": {
          "base_uri": "https://localhost:8080/"
        },
        "id": "1AwuFSQINKxh",
        "outputId": "8f5822f5-3ae5-4b37-b8fb-2ea01202942a"
      },
      "source": [
        "#Ejemplo 3.3\n",
        "CUECER=0\n",
        "NUM=0\n",
        "N =int(input(\"Introduce un valor numérico mayor que 1 \"))\n",
        "for I in range(1,N+1,1):\n",
        "    N =int(input(\"Introduce un valor numérico \"))\n",
        "    if N==0:\n",
        "        CUECER+=1\n",
        "print(\"CUECER= \", CUECER)\n",
        "\n"
      ],
      "execution_count": 10,
      "outputs": [
        {
          "output_type": "stream",
          "name": "stdout",
          "text": [
            "Introduce un valor numérico mayor que 1 4\n",
            "Introduce un valor numérico mayor que 1 5\n",
            "Introduce un valor numérico mayor que 1 10\n",
            "Introduce un valor numérico mayor que 1 10\n",
            "Introduce un valor numérico mayor que 1 7\n",
            "CUECER=  0\n"
          ]
        }
      ]
    },
    {
      "cell_type": "code",
      "metadata": {
        "colab": {
          "base_uri": "https://localhost:8080/"
        },
        "id": "hNJOqy6-Qssc",
        "outputId": "d4b17ae0-a619-400e-ad2c-20aa41448893"
      },
      "source": [
        "for i in range(1, 11):\n",
        " print(f\"7 * {i} = \", 7*i)"
      ],
      "execution_count": 16,
      "outputs": [
        {
          "output_type": "stream",
          "name": "stdout",
          "text": [
            "7 * 1 =  7\n",
            "7 * 2 =  14\n",
            "7 * 3 =  21\n",
            "7 * 4 =  28\n",
            "7 * 5 =  35\n",
            "7 * 6 =  42\n",
            "7 * 7 =  49\n",
            "7 * 8 =  56\n",
            "7 * 9 =  63\n",
            "7 * 10 =  70\n"
          ]
        }
      ]
    },
    {
      "cell_type": "code",
      "metadata": {
        "colab": {
          "base_uri": "https://localhost:8080/"
        },
        "id": "wTDadEsfRfzt",
        "outputId": "3b74a55a-f11f-4566-cbb2-08828874fb0f"
      },
      "source": [
        "n=int(input(\"Dame un número entre 1 y 5 \"))\n",
        "e=int(input(\"Dame un número entre 2 y 10 \"))\n",
        "if n>5 and n<1:\n",
        "    print(\"Debe ser un número entre lo valores dados\")\n",
        "elif e>10 and e<2:\n",
        "    print(\"Debe ser un número entre lo valores dados\")\n",
        "else:\n",
        "    for i in range(n, e+1):\n",
        "        for i in range(1, 11):\n",
        "          print(f\"{n} * {i} = \", n*i)\n",
        "        n=n+1\n",
        "        print(\"-------------------\")"
      ],
      "execution_count": 67,
      "outputs": [
        {
          "output_type": "stream",
          "name": "stdout",
          "text": [
            "Dame un número entre 1 y 5 2\n",
            "Dame un número entre 2 y 10 5\n",
            "2 * 1 =  2\n",
            "2 * 2 =  4\n",
            "2 * 3 =  6\n",
            "2 * 4 =  8\n",
            "2 * 5 =  10\n",
            "2 * 6 =  12\n",
            "2 * 7 =  14\n",
            "2 * 8 =  16\n",
            "2 * 9 =  18\n",
            "2 * 10 =  20\n",
            "-------------------\n",
            "3 * 1 =  3\n",
            "3 * 2 =  6\n",
            "3 * 3 =  9\n",
            "3 * 4 =  12\n",
            "3 * 5 =  15\n",
            "3 * 6 =  18\n",
            "3 * 7 =  21\n",
            "3 * 8 =  24\n",
            "3 * 9 =  27\n",
            "3 * 10 =  30\n",
            "-------------------\n",
            "4 * 1 =  4\n",
            "4 * 2 =  8\n",
            "4 * 3 =  12\n",
            "4 * 4 =  16\n",
            "4 * 5 =  20\n",
            "4 * 6 =  24\n",
            "4 * 7 =  28\n",
            "4 * 8 =  32\n",
            "4 * 9 =  36\n",
            "4 * 10 =  40\n",
            "-------------------\n",
            "5 * 1 =  5\n",
            "5 * 2 =  10\n",
            "5 * 3 =  15\n",
            "5 * 4 =  20\n",
            "5 * 5 =  25\n",
            "5 * 6 =  30\n",
            "5 * 7 =  35\n",
            "5 * 8 =  40\n",
            "5 * 9 =  45\n",
            "5 * 10 =  50\n",
            "-------------------\n"
          ]
        }
      ]
    },
    {
      "cell_type": "code",
      "metadata": {
        "colab": {
          "base_uri": "https://localhost:8080/"
        },
        "id": "-6ctGEvgVi_E",
        "outputId": "e90381cb-fcd2-4dea-b1d8-ce8dc24dfaa0"
      },
      "source": [
        "N1=int(input(\"Dame un número entre 1 y 5: \"))\n",
        "if N1>0 and N1<=10:\n",
        "    N2=int(input(f\"Dame un número entre {N1} y 10: \"))\n",
        "    if N2>=N1 and N2<=10:\n",
        "        for i in range(N1, N2+1):\n",
        "            for j in range(1,11):\n",
        "                print(f\"{i} * {j} = \", i*j)\n",
        "            print(\"--------------------\")\n",
        "else:\n",
        "    print(\"Valor fuera del rango dado\")"
      ],
      "execution_count": 61,
      "outputs": [
        {
          "output_type": "stream",
          "name": "stdout",
          "text": [
            "Dame un número entre 1 y 5: 2\n",
            "Dame un número entre 2 y 10: 5\n",
            "2 * 1 =  2\n",
            "2 * 2 =  4\n",
            "2 * 3 =  6\n",
            "2 * 4 =  8\n",
            "2 * 5 =  10\n",
            "2 * 6 =  12\n",
            "2 * 7 =  14\n",
            "2 * 8 =  16\n",
            "2 * 9 =  18\n",
            "2 * 10 =  20\n",
            "--------------------\n",
            "3 * 1 =  3\n",
            "3 * 2 =  6\n",
            "3 * 3 =  9\n",
            "3 * 4 =  12\n",
            "3 * 5 =  15\n",
            "3 * 6 =  18\n",
            "3 * 7 =  21\n",
            "3 * 8 =  24\n",
            "3 * 9 =  27\n",
            "3 * 10 =  30\n",
            "--------------------\n",
            "4 * 1 =  4\n",
            "4 * 2 =  8\n",
            "4 * 3 =  12\n",
            "4 * 4 =  16\n",
            "4 * 5 =  20\n",
            "4 * 6 =  24\n",
            "4 * 7 =  28\n",
            "4 * 8 =  32\n",
            "4 * 9 =  36\n",
            "4 * 10 =  40\n",
            "--------------------\n",
            "5 * 1 =  5\n",
            "5 * 2 =  10\n",
            "5 * 3 =  15\n",
            "5 * 4 =  20\n",
            "5 * 5 =  25\n",
            "5 * 6 =  30\n",
            "5 * 7 =  35\n",
            "5 * 8 =  40\n",
            "5 * 9 =  45\n",
            "5 * 10 =  50\n",
            "--------------------\n"
          ]
        }
      ]
    },
    {
      "cell_type": "code",
      "metadata": {
        "colab": {
          "base_uri": "https://localhost:8080/"
        },
        "id": "6i0SfHdNWvsU",
        "outputId": "c09c36f1-a22b-4269-f989-9156b7c0d2b2"
      },
      "source": [
        "#generadores de listas\n",
        "numeros=[0,0,0,0,0]\n",
        "print(numeros)\n",
        "numeros=[0 for x in range(5)]\n",
        "print(numeros)\n",
        "#empleando la variable de controlx para el valor inicial\n",
        "numeros=[x for x in range(5)]\n",
        "print(numeros)\n",
        "\n",
        "numeros=[(x+1)*10 for x in range(10)]\n",
        "print(numeros)\n",
        "print(\"---------------------------\")\n",
        "numeros=[x for x in range(10,101,10)]\n",
        "print(numeros)\n",
        "print(\"---------------------------\")\n",
        "numeros=[x*10 for x in range(1,11)]\n",
        "print(numeros)"
      ],
      "execution_count": 43,
      "outputs": [
        {
          "output_type": "stream",
          "name": "stdout",
          "text": [
            "[0, 0, 0, 0, 0]\n",
            "[0, 0, 0, 0, 0]\n",
            "[0, 1, 2, 3, 4]\n",
            "[10, 20, 30, 40, 50, 60, 70, 80, 90, 100]\n",
            "---------------------------\n",
            "[10, 20, 30, 40, 50, 60, 70, 80, 90, 100]\n",
            "---------------------------\n",
            "[10, 20, 30, 40, 50, 60, 70, 80, 90, 100]\n"
          ]
        }
      ]
    },
    {
      "cell_type": "code",
      "metadata": {
        "colab": {
          "base_uri": "https://localhost:8080/"
        },
        "id": "v7RzRbtzYR8D",
        "outputId": "983a4593-5846-48e8-bdc2-03dfc9b1b578"
      },
      "source": [
        "#ejercicio: calcular promedio de edades\n",
        "suma=0\n",
        "edades=[0 for x in range(5)]\n",
        "for x in range(5):\n",
        "    edades[x]=int(input(\"Dame una edad: \"))\n",
        "    suma=suma+edades[x]\n",
        "print(edades)\n",
        "print(\"promedio: \", suma/5)\n"
      ],
      "execution_count": 56,
      "outputs": [
        {
          "output_type": "stream",
          "name": "stdout",
          "text": [
            "Dame una edad: 8\n",
            "Dame una edad: 7\n",
            "Dame una edad: 5\n",
            "Dame una edad: 4\n",
            "Dame una edad: 3\n",
            "[8, 7, 5, 4, 3]\n",
            "promedio:  5.4\n"
          ]
        }
      ]
    },
    {
      "cell_type": "code",
      "metadata": {
        "colab": {
          "base_uri": "https://localhost:8080/"
        },
        "id": "vCG_23tCcJ27",
        "outputId": "0cac5104-22c9-496d-dc70-e6e593bf1d0f"
      },
      "source": [
        "edades=[0 for x in range(5)]\n",
        "edades[0]=int(input(\"Dame una edad: \"))\n",
        "print(edades)"
      ],
      "execution_count": 58,
      "outputs": [
        {
          "output_type": "stream",
          "name": "stdout",
          "text": [
            "Dame una edad: 45\n",
            "[45, 0, 0, 0, 0]\n"
          ]
        }
      ]
    },
    {
      "cell_type": "code",
      "metadata": {
        "colab": {
          "base_uri": "https://localhost:8080/"
        },
        "id": "vH10fTIdcPmK",
        "outputId": "69755391-f35e-49c8-a897-40e9fa8481a2"
      },
      "source": [
        "import random\n",
        "print(random.random())\n",
        "print(random.uniform(5,11))\n",
        "\n",
        "val=round(random.uniform(5,11), 2)\n",
        "print(val)\n",
        "valores = [round(random.uniform(5,11),2) for x in range(20)]\n",
        "print(valores)\n",
        "#cual de los numero es el menor\n",
        "#cual es el mayor"
      ],
      "execution_count": 64,
      "outputs": [
        {
          "output_type": "stream",
          "name": "stdout",
          "text": [
            "0.6840818919244848\n",
            "7.751814665816491\n",
            "10.61\n",
            "[7.87, 10.06, 9.42, 6.62, 10.22, 8.76, 6.97, 7.75, 10.0, 5.94, 5.42, 9.99, 7.57, 6.06, 9.07, 6.06, 5.36, 9.14, 5.38, 7.9]\n"
          ]
        }
      ]
    }
  ]
}