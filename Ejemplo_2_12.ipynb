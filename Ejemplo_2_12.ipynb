{
  "nbformat": 4,
  "nbformat_minor": 0,
  "metadata": {
    "colab": {
      "name": "Ejemplo_2.12.ipynb",
      "provenance": [],
      "authorship_tag": "ABX9TyMa2cofec/HoCWvhaLhokyG",
      "include_colab_link": true
    },
    "kernelspec": {
      "name": "python3",
      "display_name": "Python 3"
    },
    "language_info": {
      "name": "python"
    }
  },
  "cells": [
    {
      "cell_type": "markdown",
      "metadata": {
        "id": "view-in-github",
        "colab_type": "text"
      },
      "source": [
        "<a href=\"https://colab.research.google.com/github/JosueManzano7/CompuyProgra2022G1157/blob/main/Ejemplo_2_12.ipynb\" target=\"_parent\"><img src=\"https://colab.research.google.com/assets/colab-badge.svg\" alt=\"Open In Colab\"/></a>"
      ]
    },
    {
      "cell_type": "code",
      "metadata": {
        "colab": {
          "base_uri": "https://localhost:8080/"
        },
        "id": "Qb8UmxXdOe5q",
        "outputId": "116dbe9f-557d-4a79-8619-dc6a1826ea4d"
      },
      "source": [
        "#ejemplo 2.12\n",
        "A=int(input(\"Dame un primer numero entero: \"))\n",
        "B=int(input(\"Dame un segundo numero entero diferente: \"))\n",
        "C=int(input(\"Dame un tercer numero entero diferente: \"))\n",
        "\n",
        "if A==B==C or A==B or A==C or B==C:\n",
        "    print(\"ALGUNOS NÚMEROS SON IGUALES, DEBEN SER 3 NUMEROS DIFERENTES\")\n",
        "else:\n",
        "  if A>B:\n",
        "    if A>C: \n",
        "        if B>C:\n",
        "            print(\"ORDEN MAYOR A MENOR : \",A, B, C)\n",
        "        else:\n",
        "            print(\"ORDEN MAYOR A MENOR : \",A, C, B)\n",
        "    else: print(\"ORDEN MAYOR A MENOR : \",C, A, B)\n",
        "  else:\n",
        "    if B>C: \n",
        "        if A>C:\n",
        "            print(\"ORDEN MAYOR A MENOR : \",B, A, C)\n",
        "        else:\n",
        "            print(\"ORDEN MAYOR A MENOR : \",B, C, A)\n",
        "    else: print(\"ORDEN MAYOR A MENOR : \",C, B, A)"
      ],
      "execution_count": 1,
      "outputs": [
        {
          "output_type": "stream",
          "name": "stdout",
          "text": [
            "Dame un primer numero entero: 96\n",
            "Dame un segundo numero entero diferente: 54\n",
            "Dame un tercer numero entero diferente: 23\n",
            "ORDEN MAYOR A MENOR :  96 54 23\n"
          ]
        }
      ]
    }
  ]
}