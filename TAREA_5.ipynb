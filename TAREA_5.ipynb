{
  "nbformat": 4,
  "nbformat_minor": 0,
  "metadata": {
    "colab": {
      "name": "TAREA 5.ipynb",
      "provenance": [],
      "authorship_tag": "ABX9TyOEZllLR6PMVfuUycAaiNvU",
      "include_colab_link": true
    },
    "kernelspec": {
      "name": "python3",
      "display_name": "Python 3"
    },
    "language_info": {
      "name": "python"
    }
  },
  "cells": [
    {
      "cell_type": "markdown",
      "metadata": {
        "id": "view-in-github",
        "colab_type": "text"
      },
      "source": [
        "<a href=\"https://colab.research.google.com/github/JosueManzano7/CompuyProgra2022G1157/blob/main/TAREA_5.ipynb\" target=\"_parent\"><img src=\"https://colab.research.google.com/assets/colab-badge.svg\" alt=\"Open In Colab\"/></a>"
      ]
    },
    {
      "cell_type": "markdown",
      "metadata": {
        "id": "fMiQ8yACxOhD"
      },
      "source": [
        "#TAREA 5"
      ]
    },
    {
      "cell_type": "markdown",
      "metadata": {
        "id": "bLbmO6GFxTZq"
      },
      "source": [
        "###PROGRAMA 1.\n",
        "Hacer un programa que pida dos números enteros y que imprima en pantalla lo siguiente:\n",
        "- ¿Cuál de ellos es el número mayor?\n",
        "- ¿Cuál de ellos es el número menor?\n",
        "o en su defecto\n",
        "- ¿Imprimir que los valores son iguales?\n"
      ]
    },
    {
      "cell_type": "code",
      "metadata": {
        "colab": {
          "base_uri": "https://localhost:8080/"
        },
        "id": "92JSXI0MwA5v",
        "outputId": "c6379f9e-f36b-44a8-9507-70faf2a10e24"
      },
      "source": [
        "N1=int(input(\"Dame un primer numero entero: \"))\n",
        "N2=int(input(\"Dame un segundo numero entero: \"))\n",
        "if N1>N2:\n",
        "    print(f\"EL PRIMER NUMERO ES EL MAYOR: \\\"{N1}\\\" \\nEL SEGUNDO NUMERO ES EL MENOR: \\\"{N2}\\\"\")\n",
        "elif N1<N2:\n",
        "    print(f\"EL SEGUNDO NUMERO ES EL MAYOR: \\\"{N2}\\\" \\nEL PRIMER NUMERO ES EL MENOR: \\\"{N1}\\\"\")\n",
        "else:\n",
        "    print(\"AMBOS NUMEROS SON IGUALES\")"
      ],
      "execution_count": null,
      "outputs": [
        {
          "output_type": "stream",
          "name": "stdout",
          "text": [
            "Dame un primer numero entero: -98\n",
            "Dame un segundo numero entero: -98\n",
            "AMBOS NUMEROS SON IGUALES\n"
          ]
        }
      ]
    },
    {
      "cell_type": "markdown",
      "metadata": {
        "id": "3ic1K2iKzSvi"
      },
      "source": [
        "###PROGRAMA 2\n",
        "Hacer un programa que solicite 3 números enteros diferentes entre sí y que imprima cuál de los 3 es el mayor"
      ]
    },
    {
      "cell_type": "code",
      "metadata": {
        "colab": {
          "base_uri": "https://localhost:8080/"
        },
        "id": "Hv8dfaa-zYoC",
        "outputId": "f3c8eed2-1b1e-4918-f630-8d5f483f9dfd"
      },
      "source": [
        "N1=int(input(\"Dame un primer numero entero: \"))\n",
        "N2=int(input(\"Dame un segundo numero entero diferente: \"))\n",
        "N3=int(input(\"Dame un tercer numero entero diferente: \"))\n",
        "\n",
        "if N1==N2==N3 or N1==N2 or N1==N3 or N2==N3:\n",
        "    print(\"ALGUNOS NÚMEROS SON IGUALES, DEBEN SER 3 NUMEROS DIFERENTES\")\n",
        "else:\n",
        "    if N1>N2 and N1>N3:\n",
        "        print(f\"EL PRIMER NUMERO ES EL MAYOR: \\\"{N1}\\\"\")\n",
        "    elif N2>N1 and N2>N3:\n",
        "        print(f\"EL SEGUNDO NUMERO ES EL MAYOR: \\\"{N2}\\\"\")\n",
        "    elif N3>N1 and N3>N2:\n",
        "        print(f\"EL TERCER NUMERO ES EL MAYOR: \\\"{N3}\\\"\")\n"
      ],
      "execution_count": null,
      "outputs": [
        {
          "output_type": "stream",
          "name": "stdout",
          "text": [
            "Dame un primer numero entero: 7\n",
            "Dame un segundo numero entero diferente: 5\n",
            "Dame un tercer numero entero diferente: 54\n",
            "EL TERCER NUMERO ES EL MAYOR: \"54\"\n"
          ]
        }
      ]
    },
    {
      "cell_type": "markdown",
      "metadata": {
        "id": "iEaJQatk0sFv"
      },
      "source": [
        "###PROGRAMA 3\n",
        "Hacer un programa que solicite 3 números enteros diferentes entre sí y que imprima cuál de los 3 es el menor"
      ]
    },
    {
      "cell_type": "code",
      "metadata": {
        "colab": {
          "base_uri": "https://localhost:8080/"
        },
        "id": "YDJi6CjS64Ag",
        "outputId": "de710ca1-b00e-46ad-f45a-3fa4b3b4ac19"
      },
      "source": [
        "N1=int(input(\"Dame un primer numero entero: \"))\n",
        "N2=int(input(\"Dame un segundo numero entero diferente: \"))\n",
        "N3=int(input(\"Dame un tercer numero entero diferente: \"))\n",
        "if N1==N2==N3 or N1==N2 or N1==N3 or N2==N3:\n",
        "    print(\"ALGUNOS NÚMEROS SON IGUALES, DEBEN SER 3 NUMEROS DIFERENTES\")\n",
        "else:\n",
        "    if N1<N2 and N1<N3:\n",
        "        print(f\"EL PRIMER NUMERO ES EL MENOR: \\\"{N1}\\\"\")\n",
        "    elif N2<N1 and N2<N3:\n",
        "        print(f\"EL SEGUNDO NUMERO ES EL MENOR: \\\"{N2}\\\"\")\n",
        "    elif N3<N1 and N3<N2:\n",
        "        print(f\"EL TERCER NUMERO ES EL MENOR: \\\"{N3}\\\"\")"
      ],
      "execution_count": null,
      "outputs": [
        {
          "output_type": "stream",
          "name": "stdout",
          "text": [
            "Dame un primer numero entero: 7\n",
            "Dame un segundo numero entero diferente: 2\n",
            "Dame un tercer numero entero diferente: 68\n",
            "EL SEGUNDO NUMERO ES MENOR: \"2\"\n"
          ]
        }
      ]
    },
    {
      "cell_type": "markdown",
      "metadata": {
        "id": "PncCGYVc7goQ"
      },
      "source": [
        "###PROGRAMA 4\n",
        "Hacer un programa que solicite 4 números enteros diferentes entre sí y que imprima a la salida cuál de ellos es el menor y cuál de ellos es el mayor\n"
      ]
    },
    {
      "cell_type": "code",
      "metadata": {
        "colab": {
          "base_uri": "https://localhost:8080/"
        },
        "id": "EB63sBKN7xvS",
        "outputId": "41234994-4965-4745-8afc-80e4782dd29f"
      },
      "source": [
        "N1=int(input(\"Dame un primer numero entero: \"))\n",
        "N2=int(input(\"Dame un segundo numero entero diferente: \"))\n",
        "N3=int(input(\"Dame un tercer numero entero diferente: \"))\n",
        "N4=int(input(\"Dame un cuarto numero entero diferente: \"))\n",
        "if N1==N2==N3==N4 or N1==N2 or N1==N3 or N2==N3 or N1==N4 or N2==N3 or N2==N4 or N3==N4:\n",
        "    print(\"ALGUNOS NÚMEROS SON IGUALES, DEBEN SER 3 NUMEROS DIFERENTES\")\n",
        "else:\n",
        "    if N1>N2 and N1>N3 and N1>N4:    #mayor\n",
        "        max=N1\n",
        "    elif N2>N1 and N2>N3 and N2>N4:\n",
        "        max=N2\n",
        "    elif N3>N1 and N3>N2 and N3>N4:\n",
        "        max=N3\n",
        "    elif N4>N1 and N4>N2 and N4>N3:\n",
        "        max=N4\n",
        "\n",
        "    if N1<N2 and N1<N3 and N1<N4:    #menor\n",
        "        min=N1\n",
        "    elif N2<N1 and N2<N3 and N2<N4:\n",
        "        min=N2\n",
        "    elif N3<N1 and N3<N2 and N3<N4:\n",
        "        min=N3\n",
        "    elif N4<N1 and N4<N2 and N4<N3:\n",
        "        min=N4\n",
        "print(\"EL NUMERO MENOR:\", min)\n",
        "print(\"EL NUMERO MAYOR:\", max)"
      ],
      "execution_count": null,
      "outputs": [
        {
          "output_type": "stream",
          "name": "stdout",
          "text": [
            "Dame un primer numero entero: 7\n",
            "Dame un segundo numero entero diferente: 9\n",
            "Dame un tercer numero entero diferente: 4\n",
            "Dame un cuarto numero entero diferente: 1\n",
            "EL NUMERO MENOR: 1\n",
            "EL NUMERO MAYOR: 9\n"
          ]
        }
      ]
    }
  ]
}