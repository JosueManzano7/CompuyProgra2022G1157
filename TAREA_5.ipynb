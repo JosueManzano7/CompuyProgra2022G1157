{
  "nbformat": 4,
  "nbformat_minor": 0,
  "metadata": {
    "colab": {
      "name": "TAREA 5.ipynb",
      "provenance": [],
      "authorship_tag": "ABX9TyOEZllLR6PMVfuUycAaiNvU",
      "include_colab_link": true
    },
    "kernelspec": {
      "name": "python3",
      "display_name": "Python 3"
    },
    "language_info": {
      "name": "python"
    }
  },
  "cells": [
    {
      "cell_type": "markdown",
      "metadata": {
        "id": "view-in-github",
        "colab_type": "text"
      },
      "source": [
        "<a href=\"https://colab.research.google.com/github/JosueManzano7/CompuyProgra2022G1157/blob/main/TAREA_5.ipynb\" target=\"_parent\"><img src=\"https://colab.research.google.com/assets/colab-badge.svg\" alt=\"Open In Colab\"/></a>"
      ]
    },
    {
      "cell_type": "markdown",
      "metadata": {
        "id": "fMiQ8yACxOhD"
      },
      "source": [
        "#TAREA 5"
      ]
    },
    {
      "cell_type": "markdown",
      "metadata": {
        "id": "bLbmO6GFxTZq"
      },
      "source": [
        "###PROGRAMA 1.\n",
        "Hacer un programa que pida dos números enteros y que imprima en pantalla lo siguiente:\n",
        "- ¿Cuál de ellos es el número mayor?\n",
        "- ¿Cuál de ellos es el número menor?\n",
        "o en su defecto\n",
        "- ¿Imprimir que los valores son iguales?\n"
      ]
    },
    {
      "cell_type": "code",
      "metadata": {
        "colab": {
          "base_uri": "https://localhost:8080/"
        },
        "id": "92JSXI0MwA5v",
        "outputId": "3e3cc77e-3cb6-4a93-c6d0-57dff429b3b9"
      },
      "source": [
        "N1=int(input(\"Dame un primer numero entero: \"))\n",
        "N2=int(input(\"Dame un segundo numero entero: \"))\n",
        "if N1>N2:\n",
        "    print(f\"EL PRIMER NUMERO ES EL MAYOR: \\\"{N1}\\\" \\nEL SEGUNDO NUMERO ES EL MENOR: \\\"{N2}\\\"\")\n",
        "elif N1<N2:\n",
        "    print(f\"EL SEGUNDO NUMERO ES EL MAYOR: \\\"{N2}\\\" \\nEL PRIMER NUMERO ES EL MENOR: \\\"{N1}\\\"\")\n",
        "else:\n",
        "    print(\"AMBOS NUMEROS SON IGUALES\")"
      ],
      "execution_count": 2,
      "outputs": [
        {
          "output_type": "stream",
          "name": "stdout",
          "text": [
            "Dame un primer numero entero: 27\n",
            "Dame un segundo numero entero: 14\n",
            "EL PRIMER NUMERO ES EL MAYOR: \"27\" \n",
            "EL SEGUNDO NUMERO ES EL MENOR: \"14\"\n"
          ]
        }
      ]
    },
    {
      "cell_type": "markdown",
      "metadata": {
        "id": "3ic1K2iKzSvi"
      },
      "source": [
        "###PROGRAMA 2\n",
        "Hacer un programa que solicite 3 números enteros diferentes entre sí y que imprima cuál de los 3 es el mayor"
      ]
    },
    {
      "cell_type": "code",
      "metadata": {
        "colab": {
          "base_uri": "https://localhost:8080/"
        },
        "id": "Hv8dfaa-zYoC",
        "outputId": "d55cecb6-fd7d-4c50-a8ac-77136305f6a3"
      },
      "source": [
        "N1=int(input(\"Dame un primer numero entero: \"))\n",
        "N2=int(input(\"Dame un segundo numero entero diferente: \"))\n",
        "N3=int(input(\"Dame un tercer numero entero diferente: \"))\n",
        "\n",
        "if N1==N2==N3 or N1==N2 or N1==N3 or N2==N3:\n",
        "    print(\"ALGUNOS NÚMEROS SON IGUALES, DEBEN SER 3 NUMEROS DIFERENTES\")\n",
        "else:\n",
        "    if N1>N2 and N1>N3:\n",
        "        print(f\"EL PRIMER NUMERO ES EL MAYOR: \\\"{N1}\\\"\")\n",
        "    elif N2>N1 and N2>N3:\n",
        "        print(f\"EL SEGUNDO NUMERO ES EL MAYOR: \\\"{N2}\\\"\")\n",
        "    elif N3>N1 and N3>N2:\n",
        "        print(f\"EL TERCER NUMERO ES EL MAYOR: \\\"{N3}\\\"\")\n"
      ],
      "execution_count": 3,
      "outputs": [
        {
          "output_type": "stream",
          "name": "stdout",
          "text": [
            "Dame un primer numero entero: 87\n",
            "Dame un segundo numero entero diferente: 45\n",
            "Dame un tercer numero entero diferente: 61\n",
            "EL PRIMER NUMERO ES EL MAYOR: \"87\"\n"
          ]
        }
      ]
    },
    {
      "cell_type": "markdown",
      "metadata": {
        "id": "iEaJQatk0sFv"
      },
      "source": [
        "###PROGRAMA 3\n",
        "Hacer un programa que solicite 3 números enteros diferentes entre sí y que imprima cuál de los 3 es el menor"
      ]
    },
    {
      "cell_type": "code",
      "metadata": {
        "colab": {
          "base_uri": "https://localhost:8080/"
        },
        "id": "YDJi6CjS64Ag",
        "outputId": "8d154294-3004-4d85-b356-99328e62e51f"
      },
      "source": [
        "N1=int(input(\"Dame un primer numero entero: \"))\n",
        "N2=int(input(\"Dame un segundo numero entero diferente: \"))\n",
        "N3=int(input(\"Dame un tercer numero entero diferente: \"))\n",
        "if N1==N2==N3 or N1==N2 or N1==N3 or N2==N3:\n",
        "    print(\"ALGUNOS NÚMEROS SON IGUALES, DEBEN SER 3 NUMEROS DIFERENTES\")\n",
        "else:\n",
        "    if N1<N2 and N1<N3:\n",
        "        print(f\"EL PRIMER NUMERO ES EL MENOR: \\\"{N1}\\\"\")\n",
        "    elif N2<N1 and N2<N3:\n",
        "        print(f\"EL SEGUNDO NUMERO ES EL MENOR: \\\"{N2}\\\"\")\n",
        "    elif N3<N1 and N3<N2:\n",
        "        print(f\"EL TERCER NUMERO ES EL MENOR: \\\"{N3}\\\"\")"
      ],
      "execution_count": 4,
      "outputs": [
        {
          "output_type": "stream",
          "name": "stdout",
          "text": [
            "Dame un primer numero entero: 9\n",
            "Dame un segundo numero entero diferente: 75\n",
            "Dame un tercer numero entero diferente: 23\n",
            "EL PRIMER NUMERO ES EL MENOR: \"9\"\n"
          ]
        }
      ]
    },
    {
      "cell_type": "markdown",
      "metadata": {
        "id": "PncCGYVc7goQ"
      },
      "source": [
        "###PROGRAMA 4\n",
        "Hacer un programa que solicite 4 números enteros diferentes entre sí y que imprima a la salida cuál de ellos es el menor y cuál de ellos es el mayor\n"
      ]
    },
    {
      "cell_type": "code",
      "metadata": {
        "colab": {
          "base_uri": "https://localhost:8080/"
        },
        "id": "EB63sBKN7xvS",
        "outputId": "5b523a5c-caba-4747-ef5d-d0263bd2bb31"
      },
      "source": [
        "N1=int(input(\"Dame un primer numero entero: \"))\n",
        "N2=int(input(\"Dame un segundo numero entero diferente: \"))\n",
        "N3=int(input(\"Dame un tercer numero entero diferente: \"))\n",
        "N4=int(input(\"Dame un cuarto numero entero diferente: \"))\n",
        "if N1==N2==N3==N4 or N1==N2 or N1==N3 or N2==N3 or N1==N4 or N2==N3 or N2==N4 or N3==N4:\n",
        "    print(\"ALGUNOS NÚMEROS SON IGUALES, DEBEN SER 3 NUMEROS DIFERENTES\")\n",
        "else:\n",
        "    if N1>N2 and N1>N3 and N1>N4:    #mayor\n",
        "        max=N1\n",
        "    elif N2>N1 and N2>N3 and N2>N4:\n",
        "        max=N2\n",
        "    elif N3>N1 and N3>N2 and N3>N4:\n",
        "        max=N3\n",
        "    elif N4>N1 and N4>N2 and N4>N3:\n",
        "        max=N4\n",
        "\n",
        "    if N1<N2 and N1<N3 and N1<N4:    #menor\n",
        "        min=N1\n",
        "    elif N2<N1 and N2<N3 and N2<N4:\n",
        "        min=N2\n",
        "    elif N3<N1 and N3<N2 and N3<N4:\n",
        "        min=N3\n",
        "    elif N4<N1 and N4<N2 and N4<N3:\n",
        "        min=N4\n",
        "print(\"EL NUMERO MENOR:\", min)\n",
        "print(\"EL NUMERO MAYOR:\", max)"
      ],
      "execution_count": 5,
      "outputs": [
        {
          "output_type": "stream",
          "name": "stdout",
          "text": [
            "Dame un primer numero entero: 78\n",
            "Dame un segundo numero entero diferente: 45\n",
            "Dame un tercer numero entero diferente: 65\n",
            "Dame un cuarto numero entero diferente: 12\n",
            "EL NUMERO MENOR: 12\n",
            "EL NUMERO MAYOR: 78\n"
          ]
        }
      ]
    }
  ]
}