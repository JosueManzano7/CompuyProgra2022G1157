{
  "nbformat": 4,
  "nbformat_minor": 0,
  "metadata": {
    "colab": {
      "name": "fundamentos2_CyP1157.ipynb",
      "provenance": [],
      "authorship_tag": "ABX9TyNPLI8lvlHXvSXn9HtIvWl3",
      "include_colab_link": true
    },
    "kernelspec": {
      "name": "python3",
      "display_name": "Python 3"
    },
    "language_info": {
      "name": "python"
    }
  },
  "cells": [
    {
      "cell_type": "markdown",
      "metadata": {
        "id": "view-in-github",
        "colab_type": "text"
      },
      "source": [
        "<a href=\"https://colab.research.google.com/github/JosueManzano7/CompuyProgra2022G1157/blob/main/fundamentos2_CyP1157.ipynb\" target=\"_parent\"><img src=\"https://colab.research.google.com/assets/colab-badge.svg\" alt=\"Open In Colab\"/></a>"
      ]
    },
    {
      "cell_type": "markdown",
      "metadata": {
        "id": "XP0KV4rYXkh7"
      },
      "source": [
        "#Fecha: 04 de noviembre de 2021"
      ]
    },
    {
      "cell_type": "markdown",
      "metadata": {
        "id": "HYGwaSDRY2lm"
      },
      "source": [
        "#Datos de Entrada\n",
        "Para solicitar los datos del usuario se emplea la función input. La cual regresa siempre un tipo de dato string"
      ]
    },
    {
      "cell_type": "code",
      "metadata": {
        "colab": {
          "base_uri": "https://localhost:8080/"
        },
        "id": "6WTFzQpbX4Ti",
        "outputId": "67d6e3c1-3f81-43d1-ce7e-64cda5534a19"
      },
      "source": [
        "nombre=input(\"Ingresa tu nombre\")\n",
        "print(\"Tecleaste: \", nombre)"
      ],
      "execution_count": 61,
      "outputs": [
        {
          "output_type": "stream",
          "name": "stdout",
          "text": [
            "Ingresa tu nombrejosue\n",
            "Tecleaste:  josue\n"
          ]
        }
      ]
    },
    {
      "cell_type": "markdown",
      "metadata": {
        "id": "494YzhvpYidz"
      },
      "source": [
        "#¿Cómo capurar datos numéricos?\n",
        "\n",
        "Para ello se hace una conversion entre tipos...\n",
        "casting. consiste en llamar al constructor de la clase deseada\n",
        "\n",
        "#Ejemplo convertir el string \"2\" en numero\n",
        "\n",
        "num=int(\"2\")"
      ]
    },
    {
      "cell_type": "code",
      "metadata": {
        "colab": {
          "base_uri": "https://localhost:8080/"
        },
        "id": "QqD1HeUMYobi",
        "outputId": "a3bb3b25-0991-4efa-cf50-5bf1927393a4"
      },
      "source": [
        "entrada=input(\"Dame tu edad: \")\n",
        "edad= int(entrada)\n",
        "edad+=1 #edad =edad+1\n",
        "print(\"Tu edad es: \", edad)"
      ],
      "execution_count": 62,
      "outputs": [
        {
          "output_type": "stream",
          "name": "stdout",
          "text": [
            "Dame tu edad: 19\n",
            "Tu edad es:  20\n"
          ]
        }
      ]
    },
    {
      "cell_type": "code",
      "metadata": {
        "colab": {
          "base_uri": "https://localhost:8080/"
        },
        "id": "7RLr8VWTYs2b",
        "outputId": "652050ff-e891-4e46-8416-a704e1fe3dce"
      },
      "source": [
        "#Lo mismo pero con menos código\n",
        "edad=int(input(\"Dame tu edad: \"))\n",
        "print(\"Tu edad es: \", edad+1)"
      ],
      "execution_count": 63,
      "outputs": [
        {
          "output_type": "stream",
          "name": "stdout",
          "text": [
            "Dame tu edad: 19\n",
            "Tu edad es:  20\n"
          ]
        }
      ]
    },
    {
      "cell_type": "code",
      "metadata": {
        "colab": {
          "base_uri": "https://localhost:8080/"
        },
        "id": "HXGz-XUXY-ra",
        "outputId": "65eac412-420d-4a1b-9728-9bfda5af808e"
      },
      "source": [
        "estatura=float(input(\"Dame tu estatura: \"))\n",
        "print(\"Tu estatura es: \",estatura+0.1 )"
      ],
      "execution_count": 64,
      "outputs": [
        {
          "output_type": "stream",
          "name": "stdout",
          "text": [
            "Dame tu estatura: 1.60\n",
            "Tu estatura es:  1.7000000000000002\n"
          ]
        }
      ]
    },
    {
      "cell_type": "code",
      "metadata": {
        "colab": {
          "base_uri": "https://localhost:8080/"
        },
        "id": "H0JyPqQoZIDA",
        "outputId": "a3aa1c9d-69f5-42a8-efc2-4d363d584938"
      },
      "source": [
        "#Input de booleans\n",
        "casado=bool(int(input(\"soltero (0) casado(1): \")))\n",
        "print(\"casado= \", casado)"
      ],
      "execution_count": 65,
      "outputs": [
        {
          "output_type": "stream",
          "name": "stdout",
          "text": [
            "soltero (0) casado(1): 0\n",
            "casado=  False\n"
          ]
        }
      ]
    },
    {
      "cell_type": "markdown",
      "metadata": {
        "id": "y0TY5EhGFr_j"
      },
      "source": [
        "#Tipos de datos estructurados de Python\n",
        "1.Listas\n",
        "2. Duplas\n",
        "3. Diccionarios\n",
        "4. Conjuntos(opcional)\n"
      ]
    },
    {
      "cell_type": "markdown",
      "metadata": {
        "id": "xHkzBRXPF7gr"
      },
      "source": [
        "#Listas\n",
        "- Tipo de dato que agruo variables o valores.\n",
        "- Estructura secuencial (indexados empezando por 0)\n",
        "- Se declara de dos formas#\n",
        "  - usando[]\n",
        "  - usando list()\n",
        "- Puede contener tipos de datos diversos (En otros lenguajes de prog. eso no es posible de forma directa)\n",
        "- Los elementos internos se seleccionan con[]\n",
        "- Soporta slicing\n",
        "- SON MUTABLES\n",
        "- GENERADORES [var]\n",
        "- al ser una clase contiene muchos métodos útiles"
      ]
    },
    {
      "cell_type": "code",
      "metadata": {
        "colab": {
          "base_uri": "https://localhost:8080/"
        },
        "id": "RZX4QurDGqIC",
        "outputId": "23f80b9b-a888-4850-a2f7-afbfbd5657e3"
      },
      "source": [
        "numeros=[10,5,2,3,1]\n",
        "print(numeros)\n",
        "\n",
        "numeros2=list()\n",
        "numeros2.append(10)\n",
        "numeros2.append(5)\n",
        "numeros2.append(2)\n",
        "numeros2.append(3)\n",
        "numeros2.append(1)\n",
        "print(numeros2)\n",
        "\n",
        "numeros[2]=20\n",
        "print(numeros)\n",
        "numeros[-1]=33\n",
        "numeros.append(88)\n",
        "print(numeros)"
      ],
      "execution_count": 14,
      "outputs": [
        {
          "output_type": "stream",
          "name": "stdout",
          "text": [
            "[10, 5, 2, 3, 1]\n",
            "[10, 5, 2, 3, 1]\n",
            "[10, 5, 20, 3, 1]\n",
            "[10, 5, 20, 3, 33, 88]\n"
          ]
        }
      ]
    },
    {
      "cell_type": "code",
      "metadata": {
        "colab": {
          "base_uri": "https://localhost:8080/"
        },
        "id": "MA97_EuaIoqC",
        "outputId": "6355a5a7-7586-4c91-bfea-1969a02c0e51"
      },
      "source": [
        "#Tipos de datos diverosos\n",
        "cosas=[12, 2, True, \"Josue\", 1.57, [\"pera\", \"kiwi\", \"uva\"]]\n",
        "print(cosas)\n",
        "print(cosas[1])\n",
        "print(cosas[4])\n",
        "print(cosas[5])\n",
        "print(cosas[5][1])\n",
        "print(cosas[3][1:3])\n",
        "cosas[3]=cosas[3].upper()\n",
        "print(cosas)\n"
      ],
      "execution_count": 15,
      "outputs": [
        {
          "output_type": "stream",
          "name": "stdout",
          "text": [
            "[12, 2, True, 'Josue', 1.57, ['pera', 'kiwi', 'uva']]\n",
            "2\n",
            "1.57\n",
            "['pera', 'kiwi', 'uva']\n",
            "kiwi\n",
            "os\n",
            "[12, 2, True, 'JOSUE', 1.57, ['pera', 'kiwi', 'uva']]\n"
          ]
        }
      ]
    },
    {
      "cell_type": "code",
      "metadata": {
        "colab": {
          "base_uri": "https://localhost:8080/"
        },
        "id": "UGq5llVlL4mM",
        "outputId": "6ef9da95-2d7b-44dc-f775-1b375c20ae1f"
      },
      "source": [
        "numeros= [1,2,3,4,5,6,7,8,9,10,11]\n",
        "print(numeros)\n",
        "#slicing\n",
        "\n",
        "print(numeros[3:8])\n",
        "print(numeros[8:10])\n",
        "print(numeros[-3:-1])\n",
        "print(numeros[::-1])\n"
      ],
      "execution_count": 26,
      "outputs": [
        {
          "output_type": "stream",
          "name": "stdout",
          "text": [
            "[1, 2, 3, 4, 5, 6, 7, 8, 9, 10, 11]\n",
            "[4, 5, 6, 7, 8]\n",
            "[9, 10]\n",
            "[9, 10]\n",
            "[11, 10, 9, 8, 7, 6, 5, 4, 3, 2, 1]\n"
          ]
        }
      ]
    },
    {
      "cell_type": "code",
      "metadata": {
        "colab": {
          "base_uri": "https://localhost:8080/"
        },
        "id": "x-CCaHz-Ppqc",
        "outputId": "25160a97-a44c-4ba7-a0e8-5ab19e6eb9a6"
      },
      "source": [
        "#crear una lista con un generador\n",
        "numeros =[x*3 for x in range(101)]\n",
        "print(numeros)"
      ],
      "execution_count": 34,
      "outputs": [
        {
          "output_type": "stream",
          "name": "stdout",
          "text": [
            "[0, 3, 6, 9, 12, 15, 18, 21, 24, 27, 30, 33, 36, 39, 42, 45, 48, 51, 54, 57, 60, 63, 66, 69, 72, 75, 78, 81, 84, 87, 90, 93, 96, 99, 102, 105, 108, 111, 114, 117, 120, 123, 126, 129, 132, 135, 138, 141, 144, 147, 150, 153, 156, 159, 162, 165, 168, 171, 174, 177, 180, 183, 186, 189, 192, 195, 198, 201, 204, 207, 210, 213, 216, 219, 222, 225, 228, 231, 234, 237, 240, 243, 246, 249, 252, 255, 258, 261, 264, 267, 270, 273, 276, 279, 282, 285, 288, 291, 294, 297, 300]\n"
          ]
        }
      ]
    },
    {
      "cell_type": "markdown",
      "metadata": {
        "id": "c9BEu5VpQZMq"
      },
      "source": [
        "#funcion range()\n",
        "tiene los msmos componentes que slicing \n",
        "\n",
        "inicio,stop,incremento\n",
        "\n",
        "range(1,101,1)"
      ]
    },
    {
      "cell_type": "code",
      "metadata": {
        "colab": {
          "base_uri": "https://localhost:8080/"
        },
        "id": "ipqbWFMjQv1S",
        "outputId": "e328e420-bb0e-4aed-e436-7fd9f7ea9743"
      },
      "source": [
        "numeros =[x for x in range(50,101,5)]\n",
        "print(numeros)"
      ],
      "execution_count": 33,
      "outputs": [
        {
          "output_type": "stream",
          "name": "stdout",
          "text": [
            "[50, 55, 60, 65, 70, 75, 80, 85, 90, 95, 100]\n"
          ]
        }
      ]
    },
    {
      "cell_type": "markdown",
      "metadata": {
        "id": "azdMbUy7RJwm"
      },
      "source": [
        "#Metodos disponibles de las listas\n"
      ]
    },
    {
      "cell_type": "code",
      "metadata": {
        "colab": {
          "base_uri": "https://localhost:8080/"
        },
        "id": "jW3WGke8ROPz",
        "outputId": "b29038d1-5c05-4f54-8f6e-6d318075d21d"
      },
      "source": [
        "dir(list)"
      ],
      "execution_count": 35,
      "outputs": [
        {
          "output_type": "execute_result",
          "data": {
            "text/plain": [
              "['__add__',\n",
              " '__class__',\n",
              " '__contains__',\n",
              " '__delattr__',\n",
              " '__delitem__',\n",
              " '__dir__',\n",
              " '__doc__',\n",
              " '__eq__',\n",
              " '__format__',\n",
              " '__ge__',\n",
              " '__getattribute__',\n",
              " '__getitem__',\n",
              " '__gt__',\n",
              " '__hash__',\n",
              " '__iadd__',\n",
              " '__imul__',\n",
              " '__init__',\n",
              " '__init_subclass__',\n",
              " '__iter__',\n",
              " '__le__',\n",
              " '__len__',\n",
              " '__lt__',\n",
              " '__mul__',\n",
              " '__ne__',\n",
              " '__new__',\n",
              " '__reduce__',\n",
              " '__reduce_ex__',\n",
              " '__repr__',\n",
              " '__reversed__',\n",
              " '__rmul__',\n",
              " '__setattr__',\n",
              " '__setitem__',\n",
              " '__sizeof__',\n",
              " '__str__',\n",
              " '__subclasshook__',\n",
              " 'append',\n",
              " 'clear',\n",
              " 'copy',\n",
              " 'count',\n",
              " 'extend',\n",
              " 'index',\n",
              " 'insert',\n",
              " 'pop',\n",
              " 'remove',\n",
              " 'reverse',\n",
              " 'sort']"
            ]
          },
          "metadata": {},
          "execution_count": 35
        }
      ]
    },
    {
      "cell_type": "code",
      "metadata": {
        "colab": {
          "base_uri": "https://localhost:8080/"
        },
        "id": "_Lt-zBBkSY9k",
        "outputId": "f78181ea-b813-4c5a-ae2f-3e416593af84"
      },
      "source": [
        "numeros=[4,1,15,8,22,34,50]\n",
        "print(numeros)\n",
        "\n",
        "numeros.append(99) #agrega un elemento a la lista\n",
        "print(numeros)\n",
        "\n",
        "numeros.clear() #vacia la lista\n",
        "print(numeros)\n",
        "\n",
        "numeros=[] #vacia la lista\n",
        "print(numeros)\n",
        "\n",
        "frutas=[\"uvas\", \"kiwi\", \"manzana\"]\n",
        "copia=frutas\n",
        "print(frutas)\n",
        "print(copia)\n",
        "frutas.append(\"Naranja\")\n",
        "print(frutas)\n",
        "print(copia)\n",
        "\n",
        "colores=[\"rojo\",\"azul\", \"blanco\"]\n",
        "copia2=colores.copy()  #copia fisica\n",
        "print(colores)\n",
        "print(copia2)\n",
        "colores.append(\"verde\")\n",
        "print(colores)\n",
        "print(copia2)\n",
        "\n",
        "numeros=[4,1,15,15,8,22,34,50]\n",
        "print(\"Nuemro de veces que aparece el 15: \", numeros.count(15)) #numeo de veces que se repie un elemento\n",
        "\n",
        "nombres=[\"jose\", \"pedro\", \"dayra\"]\n",
        "otrosNombres=[\"jouse\", \"diana\", \"dalia\"]\n",
        "print(nombres)\n",
        "print(otrosNombres)\n",
        "nombres = nombres + otrosNombres\n",
        "print(nombres)\n",
        "print(otrosNombres)\n",
        "\n",
        "\n",
        "#lo mismo con el metodo extend\n",
        "otrosNombres.extend([\"Jesus\", \"maria\", \"jose\"])\n",
        "print(otrosNombres)\n",
        "\n",
        "\n",
        "print(\"Jesus esta en la posición: \",otrosNombres.index(\"Jesus\"))#regresa la posisicon donde se encuentra el elemento\n",
        "\n",
        "otrosNombres.insert(4, \"espiritu santo\")\n",
        "print(otrosNombres)\n",
        "\n",
        "#pop, agarra el ultimo elemento\n",
        "resultado=otrosNombres.pop() \n",
        "print(otrosNombres)\n",
        "print(resultado)\n",
        "\n",
        "\n",
        "\n"
      ],
      "execution_count": 59,
      "outputs": [
        {
          "output_type": "stream",
          "name": "stdout",
          "text": [
            "[4, 1, 15, 8, 22, 34, 50]\n",
            "[4, 1, 15, 8, 22, 34, 50, 99]\n",
            "[]\n",
            "[]\n",
            "['uvas', 'kiwi', 'manzana']\n",
            "['uvas', 'kiwi', 'manzana']\n",
            "['uvas', 'kiwi', 'manzana', 'Naranja']\n",
            "['uvas', 'kiwi', 'manzana', 'Naranja']\n",
            "['rojo', 'azul', 'blanco']\n",
            "['rojo', 'azul', 'blanco']\n",
            "['rojo', 'azul', 'blanco', 'verde']\n",
            "['rojo', 'azul', 'blanco']\n",
            "Nuemro de veces que aparece el 15:  2\n",
            "['jose', 'pedro', 'dayra']\n",
            "['jouse', 'diana', 'dalia']\n",
            "['jose', 'pedro', 'dayra', 'jouse', 'diana', 'dalia']\n",
            "['jouse', 'diana', 'dalia']\n",
            "['jouse', 'diana', 'dalia', 'Jesus', 'maria', 'jose']\n",
            "Jesus esta en la posición:  3\n",
            "['jouse', 'diana', 'dalia', 'Jesus', 'espiritu santo', 'maria', 'jose']\n",
            "['jouse', 'diana', 'dalia', 'Jesus', 'espiritu santo', 'maria']\n",
            "jose\n"
          ]
        }
      ]
    }
  ]
}