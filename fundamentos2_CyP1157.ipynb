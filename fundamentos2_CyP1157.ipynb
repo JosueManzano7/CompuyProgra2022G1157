{
  "nbformat": 4,
  "nbformat_minor": 0,
  "metadata": {
    "colab": {
      "name": "fundamentos2_CyP1157.ipynb",
      "provenance": [],
      "authorship_tag": "ABX9TyMIzJiC4+ivMP6UQqL4gp1N",
      "include_colab_link": true
    },
    "kernelspec": {
      "name": "python3",
      "display_name": "Python 3"
    },
    "language_info": {
      "name": "python"
    }
  },
  "cells": [
    {
      "cell_type": "markdown",
      "metadata": {
        "id": "view-in-github",
        "colab_type": "text"
      },
      "source": [
        "<a href=\"https://colab.research.google.com/github/JosueManzano7/CompuyProgra2022G1157/blob/main/fundamentos2_CyP1157.ipynb\" target=\"_parent\"><img src=\"https://colab.research.google.com/assets/colab-badge.svg\" alt=\"Open In Colab\"/></a>"
      ]
    },
    {
      "cell_type": "markdown",
      "metadata": {
        "id": "XP0KV4rYXkh7"
      },
      "source": [
        "#FECHA: 04 DE NOVIEMBRE DE 2021"
      ]
    },
    {
      "cell_type": "markdown",
      "metadata": {
        "id": "HYGwaSDRY2lm"
      },
      "source": [
        "#Datos de Entrada\n",
        "Para solicitar los datos del usuario se emplea la función input. La cual regresa siempre un tipo de dato string"
      ]
    },
    {
      "cell_type": "code",
      "metadata": {
        "colab": {
          "base_uri": "https://localhost:8080/"
        },
        "id": "6WTFzQpbX4Ti",
        "outputId": "67d6e3c1-3f81-43d1-ce7e-64cda5534a19"
      },
      "source": [
        "nombre=input(\"Ingresa tu nombre\")\n",
        "print(\"Tecleaste: \", nombre)"
      ],
      "execution_count": null,
      "outputs": [
        {
          "output_type": "stream",
          "name": "stdout",
          "text": [
            "Ingresa tu nombrejosue\n",
            "Tecleaste:  josue\n"
          ]
        }
      ]
    },
    {
      "cell_type": "markdown",
      "metadata": {
        "id": "494YzhvpYidz"
      },
      "source": [
        "#¿Cómo capurar datos numéricos?\n",
        "\n",
        "Para ello se hace una conversion entre tipos...\n",
        "casting. consiste en llamar al constructor de la clase deseada\n",
        "\n",
        "#Ejemplo convertir el string \"2\" en numero\n",
        "\n",
        "num=int(\"2\")"
      ]
    },
    {
      "cell_type": "code",
      "metadata": {
        "colab": {
          "base_uri": "https://localhost:8080/"
        },
        "id": "QqD1HeUMYobi",
        "outputId": "a3bb3b25-0991-4efa-cf50-5bf1927393a4"
      },
      "source": [
        "entrada=input(\"Dame tu edad: \")\n",
        "edad= int(entrada)\n",
        "edad+=1 #edad =edad+1\n",
        "print(\"Tu edad es: \", edad)"
      ],
      "execution_count": null,
      "outputs": [
        {
          "output_type": "stream",
          "name": "stdout",
          "text": [
            "Dame tu edad: 19\n",
            "Tu edad es:  20\n"
          ]
        }
      ]
    },
    {
      "cell_type": "code",
      "metadata": {
        "colab": {
          "base_uri": "https://localhost:8080/"
        },
        "id": "7RLr8VWTYs2b",
        "outputId": "652050ff-e891-4e46-8416-a704e1fe3dce"
      },
      "source": [
        "#Lo mismo pero con menos código\n",
        "edad=int(input(\"Dame tu edad: \"))\n",
        "print(\"Tu edad es: \", edad+1)"
      ],
      "execution_count": null,
      "outputs": [
        {
          "output_type": "stream",
          "name": "stdout",
          "text": [
            "Dame tu edad: 19\n",
            "Tu edad es:  20\n"
          ]
        }
      ]
    },
    {
      "cell_type": "code",
      "metadata": {
        "colab": {
          "base_uri": "https://localhost:8080/"
        },
        "id": "HXGz-XUXY-ra",
        "outputId": "65eac412-420d-4a1b-9728-9bfda5af808e"
      },
      "source": [
        "estatura=float(input(\"Dame tu estatura: \"))\n",
        "print(\"Tu estatura es: \",estatura+0.1 )"
      ],
      "execution_count": null,
      "outputs": [
        {
          "output_type": "stream",
          "name": "stdout",
          "text": [
            "Dame tu estatura: 1.60\n",
            "Tu estatura es:  1.7000000000000002\n"
          ]
        }
      ]
    },
    {
      "cell_type": "code",
      "metadata": {
        "colab": {
          "base_uri": "https://localhost:8080/"
        },
        "id": "H0JyPqQoZIDA",
        "outputId": "a3aa1c9d-69f5-42a8-efc2-4d363d584938"
      },
      "source": [
        "#Input de booleans\n",
        "casado=bool(int(input(\"soltero (0) casado(1): \")))\n",
        "print(\"casado= \", casado)"
      ],
      "execution_count": null,
      "outputs": [
        {
          "output_type": "stream",
          "name": "stdout",
          "text": [
            "soltero (0) casado(1): 0\n",
            "casado=  False\n"
          ]
        }
      ]
    },
    {
      "cell_type": "markdown",
      "metadata": {
        "id": "y0TY5EhGFr_j"
      },
      "source": [
        "#Tipos de datos estructurados de Python\n",
        "1.Listas\n",
        "2. Duplas\n",
        "3. Diccionarios\n",
        "4. Conjuntos(opcional)\n"
      ]
    },
    {
      "cell_type": "markdown",
      "metadata": {
        "id": "xHkzBRXPF7gr"
      },
      "source": [
        "#Listas\n",
        "- Tipo de dato que agruo variables o valores.\n",
        "- Estructura secuencial (indexados empezando por 0)\n",
        "- Se declara de dos formas#\n",
        "  - usando[]\n",
        "  - usando list()\n",
        "- Puede contener tipos de datos diversos (En otros lenguajes de prog. eso no es posible de forma directa)\n",
        "- Los elementos internos se seleccionan con[]\n",
        "- Soporta slicing\n",
        "- SON MUTABLES\n",
        "- GENERADORES [var]\n",
        "- al ser una clase contiene muchos métodos útiles"
      ]
    },
    {
      "cell_type": "code",
      "metadata": {
        "colab": {
          "base_uri": "https://localhost:8080/"
        },
        "id": "RZX4QurDGqIC",
        "outputId": "23f80b9b-a888-4850-a2f7-afbfbd5657e3"
      },
      "source": [
        "numeros=[10,5,2,3,1]\n",
        "print(numeros)\n",
        "\n",
        "numeros2=list()\n",
        "numeros2.append(10)\n",
        "numeros2.append(5)\n",
        "numeros2.append(2)\n",
        "numeros2.append(3)\n",
        "numeros2.append(1)\n",
        "print(numeros2)\n",
        "\n",
        "numeros[2]=20\n",
        "print(numeros)\n",
        "numeros[-1]=33\n",
        "numeros.append(88)\n",
        "print(numeros)"
      ],
      "execution_count": null,
      "outputs": [
        {
          "output_type": "stream",
          "name": "stdout",
          "text": [
            "[10, 5, 2, 3, 1]\n",
            "[10, 5, 2, 3, 1]\n",
            "[10, 5, 20, 3, 1]\n",
            "[10, 5, 20, 3, 33, 88]\n"
          ]
        }
      ]
    },
    {
      "cell_type": "code",
      "metadata": {
        "colab": {
          "base_uri": "https://localhost:8080/"
        },
        "id": "MA97_EuaIoqC",
        "outputId": "6355a5a7-7586-4c91-bfea-1969a02c0e51"
      },
      "source": [
        "#Tipos de datos diverosos\n",
        "cosas=[12, 2, True, \"Josue\", 1.57, [\"pera\", \"kiwi\", \"uva\"]]\n",
        "print(cosas)\n",
        "print(cosas[1])\n",
        "print(cosas[4])\n",
        "print(cosas[5])\n",
        "print(cosas[5][1])\n",
        "print(cosas[3][1:3])\n",
        "cosas[3]=cosas[3].upper()\n",
        "print(cosas)\n"
      ],
      "execution_count": null,
      "outputs": [
        {
          "output_type": "stream",
          "name": "stdout",
          "text": [
            "[12, 2, True, 'Josue', 1.57, ['pera', 'kiwi', 'uva']]\n",
            "2\n",
            "1.57\n",
            "['pera', 'kiwi', 'uva']\n",
            "kiwi\n",
            "os\n",
            "[12, 2, True, 'JOSUE', 1.57, ['pera', 'kiwi', 'uva']]\n"
          ]
        }
      ]
    },
    {
      "cell_type": "code",
      "metadata": {
        "colab": {
          "base_uri": "https://localhost:8080/"
        },
        "id": "UGq5llVlL4mM",
        "outputId": "6ef9da95-2d7b-44dc-f775-1b375c20ae1f"
      },
      "source": [
        "numeros= [1,2,3,4,5,6,7,8,9,10,11]\n",
        "print(numeros)\n",
        "#slicing\n",
        "\n",
        "print(numeros[3:8])\n",
        "print(numeros[8:10])\n",
        "print(numeros[-3:-1])\n",
        "print(numeros[::-1])\n"
      ],
      "execution_count": null,
      "outputs": [
        {
          "output_type": "stream",
          "name": "stdout",
          "text": [
            "[1, 2, 3, 4, 5, 6, 7, 8, 9, 10, 11]\n",
            "[4, 5, 6, 7, 8]\n",
            "[9, 10]\n",
            "[9, 10]\n",
            "[11, 10, 9, 8, 7, 6, 5, 4, 3, 2, 1]\n"
          ]
        }
      ]
    },
    {
      "cell_type": "code",
      "metadata": {
        "colab": {
          "base_uri": "https://localhost:8080/"
        },
        "id": "x-CCaHz-Ppqc",
        "outputId": "25160a97-a44c-4ba7-a0e8-5ab19e6eb9a6"
      },
      "source": [
        "#crear una lista con un generador\n",
        "numeros =[x*3 for x in range(101)]\n",
        "print(numeros)"
      ],
      "execution_count": null,
      "outputs": [
        {
          "output_type": "stream",
          "name": "stdout",
          "text": [
            "[0, 3, 6, 9, 12, 15, 18, 21, 24, 27, 30, 33, 36, 39, 42, 45, 48, 51, 54, 57, 60, 63, 66, 69, 72, 75, 78, 81, 84, 87, 90, 93, 96, 99, 102, 105, 108, 111, 114, 117, 120, 123, 126, 129, 132, 135, 138, 141, 144, 147, 150, 153, 156, 159, 162, 165, 168, 171, 174, 177, 180, 183, 186, 189, 192, 195, 198, 201, 204, 207, 210, 213, 216, 219, 222, 225, 228, 231, 234, 237, 240, 243, 246, 249, 252, 255, 258, 261, 264, 267, 270, 273, 276, 279, 282, 285, 288, 291, 294, 297, 300]\n"
          ]
        }
      ]
    },
    {
      "cell_type": "markdown",
      "metadata": {
        "id": "c9BEu5VpQZMq"
      },
      "source": [
        "#funcion range()\n",
        "tiene los msmos componentes que slicing \n",
        "\n",
        "inicio,stop,incremento\n",
        "\n",
        "range(1,101,1)"
      ]
    },
    {
      "cell_type": "code",
      "metadata": {
        "colab": {
          "base_uri": "https://localhost:8080/"
        },
        "id": "ipqbWFMjQv1S",
        "outputId": "e328e420-bb0e-4aed-e436-7fd9f7ea9743"
      },
      "source": [
        "numeros =[x for x in range(50,101,5)]\n",
        "print(numeros)"
      ],
      "execution_count": null,
      "outputs": [
        {
          "output_type": "stream",
          "name": "stdout",
          "text": [
            "[50, 55, 60, 65, 70, 75, 80, 85, 90, 95, 100]\n"
          ]
        }
      ]
    },
    {
      "cell_type": "markdown",
      "metadata": {
        "id": "azdMbUy7RJwm"
      },
      "source": [
        "#Metodos disponibles de las listas\n"
      ]
    },
    {
      "cell_type": "code",
      "metadata": {
        "colab": {
          "base_uri": "https://localhost:8080/"
        },
        "id": "jW3WGke8ROPz",
        "outputId": "b29038d1-5c05-4f54-8f6e-6d318075d21d"
      },
      "source": [
        "dir(list)"
      ],
      "execution_count": null,
      "outputs": [
        {
          "output_type": "execute_result",
          "data": {
            "text/plain": [
              "['__add__',\n",
              " '__class__',\n",
              " '__contains__',\n",
              " '__delattr__',\n",
              " '__delitem__',\n",
              " '__dir__',\n",
              " '__doc__',\n",
              " '__eq__',\n",
              " '__format__',\n",
              " '__ge__',\n",
              " '__getattribute__',\n",
              " '__getitem__',\n",
              " '__gt__',\n",
              " '__hash__',\n",
              " '__iadd__',\n",
              " '__imul__',\n",
              " '__init__',\n",
              " '__init_subclass__',\n",
              " '__iter__',\n",
              " '__le__',\n",
              " '__len__',\n",
              " '__lt__',\n",
              " '__mul__',\n",
              " '__ne__',\n",
              " '__new__',\n",
              " '__reduce__',\n",
              " '__reduce_ex__',\n",
              " '__repr__',\n",
              " '__reversed__',\n",
              " '__rmul__',\n",
              " '__setattr__',\n",
              " '__setitem__',\n",
              " '__sizeof__',\n",
              " '__str__',\n",
              " '__subclasshook__',\n",
              " 'append',\n",
              " 'clear',\n",
              " 'copy',\n",
              " 'count',\n",
              " 'extend',\n",
              " 'index',\n",
              " 'insert',\n",
              " 'pop',\n",
              " 'remove',\n",
              " 'reverse',\n",
              " 'sort']"
            ]
          },
          "metadata": {},
          "execution_count": 35
        }
      ]
    },
    {
      "cell_type": "code",
      "metadata": {
        "colab": {
          "base_uri": "https://localhost:8080/"
        },
        "id": "_Lt-zBBkSY9k",
        "outputId": "f78181ea-b813-4c5a-ae2f-3e416593af84"
      },
      "source": [
        "numeros=[4,1,15,8,22,34,50]\n",
        "print(numeros)\n",
        "\n",
        "numeros.append(99) #agrega un elemento a la lista\n",
        "print(numeros)\n",
        "\n",
        "numeros.clear() #vacia la lista\n",
        "print(numeros)\n",
        "\n",
        "numeros=[] #vacia la lista\n",
        "print(numeros)\n",
        "\n",
        "frutas=[\"uvas\", \"kiwi\", \"manzana\"]\n",
        "copia=frutas\n",
        "print(frutas)\n",
        "print(copia)\n",
        "frutas.append(\"Naranja\")\n",
        "print(frutas)\n",
        "print(copia)\n",
        "\n",
        "colores=[\"rojo\",\"azul\", \"blanco\"]\n",
        "copia2=colores.copy()  #copia fisica\n",
        "print(colores)\n",
        "print(copia2)\n",
        "colores.append(\"verde\")\n",
        "print(colores)\n",
        "print(copia2)\n",
        "\n",
        "numeros=[4,1,15,15,8,22,34,50]\n",
        "print(\"Nuemro de veces que aparece el 15: \", numeros.count(15)) #numeo de veces que se repie un elemento\n",
        "\n",
        "nombres=[\"jose\", \"pedro\", \"dayra\"]\n",
        "otrosNombres=[\"jouse\", \"diana\", \"dalia\"]\n",
        "print(nombres)\n",
        "print(otrosNombres)\n",
        "nombres = nombres + otrosNombres\n",
        "print(nombres)\n",
        "print(otrosNombres)\n",
        "\n",
        "\n",
        "#lo mismo con el metodo extend\n",
        "otrosNombres.extend([\"Jesus\", \"maria\", \"jose\"])\n",
        "print(otrosNombres)\n",
        "\n",
        "\n",
        "print(\"Jesus esta en la posición: \",otrosNombres.index(\"Jesus\"))#regresa la posisicon donde se encuentra el elemento\n",
        "\n",
        "otrosNombres.insert(4, \"espiritu santo\")\n",
        "print(otrosNombres)\n",
        "\n",
        "#pop, agarra el ultimo elemento\n",
        "resultado=otrosNombres.pop() \n",
        "print(otrosNombres)\n",
        "print(resultado)\n",
        "\n",
        "\n",
        "\n"
      ],
      "execution_count": null,
      "outputs": [
        {
          "output_type": "stream",
          "name": "stdout",
          "text": [
            "[4, 1, 15, 8, 22, 34, 50]\n",
            "[4, 1, 15, 8, 22, 34, 50, 99]\n",
            "[]\n",
            "[]\n",
            "['uvas', 'kiwi', 'manzana']\n",
            "['uvas', 'kiwi', 'manzana']\n",
            "['uvas', 'kiwi', 'manzana', 'Naranja']\n",
            "['uvas', 'kiwi', 'manzana', 'Naranja']\n",
            "['rojo', 'azul', 'blanco']\n",
            "['rojo', 'azul', 'blanco']\n",
            "['rojo', 'azul', 'blanco', 'verde']\n",
            "['rojo', 'azul', 'blanco']\n",
            "Nuemro de veces que aparece el 15:  2\n",
            "['jose', 'pedro', 'dayra']\n",
            "['jouse', 'diana', 'dalia']\n",
            "['jose', 'pedro', 'dayra', 'jouse', 'diana', 'dalia']\n",
            "['jouse', 'diana', 'dalia']\n",
            "['jouse', 'diana', 'dalia', 'Jesus', 'maria', 'jose']\n",
            "Jesus esta en la posición:  3\n",
            "['jouse', 'diana', 'dalia', 'Jesus', 'espiritu santo', 'maria', 'jose']\n",
            "['jouse', 'diana', 'dalia', 'Jesus', 'espiritu santo', 'maria']\n",
            "jose\n"
          ]
        }
      ]
    },
    {
      "cell_type": "markdown",
      "metadata": {
        "id": "arHu6fEdwFEO"
      },
      "source": [
        "#FECHA: 9 DE NOVIEMBRE DE 2021\n",
        "\n",
        "#Tuplas\n",
        "### Características de las tuplas\n",
        "- Se declara usando#\n",
        " - ()\n",
        " - tuple()\n",
        "- Datos agrupados\n",
        "- Estructura secuencial, indexada a partir de 0\n",
        "- peude tener de 0 a n elementos\n",
        "- NO SON MUTABLES (no se peuede eliminar y/o cambiar)\n",
        "- SOn buenas para almacenar información de consulta\n",
        "-Puede almacenar info. de diferentes tipos de datos.\n",
        "- Pueden estar anidadas\n",
        "- Tienen métodos útiles"
      ]
    },
    {
      "cell_type": "code",
      "metadata": {
        "colab": {
          "base_uri": "https://localhost:8080/"
        },
        "id": "J07ZlkS_xRV8",
        "outputId": "e8044b0c-a535-4b35-cfc1-7b071f6ae270"
      },
      "source": [
        "info=(\"juan23\", \"dios1234\", \"123.232.1.12\")\n",
        "print(info)\n",
        "print(info[1])\n",
        "#info[1]=\"patito23\"  es inmutable\n",
        "\n",
        "numero=(0,1,2,3,4,5,6,7,8,9,10,11,12,13,14,15)\n",
        "print(numero)\n",
        "print(numero[5:11])\n",
        "\n",
        "cosas=(info,numero)\n",
        "print(cosas)\n",
        "\n",
        "print(cosas[1][5:11])\n",
        "\n",
        "print(cosas[0][2][4:7])\n",
        "print(cosas[0][2][-8:-5])\n"
      ],
      "execution_count": null,
      "outputs": [
        {
          "output_type": "stream",
          "name": "stdout",
          "text": [
            "('juan23', 'dios1234', '123.232.1.12')\n",
            "dios1234\n",
            "(0, 1, 2, 3, 4, 5, 6, 7, 8, 9, 10, 11, 12, 13, 14, 15)\n",
            "(5, 6, 7, 8, 9, 10)\n",
            "(('juan23', 'dios1234', '123.232.1.12'), (0, 1, 2, 3, 4, 5, 6, 7, 8, 9, 10, 11, 12, 13, 14, 15))\n",
            "(5, 6, 7, 8, 9, 10)\n",
            "232\n",
            "232\n"
          ]
        }
      ]
    },
    {
      "cell_type": "markdown",
      "metadata": {
        "id": "MCpPRJRh0mmE"
      },
      "source": [
        "#Métodos de las tuplas\n",
        "\n",
        "###Son los mismos de las lisas pero los que no involucren mutabilidad"
      ]
    },
    {
      "cell_type": "code",
      "metadata": {
        "colab": {
          "base_uri": "https://localhost:8080/"
        },
        "id": "Z4fWdUNU1FEl",
        "outputId": "436e9fc8-96e5-4cdb-9cd6-df311f07e713"
      },
      "source": [
        "dir(tuple)"
      ],
      "execution_count": null,
      "outputs": [
        {
          "output_type": "execute_result",
          "data": {
            "text/plain": [
              "['__add__',\n",
              " '__class__',\n",
              " '__contains__',\n",
              " '__delattr__',\n",
              " '__dir__',\n",
              " '__doc__',\n",
              " '__eq__',\n",
              " '__format__',\n",
              " '__ge__',\n",
              " '__getattribute__',\n",
              " '__getitem__',\n",
              " '__getnewargs__',\n",
              " '__gt__',\n",
              " '__hash__',\n",
              " '__init__',\n",
              " '__init_subclass__',\n",
              " '__iter__',\n",
              " '__le__',\n",
              " '__len__',\n",
              " '__lt__',\n",
              " '__mul__',\n",
              " '__ne__',\n",
              " '__new__',\n",
              " '__reduce__',\n",
              " '__reduce_ex__',\n",
              " '__repr__',\n",
              " '__rmul__',\n",
              " '__setattr__',\n",
              " '__sizeof__',\n",
              " '__str__',\n",
              " '__subclasshook__',\n",
              " 'count',\n",
              " 'index']"
            ]
          },
          "metadata": {},
          "execution_count": 1
        }
      ]
    },
    {
      "cell_type": "markdown",
      "metadata": {
        "id": "3zLPF27F225M"
      },
      "source": [
        "# Diccionarios\n",
        "### Características de los diccionarios\n",
        "- Agrupan datos pero de forma no lineal\n",
        "- Se declaran con:\n",
        " -{}\n",
        " -dict()\n",
        "- Formado por pares del tipo llave:valor, donde:\n",
        " - llave es de tipo string (siempre)\n",
        " - valor puede ser de cualquier tipo de dato, incluyend los diccionarios.\n",
        "- se seleccionan con la llave de la forma --> [\"id_llave\"]\n",
        "- son mutables\n",
        "- Son equivalentes al tipo de dato JSON del lenguaje JavaScipt (JS)\n"
      ]
    },
    {
      "cell_type": "code",
      "metadata": {
        "colab": {
          "base_uri": "https://localhost:8080/"
        },
        "id": "mru4jES737zY",
        "outputId": "ef04641e-d114-4667-d880-94cd511894d0"
      },
      "source": [
        "alumno={\"nombre\": \"Jose\"}\n",
        "print(alumno)\n",
        "print(alumno[\"nombre\"])\n",
        "alumno={\"nombre\":\"Jose\", \"nc\":\"2129229292\", \"edad\":18}\n",
        "print(alumno[\"edad\"])\n",
        "print(\"Edad del alumno= \", alumno[\"edad\"])\n",
        "print(alumno[\"nombre\"].upper())#pone el nombre en \n",
        "print(alumno)\n",
        "\n",
        "print(\"-------------------\")\n",
        "print(\"Alumno 2: \")\n",
        "alumno2=dict() #{}\n",
        "alumno2[\"nombre\"]=\"Josue\"\n",
        "print(alumno2)\n",
        "alumno2[\"nc\"]=\"2129229292\"\n",
        "alumno2[\"edad\"]=18\n",
        "print(alumno2)\n",
        "alumno2[\"edad\"]=alumno2[\"edad\"]+1\n",
        "print(alumno2)\n"
      ],
      "execution_count": null,
      "outputs": [
        {
          "output_type": "stream",
          "name": "stdout",
          "text": [
            "{'nombre': 'Jose'}\n",
            "Jose\n",
            "18\n",
            "Edad del alumno=  18\n",
            "JOSE\n",
            "{'nombre': 'Jose', 'nc': '2129229292', 'edad': 18}\n",
            "-------------------\n",
            "Alumno 2: \n",
            "{'nombre': 'Josue'}\n",
            "{'nombre': 'Josue', 'nc': '2129229292', 'edad': 18}\n",
            "{'nombre': 'Josue', 'nc': '2129229292', 'edad': 19}\n"
          ]
        }
      ]
    },
    {
      "cell_type": "code",
      "metadata": {
        "colab": {
          "base_uri": "https://localhost:8080/"
        },
        "id": "C4FWozEb8N2L",
        "outputId": "7304a1be-94a9-43ee-cb3f-f8a4682f6a06"
      },
      "source": [
        "cliente={\"id\":\"CT2121\",\n",
        "         \"nombre\":\"Josue Manzano Ponce\",\n",
        "         \"telefono\":\"casa=55896487  cel=8965423561\"}\n",
        "\n",
        "print(cliente)\n",
        "\n",
        "cliente={\"id\":\"CT2121\",\n",
        "        \"nombre\":\n",
        "            {\n",
        "             \"nombres\":[\"Josue\",\"Pepe\"],\n",
        "             \"paterno\":\"Manzano\",\n",
        "             \"materno\":\"Ponce\"\n",
        "            },\n",
        "\n",
        "       \"telefono\":\n",
        "            {\n",
        "              \"casa\":\"55896487\", \n",
        "              \"trabajo\":\"8965423561\",\n",
        "              \"celular\":\"5598635487\"\n",
        "            },\n",
        "         \n",
        "        \"productos\":\n",
        "            {\n",
        "             \"ahorro\":{\"numero_cuenta\":\"7788\", \"ahorro\":2500.5},\n",
        "          \n",
        "        \"tarjetas\":\n",
        "               [\n",
        "                  {\"tipo\":\"debito\", \"saldo\":10000.5},\n",
        "                  {\"tipo\":\"credito preferente\",\"limite\":250000.5},\n",
        "                  {\"tipo\":\"lite\",\"limit\":15000.5},\n",
        "               ]\n",
        "            },\n",
        "         \n",
        "       \"direccion\":\n",
        "           {\n",
        "             \"calle\":\"Av. central\",\n",
        "             \"numero\":1245,\n",
        "             \"colonia\":\"impulsora\",\n",
        "             \"delegacion\":\"neza\",\n",
        "             \"estado\":\n",
        "                   {\n",
        "                    \"clave\":15,\n",
        "                    \"nombre_corto\":\"EdoMex\",\n",
        "                    \"nombre\":\"Estado de México\"\n",
        "                   }\n",
        "           }\n",
        "\n",
        "         }  #llave final\n",
        "\n",
        "print(cliente[\"telefono\"][\"casa\"])\n",
        "\n",
        "print(cliente)\n",
        "\n",
        "print(cliente[\"productos\"][\"ahorro\"][\"ahorro\"])\n",
        "\n",
        "print(cliente[\"productos\"][\"tarjetas\"][2][\"limit\"])\n",
        "\n",
        "print(cliente[\"direccion\"][\"estado\"][\"nombre\"].upper())\n",
        "\n",
        "cliente[\"productos\"][\"ahorro\"][\"ahorro\"]-=1500\n",
        "\n",
        "print(cliente[\"productos\"][\"ahorro\"][\"ahorro\"])"
      ],
      "execution_count": null,
      "outputs": [
        {
          "output_type": "stream",
          "name": "stdout",
          "text": [
            "{'id': 'CT2121', 'nombre': 'Josue Manzano Ponce', 'telefono': 'casa=55896487  cel=8965423561'}\n",
            "55896487\n",
            "{'id': 'CT2121', 'nombre': {'nombres': ['Josue', 'Pepe'], 'paterno': 'Manzano', 'materno': 'Ponce'}, 'telefono': {'casa': '55896487', 'trabajo': '8965423561', 'celular': '5598635487'}, 'productos': {'ahorro': {'numero_cuenta': '7788', 'ahorro': 2500.5}, 'tarjetas': [{'tipo': 'debito', 'saldo': 10000.5}, {'tipo': 'credito preferente', 'limite': 250000.5}, {'tipo': 'lite', 'limit': 15000.5}]}, 'direccion': {'calle': 'Av. central', 'numero': 1245, 'colonia': 'impulsora', 'delegacion': 'neza', 'estado': {'clave': 15, 'nombre_corto': 'EdoMex', 'nombre': 'Estado de México'}}}\n",
            "2500.5\n",
            "15000.5\n",
            "ESTADO DE MÉXICO\n",
            "1000.5\n"
          ]
        }
      ]
    },
    {
      "cell_type": "markdown",
      "metadata": {
        "id": "wOdBDoDKDMm9"
      },
      "source": [
        "#FECHA: 11 DE NOVIEMBRE DE 2021"
      ]
    },
    {
      "cell_type": "code",
      "metadata": {
        "colab": {
          "base_uri": "https://localhost:8080/"
        },
        "id": "lgSxiUtKU0Z3",
        "outputId": "dd9290d9-d3b2-42e2-f7c3-415614eaf67d"
      },
      "source": [
        "Spiderman3={\"nombre\":\"Hombre Araña 3\",\n",
        "             \n",
        "            \"protagonistas\":\n",
        "               {\n",
        "                \"Hombres\":[\"Tobey Maguire\",\"James Franco\",\"Thomas Haden Church\"],\n",
        "                \"Mujeres\":[\"Kirsten Dunst\",\"Bryce Dallas Howard\"]      \n",
        "               },\n",
        "\n",
        "            \"Direccion\":\n",
        "            {\n",
        "              \"Director\":\"Sam Raimi\"\n",
        "             \n",
        "            },\n",
        "         \n",
        "           \"Heroes\":\n",
        "            {\n",
        "             \"heroes\":[\"Spiderman\",\"Harry Osborn\"]\n",
        "            },\n",
        "         \n",
        "             \"Villanos\":\n",
        "            {\n",
        "             \"Villanos\":[\"Sandman\",\"Venom\"]\n",
        "            },\n",
        "         \n",
        "\n",
        "         }  #llave final\n",
        "\n",
        "print(Spiderman3)"
      ],
      "execution_count": null,
      "outputs": [
        {
          "output_type": "stream",
          "name": "stdout",
          "text": [
            "{'nombre': 'Hombre Araña 3', 'protagonistas': {'Hombres': ['Tobey Maguire', 'James Franco', 'Thomas Haden Church'], 'Mujeres': ['Kirsten Dunst', 'Bryce Dallas Howard']}, 'Direccion': {'Director': 'Sam Raimi'}, 'Heroes': {'heroes': ['Spiderman', 'Harry Osborn']}, 'Villanos': {'Villanos': ['Sandman', 'Venom']}}\n"
          ]
        }
      ]
    },
    {
      "cell_type": "markdown",
      "metadata": {
        "id": "vjLbPbwOMv2y"
      },
      "source": [
        "#Estructura de control de programación\n",
        "\n",
        "Se puede crear cualquier tipo de algoritmo empleando solamente 3 estructuras de control:\n",
        "1. Secuencia:\n",
        " - La representacionde de l memoria de programa (Arquitectura Von Neuman)\n",
        "2. Seleccion:\n",
        " - Es la estructura de control que decide si un bloque de programa se ejecuta o no se ejecuta. Tambien permite seleccionar ejecutar un bloque entre un conjunto de opciones.\n",
        "  En resumen tenemos: selección simple, selección con bifurcación y seleccion múltiple\n",
        "  - Simple\n",
        "  - Bifurcacion\n",
        "  - Múltiple\n",
        "3. Repeticion:\n",
        " - Este tipo de estructura nos permite automatizar la ejecucion repetitiva de código mientras ciertas condiciones se cumplan, tenems 3 variantes de esta estrctura en todos los lenguajes de programación:\n",
        "  - Desde...hasta (Estructura for)\n",
        "  - Haz mentras (Estructura While)\n",
        "  - Haz y luego validaz (Estructura Do-While)"
      ]
    },
    {
      "cell_type": "markdown",
      "metadata": {
        "id": "lKfQdW0RSCz4"
      },
      "source": [
        "#Seleccion simple\n",
        "-- Documentar\n",
        "la estrcura if\n",
        "```\n",
        "if <CONDICION> :\n",
        "    <Cuerpo del if>\n",
        "```\n",
        "\n",
        "**NOTA** Para establecer el cuerpo de una estructura de control en Python se usan los tabuladores a la izquierda\n",
        "\n",
        "En otros lenguajes de programacion como java, c ,c++...  se usan las { }\n",
        "```\n",
        "int edad=0;\n",
        "printf(\"Dame tu edad\");\n",
        "scanf(\"%i\", &edad);\n",
        "if(edad>=18)\n",
        "{ printf(\"ERES MAYOR DE EDAD\");}\n",
        "\n",
        "printf(\"Fin del programa\");\n",
        "```"
      ]
    },
    {
      "cell_type": "code",
      "metadata": {
        "colab": {
          "base_uri": "https://localhost:8080/"
        },
        "id": "fBkOjXx0JQUB",
        "outputId": "79a287f0-f058-4058-f510-1dba5113beac"
      },
      "source": [
        "edad=int(input(\"Dame tu edad: \"))\n",
        "print(f\"tecleaste {edad} años\")\n",
        "if edad>=18:\n",
        "  print(\"ERES MAYOR DE EDAD\")\n",
        "  print(\"ALGO\")\n",
        "  print(\"otra cosa\")\n",
        "print(\"--Fin del programa--\")\n"
      ],
      "execution_count": null,
      "outputs": [
        {
          "output_type": "stream",
          "name": "stdout",
          "text": [
            "Dame tu edad: 19\n",
            "tecleaste 19 años\n",
            "ERES MAYOR DE EDAD\n",
            "ALGO\n",
            "otra cosa\n",
            "--Fin del programa--\n",
            "Dame tu calificacion: 9\n",
            "APROBADO\n",
            "--Fin del programa--\n"
          ]
        }
      ]
    },
    {
      "cell_type": "code",
      "metadata": {
        "colab": {
          "base_uri": "https://localhost:8080/"
        },
        "id": "ZmaATBE0WdHG",
        "outputId": "ea1e294b-463d-4158-e85e-17ec059f6fef"
      },
      "source": [
        "CAL=float(input(\"Dame tu calificacion: \"))\n",
        "if CAL>8:\n",
        "  print(\"APROBADO\")\n",
        "print(\"--Fin del programa--\")"
      ],
      "execution_count": null,
      "outputs": [
        {
          "output_type": "stream",
          "name": "stdout",
          "text": [
            "Dame tu calificacion: 8.1\n",
            "APROBADO\n",
            "--Fin del programa--\n"
          ]
        }
      ]
    },
    {
      "cell_type": "code",
      "metadata": {
        "colab": {
          "base_uri": "https://localhost:8080/"
        },
        "id": "2VZiBaZLXhqm",
        "outputId": "0faacbb7-7daa-405a-b618-e5ba05d58268"
      },
      "source": [
        "SUE=float(input(\"Dame tu sueldo: \"))\n",
        "AUM=0\n",
        "NSUE=0\n",
        "if SUE<1000:\n",
        "    AUM=SUE*0.15\n",
        "    NSUE=SUE+AUM\n",
        "print(NSUE)"
      ],
      "execution_count": null,
      "outputs": [
        {
          "output_type": "stream",
          "name": "stdout",
          "text": [
            "Dame tu sueldo: 85\n",
            "97.75\n"
          ]
        }
      ]
    },
    {
      "cell_type": "markdown",
      "metadata": {
        "id": "cAGOy4Ey6-_s"
      },
      "source": [
        "#FECHA: 18 DE NOVEMBRE DE 2021"
      ]
    },
    {
      "cell_type": "markdown",
      "metadata": {
        "id": "xM-Ea4g1Gn0R"
      },
      "source": [
        "# Estructura de selección con bifurcación (if-else)\n",
        "\n",
        "Esta estructura, selecciona una de las dos opciones de ejecución, se ejecuta un bloque si la condición se cumple o se ejecuta otro bloque si la condición no se cumple (else).\n",
        "```\n",
        "if <condicion>:\n",
        "   <bloque de ejecucion>\n",
        "else:\n",
        "   <bloque de ejecucion alterno>\n",
        "```"
      ]
    },
    {
      "cell_type": "code",
      "metadata": {
        "colab": {
          "base_uri": "https://localhost:8080/"
        },
        "id": "cON76cBnHe6R",
        "outputId": "da547cc8-2670-4c55-e48d-4949beb466e7"
      },
      "source": [
        "edad=int(input(\"Dame tu edad: \"))\n",
        "print(f\"Tecleaste {edad} años\")\n",
        "if edad>=18:\n",
        "    print(\"Eres mayor de edad, ten cheve\")\n",
        "else:\n",
        "    print(\"Eres menor de edad, ten boing\")\n",
        "print(\"--FIN DEL PROGRAMA--\")"
      ],
      "execution_count": 6,
      "outputs": [
        {
          "output_type": "stream",
          "name": "stdout",
          "text": [
            "Dame tu edad: 18\n",
            "Tecleaste 18 años\n",
            "Eres mayor de edad, ten cheve\n",
            "--FIN DEL PROGRAMA--\n"
          ]
        }
      ]
    },
    {
      "cell_type": "code",
      "metadata": {
        "colab": {
          "base_uri": "https://localhost:8080/"
        },
        "id": "UsinTFvsJJv4",
        "outputId": "d0a1087f-00be-42d2-c02e-dcf93508a04d"
      },
      "source": [
        "edad=int(input(\"Dame tu edad: \"))\n",
        "dinero=float(input(\"Dame tu cantidad de dinero: \"))\n",
        "print(f\"Tecleaste {edad} años\")\n",
        "print(f\"Tecleaste {dinero} pesos\")\n",
        "if edad>=18 and dinero>=36:\n",
        "    print(\"Eres mayor de edad, ten cheve\")\n",
        "else:\n",
        "    print(\"Eres menor de edad, ten boing\")\n",
        "print(\"--FIN DEL PROGRAMA--\")"
      ],
      "execution_count": 8,
      "outputs": [
        {
          "output_type": "stream",
          "name": "stdout",
          "text": [
            "Dame tu edad: 19\n",
            "Dame tu cantidad de dinero: 36\n",
            "Tecleaste 19 años\n",
            "Tecleaste 36.0 pesos\n",
            "Eres mayor de edad, ten cheve\n",
            "--FIN DEL PROGRAMA--\n"
          ]
        }
      ]
    },
    {
      "cell_type": "code",
      "metadata": {
        "colab": {
          "base_uri": "https://localhost:8080/"
        },
        "id": "YySqFKyKKiCZ",
        "outputId": "c25ad223-dec9-49f6-efdb-dd2ab4533467"
      },
      "source": [
        "edad = int (input(\"Dame tu edad: \"))\n",
        "dinero = float (input(\"¿Cuánto dinero tienes? \"))\n",
        "if edad>=18:\n",
        "    if dinero>=36:\n",
        "        print(\"Eres mayor de edad y tienes dinero, ten tu cheve\")\n",
        "    else:\n",
        "        print(\"Eres mayor de edad, pero no tienes suficiente dinero\")\n",
        "else:\n",
        "    print(\"Eres menor de edad, ten tu Boing\")\n",
        "print(\"--FIN DEL PROGRAMA--\")"
      ],
      "execution_count": 12,
      "outputs": [
        {
          "output_type": "stream",
          "name": "stdout",
          "text": [
            "Dame tu edad: 18\n",
            "¿Cuánto dinero tienes? 36\n",
            "Eres mayor de edad y tienes dinero, ten tu cheve\n",
            "--FIN DEL PROGRAMA--\n"
          ]
        }
      ]
    },
    {
      "cell_type": "code",
      "metadata": {
        "colab": {
          "base_uri": "https://localhost:8080/"
        },
        "id": "Prl9nQKULmHA",
        "outputId": "e125dea9-324e-4338-f50d-6194348a81bb"
      },
      "source": [
        "edad = int(input(\"Dame tu edad: \"))\n",
        "dinero = float(input(\"Cuanto dinero tienes: \"))\n",
        "print(f\"Tecleaste {edad} años\")\n",
        "print(f\"Tecleaste {dinero} pesos\")\n",
        "if edad >= 18:\n",
        "    if dinero>=36:\n",
        "        print(\"ten tu cheve\")\n",
        "    else:\n",
        "        print(\"no tienes suficiente dinero\")\n",
        "else:\n",
        "    if dinero>=36:\n",
        "        print(\"Tienes dinero suficiente pero no tienes la edad\")\n",
        "    else:\n",
        "        print(\"no tienes suficiente dinero, ve a jugar Roblox\")\n",
        "print(\"--FIN DEL PROGRAMA--\")"
      ],
      "execution_count": 16,
      "outputs": [
        {
          "output_type": "stream",
          "name": "stdout",
          "text": [
            "Dame tu edad: 15\n",
            "Cuanto dinero tienes: 50\n",
            "Tecleaste 15 años\n",
            "Tecleaste 50.0 dinero\n",
            "Tienes dinero suficiente pero no tienes la edad\n",
            "--FIN DEL PROGRAMA--\n"
          ]
        }
      ]
    },
    {
      "cell_type": "markdown",
      "metadata": {
        "id": "MiUJDPCVMqxA"
      },
      "source": [
        "El código anterior se puede simplificar usando una palabra reservada especial que existe en algunos lenguajes de programación:\n",
        "### elif\n"
      ]
    },
    {
      "cell_type": "code",
      "metadata": {
        "colab": {
          "base_uri": "https://localhost:8080/"
        },
        "id": "mYbz1q3sM-5g",
        "outputId": "bde260d2-3658-4692-bc4e-e513ab470547"
      },
      "source": [
        "edad = int(input(\"Dame tu edad: \"))\n",
        "dinero = float(input(\"Cuanto dinero tienes: \"))\n",
        "print(f\"Tecleaste {edad} años\")\n",
        "print(f\"Tecleaste {dinero} pesos\")\n",
        "if edad >= 18:\n",
        "    if dinero>=36:\n",
        "        print(\"ten tu cheve\")\n",
        "    else:\n",
        "        print(\"no tienes suficiente dinero\")\n",
        "elif dinero>=36:\n",
        "    print(\"Tienes dinero suficiente pero no tienes la edad\")\n",
        "else:\n",
        "    print(\"no tienes suficiente dinero, ve a jugar Roblox\")\n",
        "print(\"--FIN DEL PROGRAMA--\")"
      ],
      "execution_count": 20,
      "outputs": [
        {
          "output_type": "stream",
          "name": "stdout",
          "text": [
            "Dame tu edad: 14\n",
            "Cuanto dinero tienes: 21\n",
            "Tecleaste 14 años\n",
            "Tecleaste 21.0 dinero\n",
            "no tienes suficiente dinero, ve a jugar Roblox\n",
            "--FIN DEL PROGRAMA--\n"
          ]
        }
      ]
    },
    {
      "cell_type": "code",
      "metadata": {
        "colab": {
          "base_uri": "https://localhost:8080/"
        },
        "id": "UDWrsNFGOgrQ",
        "outputId": "e1a32387-c7d2-45fd-d05d-a89917af3476"
      },
      "source": [
        "CAL=float(input(\"Dame tu calificación: \"))\n",
        "if CAL>=8:\n",
        "    print(\"APROBADO\")\n",
        "else:\n",
        "    print(\"REPROBADO\")"
      ],
      "execution_count": 21,
      "outputs": [
        {
          "output_type": "stream",
          "name": "stdout",
          "text": [
            "Dame tu calificación: 8\n",
            "APROBADO\n",
            "--FIN DEL PROGRAMA--\n"
          ]
        }
      ]
    },
    {
      "cell_type": "code",
      "metadata": {
        "colab": {
          "base_uri": "https://localhost:8080/"
        },
        "id": "vsnQpZ0LO_Iw",
        "outputId": "1080687b-a06c-4edf-d724-d28c738edca5"
      },
      "source": [
        "#problema 2.4\n",
        "SUE=float(input(\"Dame tu sueldo: \"))\n",
        "if SUE<1000:\n",
        "    NSUE=SUE*1.15\n",
        "else:\n",
        "    NSUE=SUE*1.12\n",
        "print(f\"Tu nuevo sueldo es: {NSUE}\")"
      ],
      "execution_count": 23,
      "outputs": [
        {
          "output_type": "stream",
          "name": "stdout",
          "text": [
            "Dame tu sueldo: 1000\n",
            "Tu nuevo sueldo es: 1120.0\n"
          ]
        }
      ]
    },
    {
      "cell_type": "code",
      "metadata": {
        "colab": {
          "base_uri": "https://localhost:8080/"
        },
        "id": "qvCI6sysSDjn",
        "outputId": "1b0d94ae-65bf-4a5b-fbf7-2df4ed914d75"
      },
      "source": [
        "dia=int(input(\"Dame el día de la semana del 1-7: \"))\n",
        "if dia is 1:\n",
        "    print(\"LUNES\")\n",
        "elif dia is 2:\n",
        "    print(\"MARTES\")\n",
        "elif dia is 3:\n",
        "    print(\"MIERCOLES\")\n",
        "elif dia is 4:\n",
        "    print(\"JUEVES\")\n",
        "elif dia is 5:\n",
        "    print(\"VIERNES\")\n",
        "elif dia is 6:\n",
        "    print(\"SÁBADO\")\n",
        "elif dia is 7:\n",
        "    print(\"DOMINGO\")\n",
        "else:\n",
        "    print(\"Debe ser un numero del 1 al 7, ingresa nuevamente\")\n"
      ],
      "execution_count": 28,
      "outputs": [
        {
          "output_type": "stream",
          "name": "stdout",
          "text": [
            "Dame el día de la semana del 1-7: 7\n",
            "DOMINGO\n"
          ]
        }
      ]
    },
    {
      "cell_type": "code",
      "metadata": {
        "colab": {
          "base_uri": "https://localhost:8080/"
        },
        "id": "6Rii1qfbV313",
        "outputId": "ba90c90e-4d0d-46ee-d1ca-6b55a9c3def9"
      },
      "source": [
        "dia=int(input(\"Ingresa un número entre 1 y 7: \"))\n",
        "print(f\"capturaste el número: {dia}\")\n",
        "if dia>=1 and dia<=7:\n",
        "    if dia==1:\n",
        "        print(\"Lunes\")\n",
        "    else:\n",
        "        if dia==2:\n",
        "            print(\"martes\")\n",
        "        else:\n",
        "            if dia==3:\n",
        "                print(\"miercoles\")\n",
        "            else:\n",
        "                 if dia==4:\n",
        "                     print(\"jueves\")\n",
        "                 else:\n",
        "                     if dia==5:\n",
        "                         print(\"viernes\")\n",
        "                     else:\n",
        "                         if dia==6:\n",
        "                             print(\"sabado\")\n",
        "                         else:\n",
        "                             print(\"domingo\")\n",
        "                    \n",
        "else: \n",
        "    print(\"Ese número no esta dentro del rango\")"
      ],
      "execution_count": 37,
      "outputs": [
        {
          "output_type": "stream",
          "name": "stdout",
          "text": [
            "Ingresa un número entre 1 y 7: 7\n",
            "capturaste el número: 7\n",
            "domingo\n"
          ]
        }
      ]
    },
    {
      "cell_type": "markdown",
      "metadata": {
        "id": "LHeJmbwyauVm"
      },
      "source": [
        "# hacer un programa que pida dos numeros enteros y que imprima en pantalla lo siguiente:\n",
        " \n",
        "1. cual de ellos es el numero mayor\n",
        "2. cual de ellos es el numero menor\n",
        " o en su defecto\n",
        "Imprimir que los valores son iguales\n",
        " \n",
        "\"\"\" Hacer un programa que solicite  3 numeros enteros diferentes \n",
        "entre sí  y que imprima cual de los 3 es el mayor\n",
        "\"\"\"\n",
        " \n",
        "\"\"\" \n",
        "Hacer un programa que solicite  3 numeros enteros diferentes \n",
        "entre sí  y que imprima cual de los 3 es el menor\n",
        "\"\"\"\n",
        " \n",
        "\"\"\"\n",
        "Hacer un programa que solicite 4 numeros enteros diferentes entre si\n",
        "e imprima a la salida cual de ellos es el menor y cual de ellos es el mayor\n",
        "\"\"\""
      ]
    },
    {
      "cell_type": "markdown",
      "metadata": {
        "id": "v_RX1om7bTLF"
      },
      "source": [
        "# Selección múltiple (SWITCH)\n",
        "En pyton no existe la estructura de seleccion switch, en su lugar se emplea la palabra reservada \n",
        "\n",
        "# elif <condicion>#\n",
        "\n",
        "por ejemplo en el lenguaje C y Java sería:"
      ]
    },
    {
      "cell_type": "code",
      "metadata": {
        "colab": {
          "base_uri": "https://localhost:8080/"
        },
        "id": "27lKeXYrZjSe",
        "outputId": "72bd7685-8558-4f39-af1d-b47ff6fb82eb"
      },
      "source": [
        "#ejemplo 2.7\n",
        "NUM=int(input(\"Dame un número entre 1 y 3: \"))\n",
        "V=float(input(\"Dame un valor float: \"))\n",
        "VAL=0\n",
        "if NUM==1:\n",
        "    VAL=100*V\n",
        "elif NUM==2:\n",
        "    VAL=100**V\n",
        "elif NUM==3:\n",
        "    VAL=100/V\n",
        "else:\n",
        "    VAL=0\n",
        "print(VAL)"
      ],
      "execution_count": 39,
      "outputs": [
        {
          "output_type": "stream",
          "name": "stdout",
          "text": [
            "Dame un número entre 1 y 3: 1\n",
            "Dame un valor float: 5\n",
            "500.0\n"
          ]
        }
      ]
    }
  ]
}