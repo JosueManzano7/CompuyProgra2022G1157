{
  "nbformat": 4,
  "nbformat_minor": 0,
  "metadata": {
    "colab": {
      "name": "21octubre2021.ipynb",
      "provenance": [],
      "authorship_tag": "ABX9TyOH8ZdV0DlhQNB2RYKtdF8P",
      "include_colab_link": true
    },
    "kernelspec": {
      "name": "python3",
      "display_name": "Python 3"
    },
    "language_info": {
      "name": "python"
    }
  },
  "cells": [
    {
      "cell_type": "markdown",
      "metadata": {
        "id": "view-in-github",
        "colab_type": "text"
      },
      "source": [
        "<a href=\"https://colab.research.google.com/github/JosueManzano7/CompuyProgra2022G1157/blob/main/21octubre2021.ipynb\" target=\"_parent\"><img src=\"https://colab.research.google.com/assets/colab-badge.svg\" alt=\"Open In Colab\"/></a>"
      ]
    },
    {
      "cell_type": "markdown",
      "metadata": {
        "id": "pFOClrgCD-Ip"
      },
      "source": [
        "#FECHA: 21 DE OCTUBRE DE 2021"
      ]
    },
    {
      "cell_type": "code",
      "metadata": {
        "id": "1dESLW0WDwoj"
      },
      "source": [
        "print(\"\\u0065\")\n",
        "print(\"\\u0444\")\n",
        "print(\"\\u0620\")\n",
        "print(\"\\U00010057\")\n",
        "print(\"\\U0001F60E\")\n",
        "print(\"\\U0001F9A0\")"
      ],
      "execution_count": null,
      "outputs": []
    },
    {
      "cell_type": "markdown",
      "metadata": {
        "id": "3tweHqG2ELzo"
      },
      "source": [
        "#Función print\n",
        "\n",
        "###Se emplea para desplegar información en la salida estandar.          Normalmente un monitor\n",
        "\n",
        "- Formas de usar print\n",
        "- el argumento por defecto de print (end)\n",
        "- formato ()\n",
        "- operador f\"\""
      ]
    },
    {
      "cell_type": "code",
      "metadata": {
        "id": "YOqVgYPTEP81"
      },
      "source": [
        "nombre = \"Josue\"\n",
        "edad= 18\n",
        "casado = False\n",
        "estatura= 1.67\n",
        "\n",
        "# 1.- Con comas, concatena haciendo un castin (conversión a string automático)\n",
        "# agrga un espacio\n",
        "print(nombre,edad,casado,estatura)\n",
        "print(\"nombre: \" +nombre+ \"\\n\\tEdad: \"+str(edad)+ \"\\n\\tEsta casado: \"+str(casado)+ \"\\n\\tEstatura en metros: \"+str(estatura))\n",
        "\n",
        "#2.- con el símbolo de \"+\"\n",
        "print(nombre+ \" \"+str(edad)+\" \"+str(casado)+\" \"+str(estatura))\n",
        "\n",
        "#3.- dando formato a la salda con format\n",
        "print(\"\\nCon la función format()\")\n",
        "print(\"Nombre: {}\\n\\tEdad: {}\\n\\tEsta casado: {}\\n\\testatura en metros: {}\".format(nombre,edad,casado,estatura))\n",
        "\n",
        "#4.- con el operador f\" \"\n",
        "print(\"\\nCon el operador f\\\" \\\"\")\n",
        "print(f\"Nombre: {nombre}\\n\\tEdad: {edad}\\n\\tEsta casado: {casado}\\n\\testatura en metros: {estatura}\")\n",
        "\n",
        "#Como manejar el argumento end\n",
        "print(\"\\n Cómo usar el argumento end\")\n",
        "print(f\"Hola {nombre}\", end=\"\")\n",
        "print(\", Cómo estas?\")"
      ],
      "execution_count": null,
      "outputs": []
    }
  ]
}