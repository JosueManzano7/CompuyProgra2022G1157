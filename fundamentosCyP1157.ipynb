{
  "nbformat": 4,
  "nbformat_minor": 0,
  "metadata": {
    "colab": {
      "name": "fundamentosCyP1157.ipynb",
      "provenance": [],
      "authorship_tag": "ABX9TyPQJ+wxpX4nx+J3i2xCRLHX",
      "include_colab_link": true
    },
    "kernelspec": {
      "name": "python3",
      "display_name": "Python 3"
    },
    "language_info": {
      "name": "python"
    }
  },
  "cells": [
    {
      "cell_type": "markdown",
      "metadata": {
        "id": "view-in-github",
        "colab_type": "text"
      },
      "source": [
        "<a href=\"https://colab.research.google.com/github/JosueManzano7/CompuyProgra2022G1157/blob/main/fundamentosCyP1157.ipynb\" target=\"_parent\"><img src=\"https://colab.research.google.com/assets/colab-badge.svg\" alt=\"Open In Colab\"/></a>"
      ]
    },
    {
      "cell_type": "markdown",
      "metadata": {
        "id": "ciBTZFOazaH0"
      },
      "source": [
        "#Fecha: 12 de octubre de 2021"
      ]
    },
    {
      "cell_type": "code",
      "metadata": {
        "colab": {
          "base_uri": "https://localhost:8080/"
        },
        "id": "BtQ5OGD6VgYb",
        "outputId": "9a6a8e40-59fb-4718-86c4-de69b6c76579"
      },
      "source": [
        "\n",
        "\n",
        "nombre = 'Josue' #Tipo de dato String (cadena de caracteres)\n",
        "print(nombre)\n",
        "\n"
      ],
      "execution_count": null,
      "outputs": [
        {
          "output_type": "stream",
          "name": "stdout",
          "text": [
            "Josue\n"
          ]
        }
      ]
    },
    {
      "cell_type": "markdown",
      "metadata": {
        "id": "-mF6PkwvXMyi"
      },
      "source": [
        "# Tipos de datos en Python\n",
        "\n",
        "# Tipos simples\n",
        "- str --> String cadena de caractéres\n",
        "- int --> Números enteros\n",
        "- float --> Números con notación de  punto flotante\n",
        "- complex --> Números complejos\n",
        "- bool --> Booleano (True o false)\n",
        "- byte --> 8 bits\n",
        "\n",
        "# Tipos de datos estructurados \n",
        "(compuestos)\n",
        "\n",
        "- list --> Listas (arreglos en otros lenguajes)\n",
        "- Duple -->Listas no mutables\n",
        "- dict --> diccionarios\n",
        "- set y frozenset --> Conjuntos\n",
        "\n"
      ]
    },
    {
      "cell_type": "code",
      "metadata": {
        "colab": {
          "base_uri": "https://localhost:8080/"
        },
        "id": "eFaR5nL8ZL4V",
        "outputId": "d726dbd4-1301-403d-8320-350c1051f33f"
      },
      "source": [
        "import sys\n",
        "edad=19\n",
        "print(\"Tu edad es: \",edad) #al final de una línea de código\n",
        "# este es un comentario de linea simple\n",
        "\n",
        "\n",
        "\"\"\"\n",
        "Cometario de múltiple línea\n",
        "En lenguaje c, c++ y Java el comentario de múltiple línea es con \n",
        "/* .....*/\n",
        "\n",
        "En lenguaje c, c++ y Java el comentario de una sola línea es con \n",
        "// ... //\n",
        "\n",
        "Aqui puede explicar en prosa el segento de un código para futura\n",
        "\n",
        "\"\"\"\n",
        "#Tipos de datos númericos\n",
        "\n",
        "sys.getsizeof(edad) #Sirve para ver el tamaño de memoria de edad bits\n",
        "#El tipo de dato INT utiliza diferente cantidad de bits segun el\n",
        "#lenguaje de programación. Ej en C utiliza 16 bits\n",
        "\n",
        "edad =edad+1\n",
        "print(edad)\n",
        "\n",
        "estatura = 1.56\n",
        "print(\"Tu estatura: \", estatura)\n",
        "print (sys.getsizeof(estatura))\n",
        "estatura = estatura + 0.1\n",
        "print(estatura)\n",
        "print(round(estatura,2)) #Con este se redonde a 2 decimales\n",
        "\n",
        "edad +=1 # edad = edad + 1\n",
        "print(\"Tu edad es: \",edad)\n",
        "edad -=1 #edad = edad - 1\n",
        "print(\"Tu edad es: \",edad)\n",
        "\n",
        "edad+=1\n",
        "edad /=2 #edad = edad / 2\n",
        "print(\"La mitad de tu edad es: \",edad)\n",
        "\n",
        "edad= 21\n",
        "#volver a calcular la mitas de la edad pero soo dejar parte entera\n",
        "edad = edad //2\n",
        "print(\"La mitad de tu edad es: \", edad)\n",
        "\n",
        "#En la mayoria de los lenguajes no permite operaciones entre diferentes tipos de datos\n",
        "#en python no es el caso\n",
        "\n",
        "numero = edad/2.0\n",
        "print(numero)\n",
        "\n",
        "numero*=3 #numero = numero*3\n",
        "print(numero)\n",
        "\n",
        "numero= 5.0\n",
        "print(pow(5,2))\n",
        "numero= numero**3 #para potencias\n",
        "print(numero)\n",
        "\n"
      ],
      "execution_count": null,
      "outputs": [
        {
          "output_type": "stream",
          "name": "stdout",
          "text": [
            "Tu edad es:  19\n",
            "20\n",
            "Tu estatura:  1.56\n",
            "24\n",
            "1.6600000000000001\n",
            "1.66\n",
            "Tu edad es:  21\n",
            "Tu edad es:  20\n",
            "La mitad de tu edad es:  10.5\n",
            "La mitad de tu edad es:  10\n",
            "5.0\n",
            "15.0\n",
            "25\n",
            "125.0\n",
            "10.5\n"
          ]
        }
      ]
    },
    {
      "cell_type": "code",
      "metadata": {
        "colab": {
          "base_uri": "https://localhost:8080/"
        },
        "id": "O-xZRA_heGUS",
        "outputId": "62a8447c-cffc-43ae-82a5-97794e33339f"
      },
      "source": [
        "#operador modulo\n",
        "numero=21\n",
        "print(numero/2) #division\n",
        "print(numero//2) #division solo entero\n",
        "print(numero%2) #residuo de división\n",
        "\n",
        "numero =24\n",
        "print(\"Residuo de 24/5: \", numero%5)\n",
        "\n",
        "print(numero%2)\n",
        "\n",
        "#Operadores relacionales (logicos)\n",
        "print(\"24 es par? \",numero%2==0)\n",
        "\n",
        "print(\"24 es mayor que 23\", numero>23) #mayor que\n",
        "print(\"24 es diferente de 23: \", numero!=23) #diferencia\n",
        "print(\"24 es menor que 23: \", numero<23)#menor que\n",
        "\n",
        "print(\"24 es mayor o igual que 24: \", numero>=24)#mayor igual que\n",
        "print(\"24 es menor o igual que 23: \", numero<=23)#menor igual que\n",
        "\n",
        "print(\"El tipo de dato de la varible numero es: \", type(numero))\n",
        "print(\"El tipo de dato de la varible numero/2 es: \", type(numero/2.0))\n"
      ],
      "execution_count": null,
      "outputs": [
        {
          "output_type": "stream",
          "name": "stdout",
          "text": [
            "10.5\n",
            "10\n",
            "1\n",
            "Residuo de 24/5:  4\n",
            "0\n",
            "24 es par?  True\n",
            "24 es mayor que 23 True\n",
            "24 es diferente de 23:  True\n",
            "24 es menor que 23:  False\n",
            "24 es mayor o igual que 24:  True\n",
            "24 es menor o igual que 23:  False\n",
            "El tipo de dato de la varible numero es:  <class 'int'>\n",
            "El tipo de dato de la varible numero/2 es:  <class 'float'>\n"
          ]
        }
      ]
    },
    {
      "cell_type": "markdown",
      "metadata": {
        "id": "NidFPrFppiK5"
      },
      "source": [
        "#Tipo de dato String (str) en Python\n",
        "- Se maneja como un arreglo (tipo de dato compuesto)\n",
        "- Se puede acceder a los elementos de String por medio del índice del caractér\n",
        "- Mutable\n",
        "- Tiene métodos útiles (potentes)\n",
        "- Slicing"
      ]
    },
    {
      "cell_type": "code",
      "metadata": {
        "colab": {
          "base_uri": "https://localhost:8080/"
        },
        "id": "uLa0kmmJqOOi",
        "outputId": "aa98c644-8479-43b9-fc81-b920d3719353"
      },
      "source": [
        "nombre = 'Josue'\n",
        "carrera = 'Ingenieria en computación'\n",
        "frase= \"\"\"El conocimiento \n",
        "me persigue, .... pero\n",
        "yo soy más rápido\n",
        "\"\"\"\n",
        "print(nombre)\n",
        "print(carrera)\n",
        "print(frase)\n",
        "\n",
        "#La función type de Python te devuelve el tipo de dato de una variable\n",
        "print(type(nombre))\n",
        "\n",
        "apellido = str(\"Perez\")\n",
        "print(apellido)"
      ],
      "execution_count": null,
      "outputs": [
        {
          "output_type": "stream",
          "name": "stdout",
          "text": [
            "Josue\n",
            "Ingenieria en computación\n",
            "El conocimiento \n",
            "me persigue, .... pero\n",
            "yo soy más rápido\n",
            "\n",
            "<class 'str'>\n",
            "Perez\n"
          ]
        }
      ]
    },
    {
      "cell_type": "markdown",
      "metadata": {
        "id": "vfC1Cf4Esd07"
      },
      "source": [
        "#Feha: 14 de octubre de 2021"
      ]
    },
    {
      "cell_type": "markdown",
      "metadata": {
        "id": "WnxOMlXUpMWt"
      },
      "source": [
        "##Una clase (class) es un tipo de dato compuesto\n"
      ]
    },
    {
      "cell_type": "markdown",
      "metadata": {
        "id": "SzI3E3S6rjvs"
      },
      "source": [
        "#A la sintaxis escrita para elegir un elemento de un grupo de datos se le llama selector\n",
        "\n",
        "En el caso de Stings y listas (lst) se usan los caracteres '['y']'\n",
        "\n",
        "1. En todos los lenguajes los arreglos inician en 0.\n",
        "2. En python no existe como tal el tipo de dato arreglo, el concepto es sustituido por las listas.\n",
        "3. Los Strings se comportan como arreglos en la mayoría de los lenguajes.\n",
        "4. En python se acepta el indexado negativo, en otros lenguajes NO.\n",
        "\n"
      ]
    },
    {
      "cell_type": "code",
      "metadata": {
        "id": "Bmv-333Asb0T"
      },
      "source": [
        "carrera =\"Ingeniería en computación\"\n",
        "print(carrera)\n",
        "print(carrera[8])\n",
        "print(carrera[24])\n",
        "print(carrera[-1])\n",
        "print(carrera[-25])\n",
        "\n",
        "#Adelantando el tema \n",
        "for letra in carrera:\n",
        "  print(\"-->\",letra,\"<--\")"
      ],
      "execution_count": null,
      "outputs": []
    },
    {
      "cell_type": "markdown",
      "metadata": {
        "id": "s5LTO_jsvdc0"
      },
      "source": [
        "#Slicing (rebanado) de cadenas\n",
        "\n",
        "Permite seleccionar subcadenas con el operador\n",
        "\n",
        "####[inicio : stop : incremento]\n",
        "El Stop no se incluye, es por eso que debemo de agregar una posición extra.\n",
        "\n",
        "###Slicing y valores por defecto\n",
        "inicio por defecto siempre será 0 \n",
        "\n",
        "stop: tamaño del arreglo (indexado positivo)\n",
        "0 (en un indexado negativo)\n",
        "\n",
        "incremento: es 1 (indexado negativo)"
      ]
    },
    {
      "cell_type": "code",
      "metadata": {
        "colab": {
          "base_uri": "https://localhost:8080/"
        },
        "id": "q7dsbh1PveTD",
        "outputId": "1c18a6c9-002a-4f71-c4a4-e8b07970583d"
      },
      "source": [
        "carrera =\"Ingeniería en computación\"\n",
        "print(carrera[0:10:1])\n",
        "print(carrera[14:25:1])\n",
        "#Lo mismo pero con indexado negativo\n",
        "print(carrera[-11:-1:1])\n",
        "\n",
        "print(carrera[:10:]) #Pone valores por defecto\n",
        "print(carrera[14:25:])\n",
        "print(carrera[-11::1])\n",
        "\n",
        "#SOLUCIÓN PREVIA\n",
        "print(\"-------------\")\n",
        "print(carrera[-11:-1:1])\n",
        "print(carrera[-11::1]) #print(carrera[-11::])\n",
        "\n",
        "# Un ejercicio más para ver incremento\n",
        "print(carrera[0:10:2])\n",
        "print(carrera[-1:-12:-1])\n",
        "print(carrera[25:13:-1])\n"
      ],
      "execution_count": 39,
      "outputs": [
        {
          "output_type": "stream",
          "name": "stdout",
          "text": [
            "Ingeniería\n",
            "computación\n",
            "computació\n",
            "Ingeniería\n",
            "computación\n",
            "computación\n",
            "-------------\n",
            "computació\n",
            "computación\n",
            "Igneí\n",
            "nóicatupmoc\n",
            "nóicatupmoc\n"
          ]
        }
      ]
    },
    {
      "cell_type": "markdown",
      "metadata": {
        "id": "RFdXlu6U0h6R"
      },
      "source": [
        "#String y sus métodos\n",
        "\n",
        "##Todos los tipos de dato en Python son objetos Clases de la POO\n",
        "\n",
        "###Lo cual sigifica que tiene atributos y métodos\n",
        "\n",
        "\n",
        "\n",
        "## dir() y help() funciones para obtener ayuda del lenguaje Python\n",
        "\n",
        "### dir muestra las funciones de un tipo de dato\n",
        "\n",
        "###help muestra la misma ayuda pero a detalle\n",
        "\n",
        "Método que inician con doble guion bajo son privados de uso interno del programa, no deberíamos usarlos\n",
        "\n",
        "Todos los demás son para uso exterior (usuario)"
      ]
    },
    {
      "cell_type": "code",
      "metadata": {
        "colab": {
          "base_uri": "https://localhost:8080/"
        },
        "id": "-gBMH8V807BL",
        "outputId": "325b13cf-5d41-4139-d245-ac6b317a9c6a"
      },
      "source": [
        "frutas = \"  limon , fresa, manzana  , aguacate  \"\n",
        "nombre=\"josue\"\n",
        "print(frutas)\n",
        "dir(frutas)\n",
        "\n",
        "print( nombre.capitalize() )#La primer letra la pone en mayuscula\n",
        "print( nombre.upper() )#Poe todas las letras en mayuscula\n",
        "print(frutas.replace('a','4').replace('e','3').upper())\n",
        "print(frutas)\n",
        "#help(str)    \n",
        "frutas=frutas.replace('a','4').replace('e','3').upper()\n",
        "print(frutas)\n",
        "\n",
        "print(\"-.-.-.-.-.-.-.-.-.-.-.-.-.-.-.-.-\")\n",
        "frutas = \"  limon , fresa, manzana  , aguacate  \"\n",
        "print(frutas.strip()) #Quta los espacios \n",
        "print(frutas.split(',')) #Separa el string en espacios\n",
        "print(frutas.index('n'))#Devuelve la posicion de un caracter\n",
        "print(frutas.find('n'))"
      ],
      "execution_count": 68,
      "outputs": [
        {
          "output_type": "stream",
          "name": "stdout",
          "text": [
            "  limon , fresa, manzana  , aguacate  \n",
            "Josue\n",
            "JOSUE\n",
            "  LIMON , FR3S4, M4NZ4N4  , 4GU4C4T3  \n",
            "  limon , fresa, manzana  , aguacate  \n",
            "  LIMON , FR3S4, M4NZ4N4  , 4GU4C4T3  \n",
            "-.-.-.-.-.-.-.-.-.-.-.-.-.-.-.-.-\n",
            "limon , fresa, manzana  , aguacate\n",
            "['  limon ', ' fresa', ' manzana  ', ' aguacate  ']\n",
            "6\n",
            "6\n"
          ]
        }
      ]
    },
    {
      "cell_type": "code",
      "metadata": {
        "id": "Yn5jbPsw7kPl"
      },
      "source": [
        ""
      ],
      "execution_count": null,
      "outputs": []
    },
    {
      "cell_type": "markdown",
      "metadata": {
        "id": "8J7KNSt88YMG"
      },
      "source": [
        "#String y caracteres de escape\n",
        "Josue\n",
        "- \\\" --> \"\n",
        "- \\' --> '\n",
        "- \\n --> Salto de linea (tecla enter)\n",
        "- \\t --> tabulador espacios a la izquierda\n",
        "- \\uxxxx --> Caracteres unicode\n",
        "- \\Uxxxxxxxx --> unicode extendido"
      ]
    },
    {
      "cell_type": "code",
      "metadata": {
        "colab": {
          "base_uri": "https://localhost:8080/"
        },
        "id": "gcjQgKIc8zd7",
        "outputId": "06b87656-7f43-403b-eb0a-2c838e57bdde"
      },
      "source": [
        "print(\"\\\"Jose\\\"\")\n",
        "nombre=\"\\\"Jose\\\"\"\n",
        "print(nombre)\n",
        "carrera =\"Ingenieria \\n\\ten \\n\\t\\tComputación\"\n",
        "print(carrera)"
      ],
      "execution_count": 80,
      "outputs": [
        {
          "output_type": "stream",
          "name": "stdout",
          "text": [
            "\"Jose\"\n",
            "\"Jose\"\n",
            "Ingenieria \n",
            "\ten \n",
            "\t\tComputación\n"
          ]
        }
      ]
    }
  ]
}