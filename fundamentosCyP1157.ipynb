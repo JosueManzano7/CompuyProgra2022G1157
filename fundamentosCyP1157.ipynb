{
  "nbformat": 4,
  "nbformat_minor": 0,
  "metadata": {
    "colab": {
      "name": "fundamentosCyP1157.ipynb",
      "provenance": []
    },
    "kernelspec": {
      "name": "python3",
      "display_name": "Python 3"
    },
    "language_info": {
      "name": "python"
    }
  },
  "cells": [
    {
      "cell_type": "markdown",
      "metadata": {
        "id": "ciBTZFOazaH0"
      },
      "source": [
        "#Fecha: 12 de octubre de 2021"
      ]
    },
    {
      "cell_type": "code",
      "metadata": {
        "colab": {
          "base_uri": "https://localhost:8080/"
        },
        "id": "BtQ5OGD6VgYb",
        "outputId": "9a6a8e40-59fb-4718-86c4-de69b6c76579"
      },
      "source": [
        "\n",
        "\n",
        "nombre = 'Josue' #Tipo de dato String (cadena de caracteres)\n",
        "print(nombre)\n",
        "\n"
      ],
      "execution_count": null,
      "outputs": [
        {
          "output_type": "stream",
          "name": "stdout",
          "text": [
            "Josue\n"
          ]
        }
      ]
    },
    {
      "cell_type": "markdown",
      "metadata": {
        "id": "-mF6PkwvXMyi"
      },
      "source": [
        "# Tipos de datos en Python\n",
        "\n",
        "# Tipos simples\n",
        "- str --> String cadena de caractéres\n",
        "- int --> Números enteros\n",
        "- float --> Números con notación de  punto flotante\n",
        "- complex --> Números complejos\n",
        "- bool --> Booleano (True o false)\n",
        "- byte --> 8 bits\n",
        "\n",
        "# Tipos de datos estructurados \n",
        "(compuestos)\n",
        "\n",
        "- list --> Listas (arreglos en otros lenguajes)\n",
        "- Duple -->Listas no mutables\n",
        "- dict --> diccionarios\n",
        "- set y frozenset --> Conjuntos\n",
        "\n"
      ]
    },
    {
      "cell_type": "code",
      "metadata": {
        "colab": {
          "base_uri": "https://localhost:8080/"
        },
        "id": "eFaR5nL8ZL4V",
        "outputId": "d726dbd4-1301-403d-8320-350c1051f33f"
      },
      "source": [
        "import sys\n",
        "edad=19\n",
        "print(\"Tu edad es: \",edad) #al final de una línea de código\n",
        "# este es un comentario de linea simple\n",
        "\n",
        "\n",
        "\"\"\"\n",
        "Cometario de múltiple línea\n",
        "En lenguaje c, c++ y Java el comentario de múltiple línea es con \n",
        "/* .....*/\n",
        "\n",
        "En lenguaje c, c++ y Java el comentario de una sola línea es con \n",
        "// ... //\n",
        "\n",
        "Aqui puede explicar en prosa el segento de un código para futura\n",
        "\n",
        "\"\"\"\n",
        "#Tipos de datos númericos\n",
        "\n",
        "sys.getsizeof(edad) #Sirve para ver el tamaño de memoria de edad bits\n",
        "#El tipo de dato INT utiliza diferente cantidad de bits segun el\n",
        "#lenguaje de programación. Ej en C utiliza 16 bits\n",
        "\n",
        "edad =edad+1\n",
        "print(edad)\n",
        "\n",
        "estatura = 1.56\n",
        "print(\"Tu estatura: \", estatura)\n",
        "print (sys.getsizeof(estatura))\n",
        "estatura = estatura + 0.1\n",
        "print(estatura)\n",
        "print(round(estatura,2)) #Con este se redonde a 2 decimales\n",
        "\n",
        "edad +=1 # edad = edad + 1\n",
        "print(\"Tu edad es: \",edad)\n",
        "edad -=1 #edad = edad - 1\n",
        "print(\"Tu edad es: \",edad)\n",
        "\n",
        "edad+=1\n",
        "edad /=2 #edad = edad / 2\n",
        "print(\"La mitad de tu edad es: \",edad)\n",
        "\n",
        "edad= 21\n",
        "#volver a calcular la mitas de la edad pero soo dejar parte entera\n",
        "edad = edad //2\n",
        "print(\"La mitad de tu edad es: \", edad)\n",
        "\n",
        "#En la mayoria de los lenguajes no permite operaciones entre diferentes tipos de datos\n",
        "#en python no es el caso\n",
        "\n",
        "numero = edad/2.0\n",
        "print(numero)\n",
        "\n",
        "numero*=3 #numero = numero*3\n",
        "print(numero)\n",
        "\n",
        "numero= 5.0\n",
        "print(pow(5,2))\n",
        "numero= numero**3 #para potencias\n",
        "print(numero)\n",
        "\n"
      ],
      "execution_count": null,
      "outputs": [
        {
          "output_type": "stream",
          "name": "stdout",
          "text": [
            "Tu edad es:  19\n",
            "20\n",
            "Tu estatura:  1.56\n",
            "24\n",
            "1.6600000000000001\n",
            "1.66\n",
            "Tu edad es:  21\n",
            "Tu edad es:  20\n",
            "La mitad de tu edad es:  10.5\n",
            "La mitad de tu edad es:  10\n",
            "5.0\n",
            "15.0\n",
            "25\n",
            "125.0\n",
            "10.5\n"
          ]
        }
      ]
    },
    {
      "cell_type": "code",
      "metadata": {
        "colab": {
          "base_uri": "https://localhost:8080/"
        },
        "id": "O-xZRA_heGUS",
        "outputId": "62a8447c-cffc-43ae-82a5-97794e33339f"
      },
      "source": [
        "#operador modulo\n",
        "numero=21\n",
        "print(numero/2) #division\n",
        "print(numero//2) #division solo entero\n",
        "print(numero%2) #residuo de división\n",
        "\n",
        "numero =24\n",
        "print(\"Residuo de 24/5: \", numero%5)\n",
        "\n",
        "print(numero%2)\n",
        "\n",
        "#Operadores relacionales (logicos)\n",
        "print(\"24 es par? \",numero%2==0)\n",
        "\n",
        "print(\"24 es mayor que 23\", numero>23) #mayor que\n",
        "print(\"24 es diferente de 23: \", numero!=23) #diferencia\n",
        "print(\"24 es menor que 23: \", numero<23)#menor que\n",
        "\n",
        "print(\"24 es mayor o igual que 24: \", numero>=24)#mayor igual que\n",
        "print(\"24 es menor o igual que 23: \", numero<=23)#menor igual que\n",
        "\n",
        "print(\"El tipo de dato de la varible numero es: \", type(numero))\n",
        "print(\"El tipo de dato de la varible numero/2 es: \", type(numero/2.0))\n"
      ],
      "execution_count": null,
      "outputs": [
        {
          "output_type": "stream",
          "name": "stdout",
          "text": [
            "10.5\n",
            "10\n",
            "1\n",
            "Residuo de 24/5:  4\n",
            "0\n",
            "24 es par?  True\n",
            "24 es mayor que 23 True\n",
            "24 es diferente de 23:  True\n",
            "24 es menor que 23:  False\n",
            "24 es mayor o igual que 24:  True\n",
            "24 es menor o igual que 23:  False\n",
            "El tipo de dato de la varible numero es:  <class 'int'>\n",
            "El tipo de dato de la varible numero/2 es:  <class 'float'>\n"
          ]
        }
      ]
    },
    {
      "cell_type": "markdown",
      "metadata": {
        "id": "NidFPrFppiK5"
      },
      "source": [
        "#Tipo de dato String (str) en Python\n",
        "- Se maneja como un arreglo (tipo de dato compuesto)\n",
        "- Se puede acceder a los elementos de String por medio del índice del caractér\n",
        "- Mutable\n",
        "- Tiene métodos útiles (potentes)\n",
        "- Slicing"
      ]
    },
    {
      "cell_type": "code",
      "metadata": {
        "colab": {
          "base_uri": "https://localhost:8080/"
        },
        "id": "uLa0kmmJqOOi",
        "outputId": "aa98c644-8479-43b9-fc81-b920d3719353"
      },
      "source": [
        "nombre = 'Josue'\n",
        "carrera = 'Ingenieria en computación'\n",
        "frase= \"\"\"El conocimiento \n",
        "me persigue, .... pero\n",
        "yo soy más rápido\n",
        "\"\"\"\n",
        "print(nombre)\n",
        "print(carrera)\n",
        "print(frase)\n",
        "\n",
        "#La función type de Python te devuelve el tipo de dato de una variable\n",
        "print(type(nombre))\n",
        "\n",
        "apellido = str(\"Perez\")\n",
        "print(apellido)"
      ],
      "execution_count": null,
      "outputs": [
        {
          "output_type": "stream",
          "name": "stdout",
          "text": [
            "Josue\n",
            "Ingenieria en computación\n",
            "El conocimiento \n",
            "me persigue, .... pero\n",
            "yo soy más rápido\n",
            "\n",
            "<class 'str'>\n",
            "Perez\n"
          ]
        }
      ]
    }
  ]
}