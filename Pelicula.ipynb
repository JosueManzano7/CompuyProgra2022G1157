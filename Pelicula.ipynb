{
  "nbformat": 4,
  "nbformat_minor": 0,
  "metadata": {
    "colab": {
      "name": "Untitled1.ipynb",
      "provenance": [],
      "authorship_tag": "ABX9TyMX/3JzUtfm9bMjsOi6skoO",
      "include_colab_link": true
    },
    "kernelspec": {
      "name": "python3",
      "display_name": "Python 3"
    },
    "language_info": {
      "name": "python"
    }
  },
  "cells": [
    {
      "cell_type": "markdown",
      "metadata": {
        "id": "view-in-github",
        "colab_type": "text"
      },
      "source": [
        "<a href=\"https://colab.research.google.com/github/JosueManzano7/CompuyProgra2022G1157/blob/main/Pelicula.ipynb\" target=\"_parent\"><img src=\"https://colab.research.google.com/assets/colab-badge.svg\" alt=\"Open In Colab\"/></a>"
      ]
    },
    {
      "cell_type": "code",
      "metadata": {
        "id": "qCxFVvtLJWUR"
      },
      "source": [
        "Spiderman3={\"nombre\":\"Hombre Araña 3\",\n",
        "             \"protagonistas\":\n",
        "               {\n",
        "                \"Hombres\":[\"\tTobey Maguire\",\"James Franco\",\"Thomas Haden Church\"],\n",
        "                \"Mujeres\":[\"Kirsten Dunst\",\"Bryce Dallas Howard\"]      \n",
        "               },\n",
        "\n",
        "            \"Direccion\":\n",
        "            {\n",
        "              \"Director\":\"Sam Raii\"\n",
        "             \n",
        "            },\n",
        "         \n",
        "           \"Heroes\":\n",
        "            {\n",
        "             \"heroes\":[\"Spiderman\",\"Harry Osborn\"]\n",
        "            },\n",
        "         \n",
        "             \"Villanos\":\n",
        "            {\n",
        "             \"Villanos\":[\"Sandman\",\"Harry Venom\"]\n",
        "            },\n",
        "         \n",
        "           \n",
        "\n",
        "         }  #llave final\n",
        "\n"
      ],
      "execution_count": 1,
      "outputs": []
    }
  ]
}